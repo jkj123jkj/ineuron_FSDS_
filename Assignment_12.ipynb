{
 "cells": [
  {
   "cell_type": "raw",
   "id": "fa8a35b8",
   "metadata": {},
   "source": [
    "1. In what modes should the PdfFileReader() and PdfFileWriter() File objects will be opened?"
   ]
  },
  {
   "cell_type": "code",
   "execution_count": null,
   "id": "89a78456",
   "metadata": {},
   "outputs": [],
   "source": [
    "PdfFileReader() needs to be opened in read-binary mode by passing 'rb' as the second argument to open().\n",
    "PdfFileWriter() needs to be opened in write-binary mode with 'wb'."
   ]
  },
  {
   "cell_type": "raw",
   "id": "6fb679ac",
   "metadata": {},
   "source": []
  },
  {
   "cell_type": "raw",
   "id": "01b9a612",
   "metadata": {},
   "source": [
    "2. From a PdfFileReader object, how do you get a Page object for page 5?"
   ]
  },
  {
   "cell_type": "code",
   "execution_count": null,
   "id": "13068118",
   "metadata": {},
   "outputs": [],
   "source": [
    "we can get a Page object by calling the getPage() method on a PdfFileReader object and passing it the page number\n",
    "of the page you are interested in our case, 5"
   ]
  },
  {
   "cell_type": "raw",
   "id": "38b0d540",
   "metadata": {},
   "source": []
  },
  {
   "cell_type": "raw",
   "id": "d90e9739",
   "metadata": {},
   "source": [
    "3. What PdfFileReader variable stores the number of pages in the PDF document?"
   ]
  },
  {
   "cell_type": "code",
   "execution_count": null,
   "id": "c401cd6d",
   "metadata": {},
   "outputs": [],
   "source": [
    "The total number of pages in the document is stored in the numPages attribute of a PdfFileReader object"
   ]
  },
  {
   "cell_type": "raw",
   "id": "e4306048",
   "metadata": {},
   "source": []
  },
  {
   "cell_type": "raw",
   "id": "39950d6c",
   "metadata": {},
   "source": [
    "4. If a PdfFileReader object’s PDF is encrypted with the password swordfish, what must you do before you can obtain\n",
    "Page objects from it?"
   ]
  },
  {
   "cell_type": "code",
   "execution_count": null,
   "id": "f6bbd313",
   "metadata": {},
   "outputs": [],
   "source": [
    "Call decrypt('swordfish')"
   ]
  },
  {
   "cell_type": "raw",
   "id": "785e2ccf",
   "metadata": {},
   "source": []
  },
  {
   "cell_type": "raw",
   "id": "ae3d0f41",
   "metadata": {},
   "source": [
    "5. What methods do you use to rotate a page?"
   ]
  },
  {
   "cell_type": "code",
   "execution_count": null,
   "id": "e1613de5",
   "metadata": {},
   "outputs": [],
   "source": [
    "object_name.rotateClockwise(value)"
   ]
  },
  {
   "cell_type": "raw",
   "id": "9b61828d",
   "metadata": {},
   "source": []
  },
  {
   "cell_type": "raw",
   "id": "6f9eeeeb",
   "metadata": {},
   "source": [
    "6. What is the difference between a Run object and a Paragraph object?"
   ]
  },
  {
   "cell_type": "code",
   "execution_count": null,
   "id": "965370fd",
   "metadata": {},
   "outputs": [],
   "source": [
    "A document contains multiple paragraphs. A paragraph begins on a new line and contains multiple runs. \n",
    "Runs are contiguous groups of characters within the a paragraph."
   ]
  },
  {
   "cell_type": "raw",
   "id": "d1616b8b",
   "metadata": {},
   "source": []
  },
  {
   "cell_type": "raw",
   "id": "842fe832",
   "metadata": {},
   "source": [
    "7. How do you obtain a list of Paragraph objects for a Document object that’s stored in a variable named doc?"
   ]
  },
  {
   "cell_type": "code",
   "execution_count": null,
   "id": "1218a05b",
   "metadata": {},
   "outputs": [],
   "source": [
    "doc.paragraphs() \n",
    "# we get A list of Paragraph instances corresponding to the paragraphs in the document, in document order."
   ]
  },
  {
   "cell_type": "raw",
   "id": "f733b083",
   "metadata": {},
   "source": []
  },
  {
   "cell_type": "raw",
   "id": "fa3880ce",
   "metadata": {},
   "source": [
    "8. What type of object has bold, underline, italic, strike, and outline variables?"
   ]
  },
  {
   "cell_type": "code",
   "execution_count": null,
   "id": "5a2ab2d3",
   "metadata": {},
   "outputs": [],
   "source": [
    "A Run object has these variables (not a paragraph)"
   ]
  },
  {
   "cell_type": "raw",
   "id": "6e79cd25",
   "metadata": {},
   "source": []
  },
  {
   "cell_type": "raw",
   "id": "207f9131",
   "metadata": {},
   "source": [
    "9. What is the difference between False, True, and None for the bold variable?"
   ]
  },
  {
   "cell_type": "code",
   "execution_count": null,
   "id": "4738b994",
   "metadata": {},
   "outputs": [],
   "source": [
    "True always makes the Run object bolded and\n",
    "False makes it always not bolded, no matter what the style's bold setting is. \n",
    "None will make the Run object just use the style's bold setting."
   ]
  },
  {
   "cell_type": "raw",
   "id": "625a99b5",
   "metadata": {},
   "source": []
  },
  {
   "cell_type": "raw",
   "id": "59c4d541",
   "metadata": {},
   "source": [
    "10. How do you create a Document object for a new Word document"
   ]
  },
  {
   "cell_type": "code",
   "execution_count": null,
   "id": "50cca9ed",
   "metadata": {},
   "outputs": [],
   "source": [
    "Call the docx.Document() function."
   ]
  },
  {
   "cell_type": "raw",
   "id": "ed0270ff",
   "metadata": {},
   "source": []
  },
  {
   "cell_type": "raw",
   "id": "0894f43d",
   "metadata": {},
   "source": [
    "11. How do you add a paragraph with the text 'Hello, there!' to a Document object stored in a variable named doc?"
   ]
  },
  {
   "cell_type": "code",
   "execution_count": null,
   "id": "d8ce991b",
   "metadata": {},
   "outputs": [],
   "source": [
    "doc.add_paragraph('Hello there!')"
   ]
  },
  {
   "cell_type": "raw",
   "id": "5330351b",
   "metadata": {},
   "source": []
  },
  {
   "cell_type": "raw",
   "id": "d72eb7ba",
   "metadata": {},
   "source": [
    "12. What integers represent the levels of headings available in Word documents?"
   ]
  },
  {
   "cell_type": "code",
   "execution_count": null,
   "id": "656eb908",
   "metadata": {},
   "outputs": [],
   "source": [
    "The integers 0,1,2,3, and 4"
   ]
  }
 ],
 "metadata": {
  "kernelspec": {
   "display_name": "Python 3",
   "language": "python",
   "name": "python3"
  },
  "language_info": {
   "codemirror_mode": {
    "name": "ipython",
    "version": 3
   },
   "file_extension": ".py",
   "mimetype": "text/x-python",
   "name": "python",
   "nbconvert_exporter": "python",
   "pygments_lexer": "ipython3",
   "version": "3.7.10"
  }
 },
 "nbformat": 4,
 "nbformat_minor": 5
}
