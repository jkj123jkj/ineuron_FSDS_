{
 "cells": [
  {
   "cell_type": "raw",
   "id": "2c57477f",
   "metadata": {},
   "source": [
    "1.What are the two values of the Boolean data type? How do you write them?"
   ]
  },
  {
   "cell_type": "code",
   "execution_count": null,
   "id": "89e65341",
   "metadata": {},
   "outputs": [],
   "source": [
    "True and False \n",
    "Here care should be taken to keep the first letter capital"
   ]
  },
  {
   "cell_type": "code",
   "execution_count": null,
   "id": "b80c39c0",
   "metadata": {},
   "outputs": [],
   "source": []
  },
  {
   "cell_type": "raw",
   "id": "07654d63",
   "metadata": {},
   "source": [
    "2. What are the three different types of Boolean operators?"
   ]
  },
  {
   "cell_type": "code",
   "execution_count": null,
   "id": "82e92f4d",
   "metadata": {},
   "outputs": [],
   "source": [
    "& represent and\n",
    "| represent or\n",
    "^ represent not"
   ]
  },
  {
   "cell_type": "code",
   "execution_count": 15,
   "id": "d133b2f7",
   "metadata": {},
   "outputs": [
    {
     "data": {
      "text/plain": [
       "True"
      ]
     },
     "execution_count": 15,
     "metadata": {},
     "output_type": "execute_result"
    }
   ],
   "source": [
    "not 0"
   ]
  },
  {
   "cell_type": "raw",
   "id": "14bac11b",
   "metadata": {},
   "source": [
    "3. Make a list of each Boolean operator's truth tables (i.e. every possible combination of Boolean values for the operator and what it evaluate )."
   ]
  },
  {
   "cell_type": "code",
   "execution_count": 26,
   "id": "b70ddfbd",
   "metadata": {},
   "outputs": [
    {
     "name": "stdout",
     "output_type": "stream",
     "text": [
      "Truth table for AND\n",
      "\n",
      "False & False = False\n",
      "False & True = False\n",
      "True & False = False\n",
      "True & True = True\n"
     ]
    }
   ],
   "source": [
    "print('Truth table for AND\\n')\n",
    "for i in range(2):\n",
    "    for j in range(2):\n",
    "        print(i == 1 ,'&',j == 1,'=',i&j == 1)"
   ]
  },
  {
   "cell_type": "code",
   "execution_count": 6,
   "id": "dfc7de99",
   "metadata": {},
   "outputs": [
    {
     "name": "stdout",
     "output_type": "stream",
     "text": [
      "Truth table for OR\n",
      "\n",
      "False | False = False\n",
      "False | True = True\n",
      "True | False = True\n",
      "True | True = True\n"
     ]
    }
   ],
   "source": [
    "print('Truth table for OR\\n')\n",
    "for i in range(2):\n",
    "    for j in range(2):\n",
    "        print(i == 1 ,'|',j == 1,'=',i|j == 1)"
   ]
  },
  {
   "cell_type": "code",
   "execution_count": 25,
   "id": "c6b4dae3",
   "metadata": {},
   "outputs": [
    {
     "name": "stdout",
     "output_type": "stream",
     "text": [
      "Truth table for AND\n",
      "\n",
      "not 0 = False\n",
      "not 1 = True\n"
     ]
    }
   ],
   "source": [
    "print('Truth table for AND\\n')\n",
    "for i in range(2):\n",
    "    print('not',i ,'=',not i ==0)"
   ]
  },
  {
   "cell_type": "code",
   "execution_count": null,
   "id": "b5aad431",
   "metadata": {},
   "outputs": [],
   "source": []
  },
  {
   "cell_type": "raw",
   "id": "d093a7fb",
   "metadata": {},
   "source": [
    "4. What are the values of the following expressions?\n",
    "(5 > 4) and (3 == 5)\n",
    "not (5 > 4)\n",
    "(5 > 4) or (3 == 5)\n",
    "not ((5 > 4) or (3 == 5))\n",
    "(True and True) and (True == False)\n",
    "(not False) or (not True)"
   ]
  },
  {
   "cell_type": "code",
   "execution_count": 27,
   "id": "23a3e370",
   "metadata": {},
   "outputs": [
    {
     "data": {
      "text/plain": [
       "False"
      ]
     },
     "execution_count": 27,
     "metadata": {},
     "output_type": "execute_result"
    }
   ],
   "source": [
    "(5 > 4) and (3 == 5)  \n",
    "# this work out as True and False = False (truth table proof)"
   ]
  },
  {
   "cell_type": "code",
   "execution_count": 28,
   "id": "c3d39285",
   "metadata": {},
   "outputs": [
    {
     "data": {
      "text/plain": [
       "False"
      ]
     },
     "execution_count": 28,
     "metadata": {},
     "output_type": "execute_result"
    }
   ],
   "source": [
    "not (5 > 4)\n",
    "# this work out as not True = False (truth table proof)"
   ]
  },
  {
   "cell_type": "code",
   "execution_count": 29,
   "id": "0d41652c",
   "metadata": {},
   "outputs": [
    {
     "data": {
      "text/plain": [
       "True"
      ]
     },
     "execution_count": 29,
     "metadata": {},
     "output_type": "execute_result"
    }
   ],
   "source": [
    "(5 > 4) or (3 == 5)\n",
    "# this work out as True or False = True (truth table proof)"
   ]
  },
  {
   "cell_type": "code",
   "execution_count": 30,
   "id": "2d166027",
   "metadata": {},
   "outputs": [
    {
     "data": {
      "text/plain": [
       "False"
      ]
     },
     "execution_count": 30,
     "metadata": {},
     "output_type": "execute_result"
    }
   ],
   "source": [
    "not ((5 > 4) or (3 == 5))\n",
    "# this work out as not (True or False) = not True = False (truth table proof)"
   ]
  },
  {
   "cell_type": "code",
   "execution_count": 31,
   "id": "b4834957",
   "metadata": {},
   "outputs": [
    {
     "data": {
      "text/plain": [
       "False"
      ]
     },
     "execution_count": 31,
     "metadata": {},
     "output_type": "execute_result"
    }
   ],
   "source": [
    "(True and True) and (True == False)\n",
    "# this work out as  True and False = False (truth table proof)"
   ]
  },
  {
   "cell_type": "code",
   "execution_count": 32,
   "id": "803f48c3",
   "metadata": {},
   "outputs": [
    {
     "data": {
      "text/plain": [
       "True"
      ]
     },
     "execution_count": 32,
     "metadata": {},
     "output_type": "execute_result"
    }
   ],
   "source": [
    "(not False) or (not True)\n",
    "# this work out as  True or False = True (truth table proof)"
   ]
  },
  {
   "cell_type": "code",
   "execution_count": null,
   "id": "6e6ce873",
   "metadata": {},
   "outputs": [],
   "source": []
  },
  {
   "cell_type": "raw",
   "id": "834a3bf5",
   "metadata": {},
   "source": [
    "5. What are the six comparison operators?"
   ]
  },
  {
   "cell_type": "code",
   "execution_count": null,
   "id": "df1f940d",
   "metadata": {},
   "outputs": [],
   "source": [
    "equal to                    =\n",
    "not equal to                != \n",
    "greater than                >\n",
    "greater than or equal to   >= \n",
    "less than                   <\n",
    "less than or equal to       <="
   ]
  },
  {
   "cell_type": "code",
   "execution_count": null,
   "id": "5f5e1ed9",
   "metadata": {},
   "outputs": [],
   "source": []
  },
  {
   "cell_type": "raw",
   "id": "77713b2c",
   "metadata": {},
   "source": [
    "6. How do you tell the difference between the equal to and assignment operators?Describe a condition and when you would use one."
   ]
  },
  {
   "cell_type": "code",
   "execution_count": null,
   "id": "135d22d7",
   "metadata": {},
   "outputs": [],
   "source": [
    "assignment operator is represented by one equal to symbol   =\n",
    "and\n",
    "equal is two equal to symbol adjascent to each other ==\n",
    "\n",
    "== is for checking wheather two or more values are same\n",
    "= is used for assigning a value to a variable"
   ]
  },
  {
   "cell_type": "code",
   "execution_count": null,
   "id": "226ac417",
   "metadata": {},
   "outputs": [],
   "source": []
  },
  {
   "cell_type": "raw",
   "id": "8815560e",
   "metadata": {},
   "source": [
    "7. Identify the three blocks in this code:\n",
    "spam = 0\n",
    "if spam == 10:\n",
    "print('eggs')\n",
    "elif spam > 5:\n",
    "print('bacon')\n",
    "else:\n",
    "print('ham')\n",
    "print('spam')\n",
    "print('spam')"
   ]
  },
  {
   "cell_type": "code",
   "execution_count": 34,
   "id": "d175c795",
   "metadata": {},
   "outputs": [
    {
     "name": "stdout",
     "output_type": "stream",
     "text": [
      "ham\n",
      "spam\n",
      "spam\n"
     ]
    }
   ],
   "source": [
    "# this code snippet represent the condition checking using if else conditions\n",
    "# if else block\n",
    "spam = 0\n",
    "if spam == 10:      # if condition checks the initial checking in the condition check block\n",
    "    print('eggs')\n",
    "elif spam > 5:      # elif is used for further condition checking\n",
    "    print('bacon')\n",
    "else:               # else block is for what ever to be implemented if nothing satisfied in the above blocks\n",
    "    print('ham')\n",
    "    print('spam')\n",
    "    print('spam')"
   ]
  },
  {
   "cell_type": "raw",
   "id": "7db04178",
   "metadata": {},
   "source": [
    "Below represent the three blocks in the if elif else blocks\n",
    "\n",
    "if test expression:\n",
    "    Body of if\n",
    "elif test expression:\n",
    "    Body of elif\n",
    "else: \n",
    "    Body of else"
   ]
  },
  {
   "cell_type": "code",
   "execution_count": null,
   "id": "4d4f8cbf",
   "metadata": {},
   "outputs": [],
   "source": []
  },
  {
   "cell_type": "raw",
   "id": "35030d17",
   "metadata": {},
   "source": [
    "8. Write code that prints Hello if 1 is stored in spam, prints Howdy if 2 is stored in spam, and prints Greetings! if anything else is stored in spam."
   ]
  },
  {
   "cell_type": "code",
   "execution_count": 35,
   "id": "48b2008e",
   "metadata": {},
   "outputs": [
    {
     "name": "stdout",
     "output_type": "stream",
     "text": [
      "Hello\n"
     ]
    }
   ],
   "source": [
    "spam = 1\n",
    "if spam==1:\n",
    "    print('Hello')\n",
    "elif spam==2:\n",
    "    print('Howdy')\n",
    "else: \n",
    "    print('Greetings!')"
   ]
  },
  {
   "cell_type": "code",
   "execution_count": null,
   "id": "206dd1d9",
   "metadata": {},
   "outputs": [],
   "source": []
  },
  {
   "cell_type": "raw",
   "id": "6598e499",
   "metadata": {},
   "source": [
    "9.If your programme is stuck in an endless loop, what keys you’ll press?"
   ]
  },
  {
   "cell_type": "code",
   "execution_count": null,
   "id": "4a330490",
   "metadata": {},
   "outputs": [],
   "source": [
    "press control + c"
   ]
  },
  {
   "cell_type": "code",
   "execution_count": null,
   "id": "3f9a26c5",
   "metadata": {},
   "outputs": [],
   "source": []
  },
  {
   "cell_type": "raw",
   "id": "0dfb67ae",
   "metadata": {},
   "source": [
    "10. How can you tell the difference between break and continue?"
   ]
  },
  {
   "cell_type": "code",
   "execution_count": 37,
   "id": "8ff1caa6",
   "metadata": {},
   "outputs": [
    {
     "name": "stdout",
     "output_type": "stream",
     "text": [
      "1\n",
      "2\n",
      "3\n"
     ]
    }
   ],
   "source": [
    "for i in range(4):\n",
    "    if i == 0:\n",
    "        continue\n",
    "    print(i)"
   ]
  },
  {
   "cell_type": "code",
   "execution_count": 38,
   "id": "36d8c28e",
   "metadata": {},
   "outputs": [
    {
     "name": "stdout",
     "output_type": "stream",
     "text": [
      "0\n"
     ]
    }
   ],
   "source": [
    "for i in range(4):\n",
    "    if i == 1:\n",
    "        break\n",
    "    print(i)"
   ]
  },
  {
   "cell_type": "code",
   "execution_count": null,
   "id": "0f31c328",
   "metadata": {},
   "outputs": [],
   "source": [
    "break is to exit from a loop.. particularly we use this with some conditions checks\n",
    "continue keyword is used when the loop should jump to next iteration when a particular condition is satisfied "
   ]
  },
  {
   "cell_type": "code",
   "execution_count": null,
   "id": "b3b140c1",
   "metadata": {},
   "outputs": [],
   "source": []
  },
  {
   "cell_type": "raw",
   "id": "72d82e37",
   "metadata": {},
   "source": [
    "11. In a for loop, what is the difference between range(10), range(0, 10), and range(0, 10, 1)?"
   ]
  },
  {
   "cell_type": "code",
   "execution_count": null,
   "id": "29f87129",
   "metadata": {},
   "outputs": [],
   "source": [
    "range(10)  it carries values from 0 to 9 but we have given only ending value , starting value automatically taken as 0\n",
    "range(0,10)  it carries values from 0 to 9 we have given both starting and ending value \n",
    "range(0,10,1) it carries values from 0 to 9 we have given both starting and ending value and step increment of 1\n",
    "\n",
    "range([start,],end,[incriment])  start and increment are optional \n",
    "default start is 0 and default increment is 1"
   ]
  },
  {
   "cell_type": "code",
   "execution_count": null,
   "id": "d043f353",
   "metadata": {},
   "outputs": [],
   "source": []
  },
  {
   "cell_type": "raw",
   "id": "b32b3477",
   "metadata": {},
   "source": [
    "12. Write a short program that prints the numbers 1 to 10 using a for loop. Then write an equivalent program that prints the numbers 1 to 10 using a while loop."
   ]
  },
  {
   "cell_type": "code",
   "execution_count": 43,
   "id": "30b9bf0f",
   "metadata": {},
   "outputs": [
    {
     "name": "stdout",
     "output_type": "stream",
     "text": [
      "1\n",
      "2\n",
      "3\n",
      "4\n",
      "5\n",
      "6\n",
      "7\n",
      "8\n",
      "9\n",
      "10\n"
     ]
    }
   ],
   "source": [
    "for i in range(1,11):\n",
    "    print(i)"
   ]
  },
  {
   "cell_type": "code",
   "execution_count": 44,
   "id": "ceb6c0ab",
   "metadata": {},
   "outputs": [
    {
     "name": "stdout",
     "output_type": "stream",
     "text": [
      "1\n",
      "2\n",
      "3\n",
      "4\n",
      "5\n",
      "6\n",
      "7\n",
      "8\n",
      "9\n",
      "10\n"
     ]
    }
   ],
   "source": [
    "i = 1\n",
    "while i < 11:\n",
    "    print(i)\n",
    "    i+=1"
   ]
  },
  {
   "cell_type": "code",
   "execution_count": null,
   "id": "0cc89a6b",
   "metadata": {},
   "outputs": [],
   "source": []
  },
  {
   "cell_type": "raw",
   "id": "8da6c0a1",
   "metadata": {},
   "source": [
    "13. If you had a function named bacon() inside a module named spam, how would you call it after importing spam?"
   ]
  },
  {
   "cell_type": "code",
   "execution_count": null,
   "id": "3aa47c6b",
   "metadata": {},
   "outputs": [],
   "source": [
    "we can call as\n",
    "\n",
    "spam.bacon()"
   ]
  }
 ],
 "metadata": {
  "kernelspec": {
   "display_name": "Python 3",
   "language": "python",
   "name": "python3"
  },
  "language_info": {
   "codemirror_mode": {
    "name": "ipython",
    "version": 3
   },
   "file_extension": ".py",
   "mimetype": "text/x-python",
   "name": "python",
   "nbconvert_exporter": "python",
   "pygments_lexer": "ipython3",
   "version": "3.7.10"
  }
 },
 "nbformat": 4,
 "nbformat_minor": 5
}
