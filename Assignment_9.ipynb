{
 "cells": [
  {
   "cell_type": "raw",
   "id": "2ddd91b9",
   "metadata": {},
   "source": [
    "1.To what does a relative path refer?"
   ]
  },
  {
   "cell_type": "code",
   "execution_count": null,
   "id": "66758926",
   "metadata": {},
   "outputs": [],
   "source": [
    "A relative path refers to a location that is relative to a current directory. Relative paths make use of two \n",
    "special symbols, a dot (.) and a double-dot (..), which translate into the current directory and the parent directory.\n",
    "Double dots are used for moving up in the hierarchy. A single dot represents the current directory itself."
   ]
  },
  {
   "cell_type": "code",
   "execution_count": 27,
   "id": "22c18e24",
   "metadata": {},
   "outputs": [
    {
     "name": "stdout",
     "output_type": "stream",
     "text": [
      "hi i am in curdir\n",
      "\n"
     ]
    },
    {
     "data": {
      "text/plain": [
       "<function TextIOWrapper.close()>"
      ]
     },
     "execution_count": 27,
     "metadata": {},
     "output_type": "execute_result"
    }
   ],
   "source": [
    "f1 = open('./check2.txt','r') #  single dot shows rel path for a file in current directory\n",
    "print(f1.read())\n",
    "f1.close              "
   ]
  },
  {
   "cell_type": "code",
   "execution_count": 30,
   "id": "b9bb0f20",
   "metadata": {},
   "outputs": [
    {
     "name": "stdout",
     "output_type": "stream",
     "text": [
      "hi i am in parent directory\n"
     ]
    }
   ],
   "source": [
    "f2 = open(\"../check1.txt\",'r')  #  double dot shows rel path for a file in current directory\n",
    "print(f2.read())\n",
    "f2.close()"
   ]
  },
  {
   "cell_type": "raw",
   "id": "2cdd6d66",
   "metadata": {},
   "source": []
  },
  {
   "cell_type": "raw",
   "id": "b6a95af8",
   "metadata": {},
   "source": [
    "2. What does an absolute path start with your operating system?"
   ]
  },
  {
   "cell_type": "code",
   "execution_count": null,
   "id": "e1629a33",
   "metadata": {},
   "outputs": [],
   "source": [
    "An absolute path refers to the complete details needed to locate a file or folder, starting from the root element\n",
    "and ending with the other subdirectories. Absolute paths are used in websites and operating systems for locating files \n",
    "and folders."
   ]
  },
  {
   "cell_type": "raw",
   "id": "19e7b7f1",
   "metadata": {},
   "source": []
  },
  {
   "cell_type": "raw",
   "id": "bb09aadd",
   "metadata": {},
   "source": [
    "3. What do the functions os.getcwd() and os.chdir() do?"
   ]
  },
  {
   "cell_type": "code",
   "execution_count": null,
   "id": "e6980b31",
   "metadata": {},
   "outputs": [],
   "source": [
    "os.getcwd()  --> this will get the current working directory of the file under we are working with\n",
    "\n",
    "os.chdir()    --.> Change the current working directory to the specified path."
   ]
  },
  {
   "cell_type": "raw",
   "id": "d08ace4c",
   "metadata": {},
   "source": []
  },
  {
   "cell_type": "raw",
   "id": "ffbe657a",
   "metadata": {},
   "source": [
    "4. What are the . and .. folders?"
   ]
  },
  {
   "cell_type": "code",
   "execution_count": null,
   "id": "78ac2c4e",
   "metadata": {},
   "outputs": [],
   "source": [
    "One dot (.) always refers to the current folder.\n",
    "Two dots (..) refers to the folder that is one level higher than the current folder."
   ]
  },
  {
   "cell_type": "raw",
   "id": "b11f3ae9",
   "metadata": {},
   "source": []
  },
  {
   "cell_type": "raw",
   "id": "9fb3b481",
   "metadata": {},
   "source": [
    "5. In C:\\bacon\\eggs\\spam.txt, which part is the dir name, and which part is the base name?\n"
   ]
  },
  {
   "cell_type": "code",
   "execution_count": 42,
   "id": "d1a5ae1b",
   "metadata": {},
   "outputs": [
    {
     "name": "stdout",
     "output_type": "stream",
     "text": [
      "C:\\Users\\Samsung\\_fsd\\Assignments\\python basis assignments\n",
      "C:\\Users\\Samsung\\_fsd\\Assignments\n",
      "C:\\Users\\Samsung\\_fsd\\Assignments\n",
      "python basis assignments\n"
     ]
    }
   ],
   "source": [
    "print(os.getcwd())\n",
    "print(os.path.dirname(os.getcwd()))\n",
    "print(os.path.dirname(r'C:\\Users\\Samsung\\_fsd\\Assignments\\python basis assignments'))\n",
    "print(os.path.basename(os.getcwd()))"
   ]
  },
  {
   "cell_type": "code",
   "execution_count": 43,
   "id": "db0d85e7",
   "metadata": {},
   "outputs": [
    {
     "name": "stdout",
     "output_type": "stream",
     "text": [
      "C:\\bacon\\eggs\n",
      "spam.txt\n"
     ]
    }
   ],
   "source": [
    "print(os.path.dirname(r'C:\\bacon\\eggs\\spam.txt'))   # dir name is C:\\bacon\\eggs\n",
    "print(os.path.basename('C:\\bacon\\eggs\\spam.txt'))   # base name is  spam.txt"
   ]
  },
  {
   "cell_type": "raw",
   "id": "27d933d4",
   "metadata": {},
   "source": []
  },
  {
   "cell_type": "raw",
   "id": "c6517b2e",
   "metadata": {},
   "source": [
    "6. What are the three “mode” arguments that can be passed to the open() function?"
   ]
  },
  {
   "cell_type": "code",
   "execution_count": null,
   "id": "1b39dc51",
   "metadata": {},
   "outputs": [],
   "source": [
    "'r', for reading.\n",
    "'w', for writing.\n",
    "'a', for appending."
   ]
  },
  {
   "cell_type": "raw",
   "id": "8a964c75",
   "metadata": {},
   "source": []
  },
  {
   "cell_type": "raw",
   "id": "15920db3",
   "metadata": {},
   "source": [
    "7. What happens if an existing file is opened in write mode?"
   ]
  },
  {
   "cell_type": "code",
   "execution_count": null,
   "id": "1f3ba153",
   "metadata": {},
   "outputs": [],
   "source": [
    "When mode “w” is specified, it creates an empty file for output operations.\n",
    "If a file with the same name already exists, its contents are discarded and the file is treated as a new empty file"
   ]
  },
  {
   "cell_type": "raw",
   "id": "70bb0513",
   "metadata": {},
   "source": []
  },
  {
   "cell_type": "raw",
   "id": "080e44f2",
   "metadata": {},
   "source": [
    "8. How do you tell the difference between read() and readlines()?"
   ]
  },
  {
   "cell_type": "code",
   "execution_count": null,
   "id": "9dbb75c2",
   "metadata": {},
   "outputs": [],
   "source": [
    "The readline method reads one line from the file and returns it as a string. The readlines method returns the contents \n",
    "of the entire file as a list of strings, where each item in the list represents one line of the file.\n",
    "\n",
    "Read is used to read only single character from the standard output device"
   ]
  },
  {
   "cell_type": "raw",
   "id": "3c21c819",
   "metadata": {},
   "source": []
  },
  {
   "cell_type": "raw",
   "id": "157db2d2",
   "metadata": {},
   "source": [
    "9. What data structure does a shelf value resemble?"
   ]
  },
  {
   "cell_type": "code",
   "execution_count": null,
   "id": "58c3807d",
   "metadata": {},
   "outputs": [],
   "source": [
    "A shelf value resembles a dictionary value; it has keys and values, along with keys() and values() methods that \n",
    "work similarly to the dictionary methods of the same names."
   ]
  },
  {
   "cell_type": "code",
   "execution_count": null,
   "id": "844a4647",
   "metadata": {},
   "outputs": [],
   "source": []
  }
 ],
 "metadata": {
  "kernelspec": {
   "display_name": "Python 3",
   "language": "python",
   "name": "python3"
  },
  "language_info": {
   "codemirror_mode": {
    "name": "ipython",
    "version": 3
   },
   "file_extension": ".py",
   "mimetype": "text/x-python",
   "name": "python",
   "nbconvert_exporter": "python",
   "pygments_lexer": "ipython3",
   "version": "3.7.10"
  }
 },
 "nbformat": 4,
 "nbformat_minor": 5
}
