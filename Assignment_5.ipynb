{
 "cells": [
  {
   "cell_type": "raw",
   "id": "98225765",
   "metadata": {},
   "source": [
    "1. What does an empty dictionary's code look like?\n"
   ]
  },
  {
   "cell_type": "code",
   "execution_count": 2,
   "id": "001f6551",
   "metadata": {},
   "outputs": [
    {
     "data": {
      "text/plain": [
       "(dict, dict)"
      ]
     },
     "execution_count": 2,
     "metadata": {},
     "output_type": "execute_result"
    }
   ],
   "source": [
    "dic = dict()\n",
    "#or\n",
    "dic_ = {}\n",
    "type(dic),type(dic_)\n",
    "#both are empty dictionary"
   ]
  },
  {
   "cell_type": "raw",
   "id": "618db41a",
   "metadata": {},
   "source": []
  },
  {
   "cell_type": "raw",
   "id": "550ddf97",
   "metadata": {},
   "source": [
    "2. What is the value of a dictionary value with the key 'foo' and the value 42?"
   ]
  },
  {
   "cell_type": "code",
   "execution_count": 4,
   "id": "356203ba",
   "metadata": {},
   "outputs": [
    {
     "data": {
      "text/plain": [
       "dict_values([42])"
      ]
     },
     "execution_count": 4,
     "metadata": {},
     "output_type": "execute_result"
    }
   ],
   "source": [
    "dic = {'foo':42}\n",
    "dic.values()\n",
    "\n",
    "# {'foo': 42} is the answer"
   ]
  },
  {
   "cell_type": "raw",
   "id": "443bf58e",
   "metadata": {},
   "source": []
  },
  {
   "cell_type": "raw",
   "id": "f60c43f4",
   "metadata": {},
   "source": [
    "3. What is the most significant distinction between a dictionary and a list?\n"
   ]
  },
  {
   "cell_type": "code",
   "execution_count": null,
   "id": "31e98610",
   "metadata": {},
   "outputs": [],
   "source": [
    "The items stored in a dictionary are unordered, while the items in a list are ordered.\n",
    "The data entered each time gets appended to the final index in list while in dictionary its not the case"
   ]
  },
  {
   "cell_type": "raw",
   "id": "149c6a9a",
   "metadata": {},
   "source": []
  },
  {
   "cell_type": "raw",
   "id": "c1e3eadb",
   "metadata": {},
   "source": [
    "4. What happens if you try to access spam['foo'] if spam is {'bar': 100}?\n"
   ]
  },
  {
   "cell_type": "code",
   "execution_count": 5,
   "id": "3f0cb176",
   "metadata": {},
   "outputs": [
    {
     "ename": "KeyError",
     "evalue": "'foo'",
     "output_type": "error",
     "traceback": [
      "\u001b[1;31m---------------------------------------------------------------------------\u001b[0m",
      "\u001b[1;31mKeyError\u001b[0m                                  Traceback (most recent call last)",
      "\u001b[1;32m<ipython-input-5-0efc6ed5595f>\u001b[0m in \u001b[0;36m<module>\u001b[1;34m\u001b[0m\n\u001b[0;32m      1\u001b[0m \u001b[0mspam\u001b[0m \u001b[1;33m=\u001b[0m \u001b[1;33m{\u001b[0m\u001b[1;34m'bar'\u001b[0m\u001b[1;33m:\u001b[0m \u001b[1;36m100\u001b[0m\u001b[1;33m}\u001b[0m\u001b[1;33m\u001b[0m\u001b[1;33m\u001b[0m\u001b[0m\n\u001b[1;32m----> 2\u001b[1;33m \u001b[0mspam\u001b[0m\u001b[1;33m[\u001b[0m\u001b[1;34m'foo'\u001b[0m\u001b[1;33m]\u001b[0m\u001b[1;33m\u001b[0m\u001b[1;33m\u001b[0m\u001b[0m\n\u001b[0m\u001b[0;32m      3\u001b[0m \u001b[1;31m# output is its value 100\u001b[0m\u001b[1;33m\u001b[0m\u001b[1;33m\u001b[0m\u001b[1;33m\u001b[0m\u001b[0m\n",
      "\u001b[1;31mKeyError\u001b[0m: 'foo'"
     ]
    }
   ],
   "source": [
    "spam = {'bar': 100}\n",
    "spam['foo']\n",
    "# a keyerror is thrown since it doesn't have the key foo"
   ]
  },
  {
   "cell_type": "raw",
   "id": "8ac2e52b",
   "metadata": {},
   "source": []
  },
  {
   "cell_type": "raw",
   "id": "ff2f479d",
   "metadata": {},
   "source": [
    "5. If a dictionary is stored in spam, what is the difference between the expressions 'cat' in spam and 'cat' in spam.keys()?\n"
   ]
  },
  {
   "cell_type": "code",
   "execution_count": 7,
   "id": "96003dce",
   "metadata": {},
   "outputs": [
    {
     "name": "stdout",
     "output_type": "stream",
     "text": [
      "True\n",
      "True\n"
     ]
    }
   ],
   "source": [
    "#There is no difference. The in operator checks whether a value exists as a key in the dictionary.\n",
    "spam = {'cat':2}\n",
    "print('cat' in spam)\n",
    "print('cat' in spam.keys())"
   ]
  },
  {
   "cell_type": "raw",
   "id": "37b822bf",
   "metadata": {},
   "source": []
  },
  {
   "cell_type": "raw",
   "id": "f5d58105",
   "metadata": {},
   "source": [
    "6. If a dictionary is stored in spam, what is the difference between the expressions 'cat' in spam and 'cat' in spam.values()?\n"
   ]
  },
  {
   "cell_type": "code",
   "execution_count": 10,
   "id": "aa3bf2b9",
   "metadata": {},
   "outputs": [
    {
     "name": "stdout",
     "output_type": "stream",
     "text": [
      "True\n",
      "False\n"
     ]
    }
   ],
   "source": [
    "#'cat' in spam checks whether there is a 'cat' key in the dictionary, while 'cat' in spam.values() checks whether there \n",
    "#is a value 'cat' for one of the keys in spam.\n",
    "\n",
    "spam = {'cat':2}\n",
    "print('cat' in spam)\n",
    "print('cat' in spam.values())"
   ]
  },
  {
   "cell_type": "raw",
   "id": "89f663bc",
   "metadata": {},
   "source": []
  },
  {
   "cell_type": "raw",
   "id": "ecd094fa",
   "metadata": {},
   "source": [
    "7. What is a shortcut for the following code?\n",
    "if 'color' not in spam:\n",
    "spam['color'] = 'black'\n",
    "\n"
   ]
  },
  {
   "cell_type": "code",
   "execution_count": 12,
   "id": "62687744",
   "metadata": {},
   "outputs": [
    {
     "data": {
      "text/plain": [
       "{'color': 'black'}"
      ]
     },
     "execution_count": 12,
     "metadata": {},
     "output_type": "execute_result"
    }
   ],
   "source": [
    "spam = {}\n",
    "spam.setdefault('color', 'black')  #Insert key with a value of default if key is not in the dictionary.\n",
    "spam"
   ]
  },
  {
   "cell_type": "raw",
   "id": "2ae5b3cb",
   "metadata": {},
   "source": []
  },
  {
   "cell_type": "raw",
   "id": "39749a79",
   "metadata": {},
   "source": [
    "8. How do you \"pretty print\" dictionary values using which module and function?"
   ]
  },
  {
   "cell_type": "raw",
   "id": "63bc9f5b",
   "metadata": {},
   "source": [
    "pprint.pprint(\n",
    "    object,\n",
    "    stream=None,\n",
    "    indent=1,\n",
    "    width=80,\n",
    "    depth=None,\n",
    "    *,\n",
    "    compact=False,\n",
    ")"
   ]
  },
  {
   "cell_type": "code",
   "execution_count": 14,
   "id": "6580dda4",
   "metadata": {},
   "outputs": [
    {
     "name": "stdout",
     "output_type": "stream",
     "text": [
      "'32'\n"
     ]
    }
   ],
   "source": [
    "import pprint\n",
    "pprint.pprint('32')"
   ]
  },
  {
   "cell_type": "code",
   "execution_count": null,
   "id": "088b0dfb",
   "metadata": {},
   "outputs": [],
   "source": []
  }
 ],
 "metadata": {
  "kernelspec": {
   "display_name": "Python 3",
   "language": "python",
   "name": "python3"
  },
  "language_info": {
   "codemirror_mode": {
    "name": "ipython",
    "version": 3
   },
   "file_extension": ".py",
   "mimetype": "text/x-python",
   "name": "python",
   "nbconvert_exporter": "python",
   "pygments_lexer": "ipython3",
   "version": "3.7.10"
  }
 },
 "nbformat": 4,
 "nbformat_minor": 5
}
