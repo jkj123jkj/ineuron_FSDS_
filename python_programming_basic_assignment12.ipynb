{
 "cells": [
  {
   "cell_type": "raw",
   "id": "a1940a65",
   "metadata": {},
   "source": [
    "1. Write a Python program to Extract Unique values dictionary values?"
   ]
  },
  {
   "cell_type": "code",
   "execution_count": 3,
   "id": "5c2b0410",
   "metadata": {},
   "outputs": [
    {
     "data": {
      "text/plain": [
       "[2, 4]"
      ]
     },
     "execution_count": 3,
     "metadata": {},
     "output_type": "execute_result"
    }
   ],
   "source": [
    "def uni(dic):\n",
    "    return list(set(list(dic.values())))\n",
    "uni({1:2,3:4,4:2})"
   ]
  },
  {
   "cell_type": "raw",
   "id": "60ed4cd8",
   "metadata": {},
   "source": []
  },
  {
   "cell_type": "raw",
   "id": "af6e72ca",
   "metadata": {},
   "source": [
    "2. Write a Python program to find the sum of all items in a dictionary?"
   ]
  },
  {
   "cell_type": "code",
   "execution_count": 7,
   "id": "93d838a3",
   "metadata": {},
   "outputs": [
    {
     "name": "stdout",
     "output_type": "stream",
     "text": [
      "Sun of all items is : 36\n"
     ]
    }
   ],
   "source": [
    "\n",
    "\n",
    "test_dict = {'a' : 8,\n",
    "             'b' :  11,\n",
    "             'c' : 12,\n",
    "             'd' : 5}\n",
    "\n",
    "sum = 0\n",
    "for i in list(test_dict.values()):\n",
    "    sum +=i\n",
    "print(\"Sun of all items is : {}\".format(sum))\n",
    "\n"
   ]
  },
  {
   "cell_type": "raw",
   "id": "906500ba",
   "metadata": {},
   "source": []
  },
  {
   "cell_type": "raw",
   "id": "8635c538",
   "metadata": {},
   "source": [
    "3. Write a Python program to Merging two Dictionaries?"
   ]
  },
  {
   "cell_type": "code",
   "execution_count": 15,
   "id": "c24ac88c",
   "metadata": {},
   "outputs": [
    {
     "data": {
      "text/plain": [
       "{'x': 1, 'y': 3, 'z': 4}"
      ]
     },
     "execution_count": 15,
     "metadata": {},
     "output_type": "execute_result"
    }
   ],
   "source": [
    "def mer(dic1,dic2):\n",
    "    dic1.update(dic2)\n",
    "    return dic1\n",
    "mer({ 'x': 1, 'y': 2},{ 'y': 3, 'z': 4})"
   ]
  },
  {
   "cell_type": "raw",
   "id": "0525e85d",
   "metadata": {},
   "source": []
  },
  {
   "cell_type": "raw",
   "id": "ddda2fb1",
   "metadata": {},
   "source": [
    "4. Write a Python program to convert key-values list to flat dictionary?"
   ]
  },
  {
   "cell_type": "code",
   "execution_count": 16,
   "id": "cc885e77",
   "metadata": {},
   "outputs": [
    {
     "name": "stdout",
     "output_type": "stream",
     "text": [
      "The original dictionary is : {'month': [1, 2, 3], 'name': ['Jan', 'Feb', 'March']}\n",
      "Flattened dictionary : {1: 'Jan', 2: 'Feb', 3: 'March'}\n"
     ]
    }
   ],
   "source": [
    "test_dict = {'month' : [1, 2, 3],\n",
    "             'name' : ['Jan', 'Feb', 'March']}\n",
    "print(\"The original dictionary is : \" + str(test_dict))\n",
    "res = dict(zip(test_dict['month'], test_dict['name']))\n",
    "print(\"Flattened dictionary : \" + str(res))"
   ]
  },
  {
   "cell_type": "raw",
   "id": "36aecc7d",
   "metadata": {},
   "source": []
  },
  {
   "cell_type": "raw",
   "id": "c2c87529",
   "metadata": {},
   "source": [
    "5. Write a Python program to insertion at the beginning in OrderedDict?"
   ]
  },
  {
   "cell_type": "code",
   "execution_count": null,
   "id": "0ef1e13b",
   "metadata": {},
   "outputs": [],
   "source": [
    "from collections import OrderedDict\n",
    "iniordered_dict = OrderedDict([('Feb', '2'), ('Mar', '3')])\n",
    "iniordered_dict.update({'Jan':'1'})\n",
    "iniordered_dict.move_to_end('Jan', last = False)\n",
    "print (\"Ordered Dictionary after insertion : \"+str(iniordered_dict))"
   ]
  },
  {
   "cell_type": "raw",
   "id": "3a1a4c00",
   "metadata": {},
   "source": []
  },
  {
   "cell_type": "raw",
   "id": "215ec917",
   "metadata": {},
   "source": [
    "6. Write a Python program to sort Python Dictionaries by Key or Value?"
   ]
  },
  {
   "cell_type": "code",
   "execution_count": 17,
   "id": "00e44824",
   "metadata": {},
   "outputs": [
    {
     "name": "stdout",
     "output_type": "stream",
     "text": [
      "[1, 2, 3, 4, 5, 6]\n",
      "[(1, 2), (2, 1), (3, 4), (4, 3), (5, 6), (6, 5)]\n"
     ]
    }
   ],
   "source": [
    "a = {1:2 ,2:1 ,4:3 ,3:4 ,6:5 ,5:6 }\n",
    "print(sorted(a.keys()))\n",
    "print(sorted(a.items()))"
   ]
  },
  {
   "cell_type": "code",
   "execution_count": 18,
   "id": "8938c91f",
   "metadata": {},
   "outputs": [
    {
     "name": "stdout",
     "output_type": "stream",
     "text": [
      "[1, 2, 3, 4, 5, 6]\n"
     ]
    }
   ],
   "source": [
    "a = {1:2 ,2:1 ,4:3 ,3:4 ,6:5 ,5:6 }\n",
    "print(sorted(a.values()))"
   ]
  },
  {
   "cell_type": "raw",
   "id": "9f940513",
   "metadata": {},
   "source": []
  }
 ],
 "metadata": {
  "kernelspec": {
   "display_name": "Python 3",
   "language": "python",
   "name": "python3"
  },
  "language_info": {
   "codemirror_mode": {
    "name": "ipython",
    "version": 3
   },
   "file_extension": ".py",
   "mimetype": "text/x-python",
   "name": "python",
   "nbconvert_exporter": "python",
   "pygments_lexer": "ipython3",
   "version": "3.7.10"
  }
 },
 "nbformat": 4,
 "nbformat_minor": 5
}
