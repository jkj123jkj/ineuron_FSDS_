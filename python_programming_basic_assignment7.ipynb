{
 "cells": [
  {
   "cell_type": "raw",
   "id": "a1940a65",
   "metadata": {},
   "source": [
    "1.\tWrite a Python Program to find sum of array?"
   ]
  },
  {
   "cell_type": "code",
   "execution_count": 1,
   "id": "5c2b0410",
   "metadata": {},
   "outputs": [
    {
     "data": {
      "text/plain": [
       "1240"
      ]
     },
     "execution_count": 1,
     "metadata": {},
     "output_type": "execute_result"
    }
   ],
   "source": [
    "lis =[3,543,6,5,676,7]\n",
    "sum(lis)"
   ]
  },
  {
   "cell_type": "raw",
   "id": "60ed4cd8",
   "metadata": {},
   "source": []
  },
  {
   "cell_type": "raw",
   "id": "af6e72ca",
   "metadata": {},
   "source": [
    "2.\tWrite a Python Program to find largest element in an array?"
   ]
  },
  {
   "cell_type": "code",
   "execution_count": 2,
   "id": "93d838a3",
   "metadata": {},
   "outputs": [
    {
     "data": {
      "text/plain": [
       "676"
      ]
     },
     "execution_count": 2,
     "metadata": {},
     "output_type": "execute_result"
    }
   ],
   "source": [
    "lis =[3,543,6,5,676,7]\n",
    "max(lis)"
   ]
  },
  {
   "cell_type": "raw",
   "id": "906500ba",
   "metadata": {},
   "source": []
  },
  {
   "cell_type": "raw",
   "id": "8635c538",
   "metadata": {},
   "source": [
    "3.\tWrite a Python Program for array rotation?"
   ]
  },
  {
   "cell_type": "code",
   "execution_count": 15,
   "id": "c24ac88c",
   "metadata": {},
   "outputs": [
    {
     "name": "stdout",
     "output_type": "stream",
     "text": [
      "[2, 3, 4, 5, 6, 1]\n",
      "[3, 4, 5, 6, 1, 2]\n",
      "[4, 5, 6, 1, 2, 3]\n",
      "[5, 6, 1, 2, 3, 4]\n",
      "[6, 1, 2, 3, 4, 5]\n"
     ]
    }
   ],
   "source": [
    "lis =[1,2,3,4,5,6]\n",
    "for i in range(1,len(lis)):\n",
    "    print(lis[i:] + (lis[:i]))"
   ]
  },
  {
   "cell_type": "raw",
   "id": "0525e85d",
   "metadata": {},
   "source": []
  },
  {
   "cell_type": "raw",
   "id": "ddda2fb1",
   "metadata": {},
   "source": [
    "4.\tWrite a Python Program to Split the array and add the first part to the end?"
   ]
  },
  {
   "cell_type": "code",
   "execution_count": 16,
   "id": "cc885e77",
   "metadata": {},
   "outputs": [
    {
     "name": "stdout",
     "output_type": "stream",
     "text": [
      "[4, 5, 6, 1, 2, 3]\n"
     ]
    }
   ],
   "source": [
    "lis = [1,2,3,4,5,6]\n",
    "split_index = 3\n",
    "print(lis[split_index:]+lis[:split_index])"
   ]
  },
  {
   "cell_type": "raw",
   "id": "36aecc7d",
   "metadata": {},
   "source": []
  },
  {
   "cell_type": "raw",
   "id": "c2c87529",
   "metadata": {},
   "source": [
    "5.\tWrite a Python Program to check if given array is Monotonic?"
   ]
  },
  {
   "cell_type": "code",
   "execution_count": 18,
   "id": "0ef1e13b",
   "metadata": {},
   "outputs": [
    {
     "name": "stdout",
     "output_type": "stream",
     "text": [
      "[1, 3, 5, 8, 3] is not monotonic\n",
      "[1, 3, 5, 5, 7, 8, 9] is monotonic\n",
      "[8, 7, 5, 3, 2, 1] is monotonic\n"
     ]
    }
   ],
   "source": [
    "lis1 = [  [1,3,5,8,3,],\n",
    "        [1,3,5,5,7,8,9],\n",
    "        [8,7,5,3,2,1]\n",
    "        ]\n",
    "for val in lis1:\n",
    "    set_inc = 0\n",
    "    set_dec = 0\n",
    "    for j in range(len(val)-1):\n",
    "        if val[j] > val[j+1]:\n",
    "            set_inc = 1\n",
    "        elif val[j] < val[j+1]:\n",
    "            set_dec = 1\n",
    "        if set_inc==set_dec:\n",
    "            break\n",
    "    if set_inc==set_dec:       \n",
    "        print('{} is not monotonic'.format(val))\n",
    "    else:\n",
    "        print('{} is monotonic'.format(val))"
   ]
  },
  {
   "cell_type": "raw",
   "id": "3a1a4c00",
   "metadata": {},
   "source": []
  }
 ],
 "metadata": {
  "kernelspec": {
   "display_name": "Python 3",
   "language": "python",
   "name": "python3"
  },
  "language_info": {
   "codemirror_mode": {
    "name": "ipython",
    "version": 3
   },
   "file_extension": ".py",
   "mimetype": "text/x-python",
   "name": "python",
   "nbconvert_exporter": "python",
   "pygments_lexer": "ipython3",
   "version": "3.7.10"
  }
 },
 "nbformat": 4,
 "nbformat_minor": 5
}
