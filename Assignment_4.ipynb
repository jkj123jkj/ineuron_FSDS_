{
 "cells": [
  {
   "cell_type": "raw",
   "id": "265f9423",
   "metadata": {},
   "source": [
    "1. What exactly is []?\n"
   ]
  },
  {
   "cell_type": "code",
   "execution_count": null,
   "id": "bd564b55",
   "metadata": {},
   "outputs": [],
   "source": [
    "its the representation of list \n",
    "python identifies the [] statement sa a list"
   ]
  },
  {
   "cell_type": "code",
   "execution_count": 2,
   "id": "7c3a0133",
   "metadata": {},
   "outputs": [
    {
     "data": {
      "text/plain": [
       "list"
      ]
     },
     "execution_count": 2,
     "metadata": {},
     "output_type": "execute_result"
    }
   ],
   "source": [
    "type([])"
   ]
  },
  {
   "cell_type": "raw",
   "id": "d54c303d",
   "metadata": {},
   "source": []
  },
  {
   "cell_type": "raw",
   "id": "e76de33f",
   "metadata": {},
   "source": [
    "2. In a list of values stored in a variable called spam, how would you assign the value 'hello' as the third value? (Assume [2, 4, 6, 8, 10] are in spam.)\n",
    "Let's pretend the spam includes the list ['a', 'b', 'c', 'd'] for the next three queries.\n"
   ]
  },
  {
   "cell_type": "code",
   "execution_count": 3,
   "id": "ddec7685",
   "metadata": {},
   "outputs": [
    {
     "data": {
      "text/plain": [
       "[2, 4, 'hello', 8, 10]"
      ]
     },
     "execution_count": 3,
     "metadata": {},
     "output_type": "execute_result"
    }
   ],
   "source": [
    "spam = [2, 4, 6, 8, 10]\n",
    "spam[2] = 'hello'\n",
    "spam"
   ]
  },
  {
   "cell_type": "raw",
   "id": "c2590ab2",
   "metadata": {},
   "source": []
  },
  {
   "cell_type": "raw",
   "id": "f81bf425",
   "metadata": {},
   "source": [
    "3. What is the value of spam[int(int('3' * 2) / 11)]?\n"
   ]
  },
  {
   "cell_type": "code",
   "execution_count": 4,
   "id": "e4f402fb",
   "metadata": {},
   "outputs": [
    {
     "data": {
      "text/plain": [
       "'d'"
      ]
     },
     "execution_count": 4,
     "metadata": {},
     "output_type": "execute_result"
    }
   ],
   "source": [
    "spam = ['a', 'b', 'c', 'd']\n",
    "spam[int(int('3' * 2) / 11)]"
   ]
  },
  {
   "cell_type": "code",
   "execution_count": null,
   "id": "d4c94d7f",
   "metadata": {},
   "outputs": [],
   "source": [
    "int('3' * 2) this gives int('33') which is equal to 33\n",
    "int(33/11) gives int(3) which is equal to 3\n",
    "spam[3]  si 'd' fourth index of spam"
   ]
  },
  {
   "cell_type": "raw",
   "id": "93e6b6a3",
   "metadata": {},
   "source": []
  },
  {
   "cell_type": "raw",
   "id": "ba447371",
   "metadata": {},
   "source": [
    "4. What is the value of spam[-1]?\n"
   ]
  },
  {
   "cell_type": "code",
   "execution_count": 5,
   "id": "6277ae7b",
   "metadata": {},
   "outputs": [
    {
     "data": {
      "text/plain": [
       "'d'"
      ]
     },
     "execution_count": 5,
     "metadata": {},
     "output_type": "execute_result"
    }
   ],
   "source": [
    "spam = ['a', 'b', 'c', 'd']\n",
    "spam[-1]    #-1 in the index represent the last index"
   ]
  },
  {
   "cell_type": "raw",
   "id": "0e2d9194",
   "metadata": {},
   "source": []
  },
  {
   "cell_type": "raw",
   "id": "62f2b101",
   "metadata": {},
   "source": [
    "5. What is the value of spam[:2]?\n",
    "Let's pretend bacon has the list [3.14, 'cat,' 11, 'cat,' True] for the next three questions.\n"
   ]
  },
  {
   "cell_type": "code",
   "execution_count": 6,
   "id": "5ca177e0",
   "metadata": {},
   "outputs": [
    {
     "data": {
      "text/plain": [
       "['a', 'b']"
      ]
     },
     "execution_count": 6,
     "metadata": {},
     "output_type": "execute_result"
    }
   ],
   "source": [
    "spam = ['a', 'b', 'c', 'd']\n",
    "spam[:2]   # this is the slicing operation of list [start_index:elc_index:step]"
   ]
  },
  {
   "cell_type": "raw",
   "id": "2ae4332d",
   "metadata": {},
   "source": []
  },
  {
   "cell_type": "raw",
   "id": "9f4b50f9",
   "metadata": {},
   "source": [
    "6. What is the value of bacon.index('cat')?\n"
   ]
  },
  {
   "cell_type": "code",
   "execution_count": 10,
   "id": "3d7ccfdd",
   "metadata": {},
   "outputs": [
    {
     "data": {
      "text/plain": [
       "1"
      ]
     },
     "execution_count": 10,
     "metadata": {},
     "output_type": "execute_result"
    }
   ],
   "source": [
    "bacon = [3.14, 'cat' ,11, 'cat' ,True]\n",
    "bacon.index('cat') \n",
    "# returns the index of the element in the list THAT TOO ONLY FOR THAT FIRST ELEMENT FOUND FROM THE BEGINNING"
   ]
  },
  {
   "cell_type": "raw",
   "id": "e50fa131",
   "metadata": {},
   "source": []
  },
  {
   "cell_type": "raw",
   "id": "5dce993e",
   "metadata": {},
   "source": [
    "7. How does bacon.append(99) change the look of the list value in bacon?\n"
   ]
  },
  {
   "cell_type": "code",
   "execution_count": 12,
   "id": "d439bbc1",
   "metadata": {},
   "outputs": [
    {
     "data": {
      "text/plain": [
       "[3.14, 'cat', 11, 'cat', True, 99]"
      ]
     },
     "execution_count": 12,
     "metadata": {},
     "output_type": "execute_result"
    }
   ],
   "source": [
    "bacon = [3.14, 'cat' ,11, 'cat' ,True]\n",
    "bacon.append(99)\n",
    "bacon\n",
    "# this will append a new element to the tail end of the original list inplace"
   ]
  },
  {
   "cell_type": "raw",
   "id": "80c5c4ba",
   "metadata": {},
   "source": []
  },
  {
   "cell_type": "raw",
   "id": "a84b0f42",
   "metadata": {},
   "source": [
    "8. How does bacon.remove('cat') change the look of the list in bacon?\n"
   ]
  },
  {
   "cell_type": "code",
   "execution_count": 15,
   "id": "4a1bbd31",
   "metadata": {},
   "outputs": [
    {
     "data": {
      "text/plain": [
       "[3.14, 11, 'cat', True]"
      ]
     },
     "execution_count": 15,
     "metadata": {},
     "output_type": "execute_result"
    }
   ],
   "source": [
    "bacon = [3.14, 'cat' ,11, 'cat' ,True]\n",
    "bacon.remove('cat')\n",
    "bacon\n",
    "# it will remove the FIRST element same as given in the argument of remove"
   ]
  },
  {
   "cell_type": "raw",
   "id": "3e09a7dc",
   "metadata": {},
   "source": []
  },
  {
   "cell_type": "raw",
   "id": "8adff296",
   "metadata": {},
   "source": [
    "9. What are the list concatenation and list replication operators?\n"
   ]
  },
  {
   "cell_type": "code",
   "execution_count": null,
   "id": "33204f1e",
   "metadata": {},
   "outputs": [],
   "source": [
    "+ is list concatenation opertor\n",
    "* is list replication operator"
   ]
  },
  {
   "cell_type": "code",
   "execution_count": 16,
   "id": "dabb4e6a",
   "metadata": {},
   "outputs": [
    {
     "name": "stdout",
     "output_type": "stream",
     "text": [
      "[1, 2, 3, 3, 4, 5]\n",
      "[1, 2, 3, 1, 2, 3]\n"
     ]
    }
   ],
   "source": [
    "print([1,2,3]+[3,4,5])  # list concatenation\n",
    "print([1,2,3]*2)    # list replication"
   ]
  },
  {
   "cell_type": "raw",
   "id": "3c57664b",
   "metadata": {},
   "source": []
  },
  {
   "cell_type": "raw",
   "id": "bf296d42",
   "metadata": {},
   "source": [
    "10. What is difference between the list methods append() and insert()?\n"
   ]
  },
  {
   "cell_type": "code",
   "execution_count": null,
   "id": "d1dbc096",
   "metadata": {},
   "outputs": [],
   "source": [
    "append() will always add element to the last index of the list\n",
    "insert will add element to the index mentioned in argument"
   ]
  },
  {
   "cell_type": "code",
   "execution_count": 21,
   "id": "6210a6ae",
   "metadata": {},
   "outputs": [
    {
     "name": "stdout",
     "output_type": "stream",
     "text": [
      "[1, 2, 3, 'pop']     [1, 'pop', 2, 3]\n"
     ]
    }
   ],
   "source": [
    "x = [1,2,3]\n",
    "x.append('pop')\n",
    "y = [1,2,3]\n",
    "y.insert(1,'pop')\n",
    "print(x,'   ',y)"
   ]
  },
  {
   "cell_type": "raw",
   "id": "1fea4365",
   "metadata": {},
   "source": []
  },
  {
   "cell_type": "raw",
   "id": "3d98de44",
   "metadata": {},
   "source": [
    "11. What are the two methods for removing items from a list?\n"
   ]
  },
  {
   "cell_type": "code",
   "execution_count": null,
   "id": "2294eb9a",
   "metadata": {},
   "outputs": [],
   "source": [
    "pop and remove are two methods to remove items form a list\n",
    "pop remove and return the last index element (if index is not specified) else it removes specific index elemnt and return it\n",
    "and \n",
    "remove removes the element in a particular index given in the argument"
   ]
  },
  {
   "cell_type": "code",
   "execution_count": 25,
   "id": "e35a6ddb",
   "metadata": {},
   "outputs": [
    {
     "name": "stdout",
     "output_type": "stream",
     "text": [
      "3\n"
     ]
    },
    {
     "data": {
      "text/plain": [
       "[1, 2]"
      ]
     },
     "execution_count": 25,
     "metadata": {},
     "output_type": "execute_result"
    }
   ],
   "source": [
    "x = [1,2,3]\n",
    "print(x.pop())\n",
    "x"
   ]
  },
  {
   "cell_type": "code",
   "execution_count": 26,
   "id": "0a71149d",
   "metadata": {},
   "outputs": [
    {
     "name": "stdout",
     "output_type": "stream",
     "text": [
      "2\n"
     ]
    },
    {
     "data": {
      "text/plain": [
       "[1, 3]"
      ]
     },
     "execution_count": 26,
     "metadata": {},
     "output_type": "execute_result"
    }
   ],
   "source": [
    "x = [1,2,3]\n",
    "print(x.pop(1))\n",
    "x"
   ]
  },
  {
   "cell_type": "code",
   "execution_count": 29,
   "id": "5e506765",
   "metadata": {},
   "outputs": [
    {
     "data": {
      "text/plain": [
       "[2, 3]"
      ]
     },
     "execution_count": 29,
     "metadata": {},
     "output_type": "execute_result"
    }
   ],
   "source": [
    "x = [1,2,3]\n",
    "x.remove(1)  # doesn't return anything\n",
    "x"
   ]
  },
  {
   "cell_type": "raw",
   "id": "6e8b5cd4",
   "metadata": {},
   "source": []
  },
  {
   "cell_type": "raw",
   "id": "7aa0a68e",
   "metadata": {},
   "source": [
    "12. Describe how list values and string values are identical."
   ]
  },
  {
   "cell_type": "code",
   "execution_count": null,
   "id": "03b8fbc0",
   "metadata": {},
   "outputs": [],
   "source": [
    "The values that make up a list are called its elements. \n",
    "Lists are similar to strings, which are ordered collections of characters, except that the elements of a list can have \n",
    "any type and for any one list, the items can be of different types."
   ]
  },
  {
   "cell_type": "raw",
   "id": "3774d4ce",
   "metadata": {},
   "source": []
  },
  {
   "cell_type": "raw",
   "id": "1507b268",
   "metadata": {},
   "source": [
    "13. What's the difference between tuples and lists?\n"
   ]
  },
  {
   "cell_type": "code",
   "execution_count": null,
   "id": "b122b126",
   "metadata": {},
   "outputs": [],
   "source": [
    "list                                  tuple\n",
    "is mutable                            is immutable \n",
    "iterations is Time-consuming          iterations is not Time-consuming\n",
    "Lists consume more memory             Less memory\n",
    "The unexpected changes and errors     In tuple, it is hard to take place\n",
    "    are more likely to occu\n",
    "\n"
   ]
  },
  {
   "cell_type": "raw",
   "id": "9043e6f3",
   "metadata": {},
   "source": []
  },
  {
   "cell_type": "raw",
   "id": "ee8a365c",
   "metadata": {},
   "source": [
    "14. How do you type a tuple value that only contains the integer 42?\n"
   ]
  },
  {
   "cell_type": "code",
   "execution_count": null,
   "id": "400ddf94",
   "metadata": {},
   "outputs": [],
   "source": [
    "t = (42,)  # jut put one ',' in it or else it will be treated as a integer"
   ]
  },
  {
   "cell_type": "raw",
   "id": "289f108d",
   "metadata": {},
   "source": []
  },
  {
   "cell_type": "raw",
   "id": "aadebf5d",
   "metadata": {},
   "source": [
    "15. How do you get a list value's tuple form? How do you get a tuple value's list form?\n"
   ]
  },
  {
   "cell_type": "code",
   "execution_count": 31,
   "id": "950dbc1c",
   "metadata": {},
   "outputs": [
    {
     "data": {
      "text/plain": [
       "([1, 2, 3], (1, 2, 3))"
      ]
     },
     "execution_count": 31,
     "metadata": {},
     "output_type": "execute_result"
    }
   ],
   "source": [
    "list((1,2,3,)) , tuple([1,2,3])   # using the list() and tuple()  functions"
   ]
  },
  {
   "cell_type": "raw",
   "id": "e634bbb3",
   "metadata": {},
   "source": []
  },
  {
   "cell_type": "raw",
   "id": "417e3ace",
   "metadata": {},
   "source": [
    "16. Variables that \"contain\" list values are not necessarily lists themselves. Instead, what do they contain?\n"
   ]
  },
  {
   "cell_type": "code",
   "execution_count": null,
   "id": "e19072ff",
   "metadata": {},
   "outputs": [],
   "source": [
    "Variables will contain references to list values rather than list values themselves. But for strings and integer values, \n",
    "variables simply contain the string or integer value. Python uses references whenever variables must store values of\n",
    "mutable data types, such as lists or dictionaries"
   ]
  },
  {
   "cell_type": "raw",
   "id": "fe1ce826",
   "metadata": {},
   "source": []
  },
  {
   "cell_type": "raw",
   "id": "5bb27b38",
   "metadata": {},
   "source": [
    "17. How do you distinguish between copy.copy() and copy.deepcopy()?\n"
   ]
  },
  {
   "cell_type": "code",
   "execution_count": null,
   "id": "956c2e8b",
   "metadata": {},
   "outputs": [],
   "source": [
    "copy.copy(x)\n",
    "Return a shallow copy of x\n",
    "\n",
    "copy.deepcopy(x[, memo])\n",
    "Return a deep copy of x.\n",
    "\n",
    "A shallow copy constructs a new compound object and then (to the extent possible) inserts references into it to\n",
    "the objects found in the original.\n",
    "\n",
    "A deep copy constructs a new compound object and then, recursively, inserts copies into it of the objects found\n",
    "in the original."
   ]
  },
  {
   "cell_type": "code",
   "execution_count": 41,
   "id": "912fb914",
   "metadata": {},
   "outputs": [],
   "source": [
    "lis = [1,2,4]\n",
    "lis2=lis"
   ]
  },
  {
   "cell_type": "code",
   "execution_count": 42,
   "id": "2da7aea1",
   "metadata": {},
   "outputs": [
    {
     "data": {
      "text/plain": [
       "[1, 2, 4]"
      ]
     },
     "execution_count": 42,
     "metadata": {},
     "output_type": "execute_result"
    }
   ],
   "source": [
    "lis2"
   ]
  },
  {
   "cell_type": "code",
   "execution_count": 43,
   "id": "e6bcd02e",
   "metadata": {},
   "outputs": [
    {
     "data": {
      "text/plain": [
       "([1, 32, 4], [1, 32, 4])"
      ]
     },
     "execution_count": 43,
     "metadata": {},
     "output_type": "execute_result"
    }
   ],
   "source": [
    "lis2[1]=32\n",
    "lis ,lis2   #here both lis and lis2 points / refrence to the same memory"
   ]
  },
  {
   "cell_type": "code",
   "execution_count": 35,
   "id": "5a283ddb",
   "metadata": {},
   "outputs": [],
   "source": [
    "##### copy\n",
    "lis = [1,2,4]\n",
    "lis2=lis.copy()   # shallow copy"
   ]
  },
  {
   "cell_type": "code",
   "execution_count": 39,
   "id": "784b24c1",
   "metadata": {},
   "outputs": [
    {
     "data": {
      "text/plain": [
       "([1, 2, 4], [1, 32, 4])"
      ]
     },
     "execution_count": 39,
     "metadata": {},
     "output_type": "execute_result"
    }
   ],
   "source": [
    "lis2[1]=32\n",
    "lis ,lis2"
   ]
  },
  {
   "cell_type": "code",
   "execution_count": 38,
   "id": "3c6fed9f",
   "metadata": {},
   "outputs": [
    {
     "data": {
      "text/plain": [
       "[1, 32, 4]"
      ]
     },
     "execution_count": 38,
     "metadata": {},
     "output_type": "execute_result"
    }
   ],
   "source": [
    "lis2"
   ]
  },
  {
   "cell_type": "code",
   "execution_count": 45,
   "id": "1ea8d716",
   "metadata": {},
   "outputs": [],
   "source": [
    "# let's see the case of nested list\n",
    "\n",
    "lis1 = [[1,2,3],[4,5,6]]\n",
    "lis2 = lis1.copy()"
   ]
  },
  {
   "cell_type": "code",
   "execution_count": 46,
   "id": "6f9896aa",
   "metadata": {},
   "outputs": [],
   "source": [
    "lis2[1][0] = 100"
   ]
  },
  {
   "cell_type": "code",
   "execution_count": 47,
   "id": "29417322",
   "metadata": {},
   "outputs": [
    {
     "data": {
      "text/plain": [
       "([[1, 2, 3], [100, 5, 6]], [[1, 2, 3], [100, 5, 6]])"
      ]
     },
     "execution_count": 47,
     "metadata": {},
     "output_type": "execute_result"
    }
   ],
   "source": [
    "lis1,lis2   # here both are again same after the copy"
   ]
  },
  {
   "cell_type": "markdown",
   "id": "94f6b15c",
   "metadata": {},
   "source": [
    "#### the reason for above is provided in next cell "
   ]
  },
  {
   "cell_type": "code",
   "execution_count": 55,
   "id": "fef4d258",
   "metadata": {},
   "outputs": [
    {
     "name": "stdout",
     "output_type": "stream",
     "text": [
      "True\n",
      "True\n",
      "False\n",
      "True\n"
     ]
    }
   ],
   "source": [
    "lis2[1]=32\n",
    "lis =lis2   #here both lis and lis2 points / refrence to the same memory\n",
    "print(id(lis)==id(lis2))\n",
    "print(id(lis[1])==id(lis2[1]))\n",
    "\n",
    "##### copy\n",
    "lis = [1,2,4]\n",
    "lis2=lis.copy()   # shallow copy\n",
    "print(id(lis)==id(lis2))\n",
    "\n",
    "\n",
    "##### copy\n",
    "lis = [1,2,4]\n",
    "lis2=lis.copy()   # shallow copy\n",
    "print(id(lis[1])==id(lis2[1]))    # this is true because  it is refering to the same object (nested list as the case before) \n",
    "                                # inside the list eventhough the shallow copy is having some other memory assigned\n",
    "\n"
   ]
  },
  {
   "cell_type": "code",
   "execution_count": 57,
   "id": "09a20e42",
   "metadata": {},
   "outputs": [],
   "source": [
    "# deep copy\n",
    "import copy\n",
    "lis1 = [[1,2,3],[4,5,6]]\n",
    "lis2 = copy.deepcopy(lis1)"
   ]
  },
  {
   "cell_type": "code",
   "execution_count": 58,
   "id": "396f6787",
   "metadata": {},
   "outputs": [],
   "source": [
    "lis2[1][0] = 100"
   ]
  },
  {
   "cell_type": "code",
   "execution_count": 59,
   "id": "86839049",
   "metadata": {},
   "outputs": [
    {
     "data": {
      "text/plain": [
       "([[1, 2, 3], [4, 5, 6]], [[1, 2, 3], [100, 5, 6]])"
      ]
     },
     "execution_count": 59,
     "metadata": {},
     "output_type": "execute_result"
    }
   ],
   "source": [
    "lis1,lis2         # this is the difference"
   ]
  },
  {
   "cell_type": "code",
   "execution_count": 60,
   "id": "80ee0d04",
   "metadata": {},
   "outputs": [
    {
     "name": "stdout",
     "output_type": "stream",
     "text": [
      "False\n",
      "False\n"
     ]
    }
   ],
   "source": [
    "print(id(lis1)==id(lis2)) \n",
    "print(id(lis1[1])==id(lis2[1])) # seperate memory location assigned for entire list and the objects in the main list"
   ]
  },
  {
   "cell_type": "code",
   "execution_count": 63,
   "id": "da480151",
   "metadata": {},
   "outputs": [
    {
     "data": {
      "text/plain": [
       "([[[1, 2, 4]]], [[[1, 100, 4]]])"
      ]
     },
     "execution_count": 63,
     "metadata": {},
     "output_type": "execute_result"
    }
   ],
   "source": [
    "lis1 = [[[1,2,4]]]\n",
    "lis2 = copy.deepcopy(lis1)\n",
    "lis2[0][0][1] = 100\n",
    "lis1,lis2 "
   ]
  },
  {
   "cell_type": "code",
   "execution_count": null,
   "id": "fc6786d9",
   "metadata": {},
   "outputs": [],
   "source": []
  }
 ],
 "metadata": {
  "kernelspec": {
   "display_name": "Python 3",
   "language": "python",
   "name": "python3"
  },
  "language_info": {
   "codemirror_mode": {
    "name": "ipython",
    "version": 3
   },
   "file_extension": ".py",
   "mimetype": "text/x-python",
   "name": "python",
   "nbconvert_exporter": "python",
   "pygments_lexer": "ipython3",
   "version": "3.7.10"
  }
 },
 "nbformat": 4,
 "nbformat_minor": 5
}
