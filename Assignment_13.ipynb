{
 "cells": [
  {
   "cell_type": "raw",
   "id": "d71e9f50",
   "metadata": {},
   "source": [
    "1. What advantages do Excel spreadsheets have over CSV spreadsheets?"
   ]
  },
  {
   "cell_type": "code",
   "execution_count": null,
   "id": "57b31393",
   "metadata": {},
   "outputs": [],
   "source": [
    "In Excel, spreadsheets can have values of data types other than strings; cells can have different fonts, sizes, or \n",
    "color settings; cells can have varying widths and heights; adjacent cells can be merged; and you can embed images and\n",
    "charts."
   ]
  },
  {
   "cell_type": "raw",
   "id": "0728703e",
   "metadata": {},
   "source": []
  },
  {
   "cell_type": "raw",
   "id": "63f34402",
   "metadata": {},
   "source": [
    "2.What do you pass to csv.reader() and csv.writer() to create reader and writer objects?"
   ]
  },
  {
   "cell_type": "code",
   "execution_count": 1,
   "id": "f531aec9",
   "metadata": {},
   "outputs": [],
   "source": [
    "import csv\n",
    "csv.reader()\n",
    "csv.writer()"
   ]
  },
  {
   "cell_type": "code",
   "execution_count": null,
   "id": "e93f2a56",
   "metadata": {},
   "outputs": [],
   "source": [
    "csv_reader = csv.reader(iterable [, dialect='excel']\n",
    "                        [optional keyword args])\n",
    "    for row in csv_reader:\n",
    "        process(row)\n",
    "        \n",
    "The \"iterable\" argument can be any object that returns a line\n",
    "of input for each iteration, such as a file object or a list.  The\n",
    "optional \"dialect\" parameter is discussed below.  The function\n",
    "also accepts optional keyword arguments which override settings\n",
    "provided by the dialect\n",
    "\n",
    "csv_writer = csv.writer(fileobj [, dialect='excel']\n",
    "                            [optional keyword args])\n",
    "    for row in sequence:\n",
    "        csv_writer.writerow(row)\n",
    "The \"fileobj\" argument can be any object that supports the file API.\n",
    "\n"
   ]
  },
  {
   "cell_type": "raw",
   "id": "d1da5d49",
   "metadata": {},
   "source": []
  },
  {
   "cell_type": "raw",
   "id": "57b18031",
   "metadata": {},
   "source": [
    "3. What modes do File objects for reader and writer objects need to be opened in?"
   ]
  },
  {
   "cell_type": "code",
   "execution_count": null,
   "id": "eec32ebf",
   "metadata": {},
   "outputs": [],
   "source": [
    "for read mode ='r'\n",
    "for write mode ='w'"
   ]
  },
  {
   "cell_type": "raw",
   "id": "b666dd41",
   "metadata": {},
   "source": []
  },
  {
   "cell_type": "raw",
   "id": "b25b99c3",
   "metadata": {},
   "source": [
    "4. What method takes a list argument and writes it to a CSV file?"
   ]
  },
  {
   "cell_type": "code",
   "execution_count": null,
   "id": "45ae53cb",
   "metadata": {},
   "outputs": [],
   "source": [
    "writerows()\n",
    "This function takes a list of iterables as parameter and writes each item as a comma separated line of items in the file"
   ]
  },
  {
   "cell_type": "raw",
   "id": "05387876",
   "metadata": {},
   "source": []
  },
  {
   "cell_type": "raw",
   "id": "5659d563",
   "metadata": {},
   "source": [
    "5. What do the keyword arguments delimiter and line terminator do?"
   ]
  },
  {
   "cell_type": "code",
   "execution_count": null,
   "id": "9864c0fe",
   "metadata": {},
   "outputs": [],
   "source": [
    "The line terminator is the character that comes at the end of a row.\n",
    "By default, the line terminator is a newline.\n",
    "You can change characters to different values by using the delimiter and lineterminator keyword arguments\n",
    "    with csv. writer() "
   ]
  },
  {
   "cell_type": "raw",
   "id": "791a9d35",
   "metadata": {},
   "source": []
  },
  {
   "cell_type": "raw",
   "id": "556296a7",
   "metadata": {},
   "source": [
    "6. What function takes a string of JSON data and returns a Python data structure?"
   ]
  },
  {
   "cell_type": "code",
   "execution_count": 7,
   "id": "fbc8f983",
   "metadata": {},
   "outputs": [
    {
     "name": "stdout",
     "output_type": "stream",
     "text": [
      "{\"arvind\": 1, \"bijesh\": 2, \"calvin\": 3} is of type  <class 'str'>\n",
      "{'arvind': 1, 'bijesh': 2, 'calvin': 3} is of type <class 'dict'>\n"
     ]
    }
   ],
   "source": [
    "# asn is loads\n",
    "import json\n",
    "dic = {'arvind':1,'bijesh':2,'calvin':3}\n",
    "dic_to_json = json.dumps(dic)\n",
    "print(dic_to_json, 'is of type ',type(dic_to_json))\n",
    "json_to_dic = json.loads(dic_to_json)\n",
    "print(json_to_dic, 'is of type',type(json_to_dic))"
   ]
  },
  {
   "cell_type": "raw",
   "id": "7f008159",
   "metadata": {},
   "source": []
  },
  {
   "cell_type": "raw",
   "id": "e2aa1888",
   "metadata": {},
   "source": [
    "7. What function takes a Python data structure and returns a string of JSON data?"
   ]
  },
  {
   "cell_type": "code",
   "execution_count": 8,
   "id": "92e71911",
   "metadata": {},
   "outputs": [
    {
     "name": "stdout",
     "output_type": "stream",
     "text": [
      "{\"arvind\": 1, \"bijesh\": 2, \"calvin\": 3} is of type  <class 'str'>\n"
     ]
    }
   ],
   "source": [
    "# ans is dumps\n",
    "import json\n",
    "dic = {'arvind':1,'bijesh':2,'calvin':3}\n",
    "dic_to_json = json.dumps(dic)\n",
    "print(dic_to_json, 'is of type ',type(dic_to_json))"
   ]
  },
  {
   "cell_type": "code",
   "execution_count": null,
   "id": "41e160f9",
   "metadata": {},
   "outputs": [],
   "source": []
  }
 ],
 "metadata": {
  "kernelspec": {
   "display_name": "Python 3",
   "language": "python",
   "name": "python3"
  },
  "language_info": {
   "codemirror_mode": {
    "name": "ipython",
    "version": 3
   },
   "file_extension": ".py",
   "mimetype": "text/x-python",
   "name": "python",
   "nbconvert_exporter": "python",
   "pygments_lexer": "ipython3",
   "version": "3.7.10"
  }
 },
 "nbformat": 4,
 "nbformat_minor": 5
}
