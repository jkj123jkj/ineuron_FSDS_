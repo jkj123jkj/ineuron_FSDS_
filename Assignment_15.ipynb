{
 "cells": [
  {
   "cell_type": "raw",
   "id": "e24fc10d",
   "metadata": {},
   "source": [
    "1.How many seconds are in an hour? Use the interactive interpreter as a calculator and multiply the number of seconds in a minute (60) by the number of minutes in an hour (also 60).\n",
    "sol. 60 "
   ]
  },
  {
   "cell_type": "code",
   "execution_count": 5,
   "id": "d9f42304",
   "metadata": {},
   "outputs": [
    {
     "name": "stdout",
     "output_type": "stream",
     "text": [
      "total secs in a hr = 3600\n"
     ]
    }
   ],
   "source": [
    "num_min_ =60\n",
    "num_sec_in_min =60\n",
    "print('total secs in a hr =',num_min_*num_sec_in_min)"
   ]
  },
  {
   "cell_type": "raw",
   "id": "e73c73b4",
   "metadata": {},
   "source": []
  },
  {
   "cell_type": "raw",
   "id": "72cd096e",
   "metadata": {},
   "source": [
    "2. Assign the result from the previous task (seconds in an hour) to a variable called seconds_per_hour."
   ]
  },
  {
   "cell_type": "code",
   "execution_count": 3,
   "id": "2d76de99",
   "metadata": {},
   "outputs": [],
   "source": [
    "seconds_per_hour = num_min_*num_sec_in_min"
   ]
  },
  {
   "cell_type": "raw",
   "id": "8c2f2574",
   "metadata": {},
   "source": []
  },
  {
   "cell_type": "raw",
   "id": "6090146a",
   "metadata": {},
   "source": [
    "3. How many seconds do you think there are in a day? Make use of the variables seconds per hour and minutes per hour."
   ]
  },
  {
   "cell_type": "code",
   "execution_count": 4,
   "id": "0bde0cc8",
   "metadata": {},
   "outputs": [
    {
     "name": "stdout",
     "output_type": "stream",
     "text": [
      "total secs in a day = 86400\n"
     ]
    }
   ],
   "source": [
    "tot_hr_in_day =24\n",
    "print('total secs in a day =',tot_hr_in_day*seconds_per_hour)"
   ]
  },
  {
   "cell_type": "raw",
   "id": "6907085b",
   "metadata": {},
   "source": []
  },
  {
   "cell_type": "raw",
   "id": "53f364ff",
   "metadata": {},
   "source": [
    "4. Calculate seconds per day again, but this time save the result in a variable called seconds_per_day"
   ]
  },
  {
   "cell_type": "code",
   "execution_count": 6,
   "id": "c394282a",
   "metadata": {},
   "outputs": [],
   "source": [
    "seconds_per_day = tot_hr_in_day*seconds_per_hour"
   ]
  },
  {
   "cell_type": "raw",
   "id": "c66d52c9",
   "metadata": {},
   "source": []
  },
  {
   "cell_type": "raw",
   "id": "5bdf4e38",
   "metadata": {},
   "source": [
    "5. Divide seconds_per_day by seconds_per_hour. Use floating-point (/) division."
   ]
  },
  {
   "cell_type": "code",
   "execution_count": 7,
   "id": "658fbcb9",
   "metadata": {},
   "outputs": [
    {
     "data": {
      "text/plain": [
       "24.0"
      ]
     },
     "execution_count": 7,
     "metadata": {},
     "output_type": "execute_result"
    }
   ],
   "source": [
    "seconds_per_day/seconds_per_hour"
   ]
  },
  {
   "cell_type": "raw",
   "id": "15aca419",
   "metadata": {},
   "source": []
  },
  {
   "cell_type": "raw",
   "id": "92cc6e65",
   "metadata": {},
   "source": [
    "6. Divide seconds_per_day by seconds_per_hour, using integer (//) division. Did this number agree with the floating-point value from the previous question, aside from the final .0?"
   ]
  },
  {
   "cell_type": "code",
   "execution_count": 8,
   "id": "f23ef0aa",
   "metadata": {},
   "outputs": [
    {
     "data": {
      "text/plain": [
       "24"
      ]
     },
     "execution_count": 8,
     "metadata": {},
     "output_type": "execute_result"
    }
   ],
   "source": [
    "seconds_per_day//seconds_per_hour  # this is floor division and it returns the integer value"
   ]
  },
  {
   "cell_type": "raw",
   "id": "f928452a",
   "metadata": {},
   "source": []
  },
  {
   "cell_type": "raw",
   "id": "90d17119",
   "metadata": {},
   "source": [
    "7. Write a generator, genPrimes, that returns the sequence of prime numbers on successive calls to its next() method: 2, 3, 5, 7, 11, ..."
   ]
  },
  {
   "cell_type": "code",
   "execution_count": 57,
   "id": "3ab07e91",
   "metadata": {},
   "outputs": [],
   "source": [
    "def genPrimes():\n",
    "    primes = [2]\n",
    "    count = 1\n",
    "    while True:\n",
    "        count += 1\n",
    "        for i in range(2,count):\n",
    "            if count % i ==0:\n",
    "                break\n",
    "            else:\n",
    "                primes.append(count)    \n",
    "        if count == primes[-1]:\n",
    "            yield primes[-1]"
   ]
  },
  {
   "cell_type": "code",
   "execution_count": 58,
   "id": "e87e3760",
   "metadata": {},
   "outputs": [
    {
     "name": "stdout",
     "output_type": "stream",
     "text": [
      "2\n",
      "3\n",
      "5\n",
      "7\n",
      "9\n",
      "11\n"
     ]
    }
   ],
   "source": [
    "get = genPrimes()  # created an object of genprimes generator,,, once the generator fn is created it will be \n",
    "for i in range(6):        # \n",
    "    print(next(get))"
   ]
  }
 ],
 "metadata": {
  "kernelspec": {
   "display_name": "Python 3",
   "language": "python",
   "name": "python3"
  },
  "language_info": {
   "codemirror_mode": {
    "name": "ipython",
    "version": 3
   },
   "file_extension": ".py",
   "mimetype": "text/x-python",
   "name": "python",
   "nbconvert_exporter": "python",
   "pygments_lexer": "ipython3",
   "version": "3.7.10"
  }
 },
 "nbformat": 4,
 "nbformat_minor": 5
}
