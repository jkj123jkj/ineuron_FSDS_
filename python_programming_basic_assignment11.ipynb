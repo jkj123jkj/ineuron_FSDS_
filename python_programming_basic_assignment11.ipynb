{
 "cells": [
  {
   "cell_type": "raw",
   "id": "a1940a65",
   "metadata": {},
   "source": [
    "1. Write a Python program to find words which are greater than given length k?"
   ]
  },
  {
   "cell_type": "code",
   "execution_count": 4,
   "id": "5c2b0410",
   "metadata": {},
   "outputs": [
    {
     "name": "stdout",
     "output_type": "stream",
     "text": [
      "jyothin\n",
      "fine\n"
     ]
    }
   ],
   "source": [
    "def fn(word,k):\n",
    "    word = word.split()\n",
    "    for i in word:\n",
    "        if len(i)>k:\n",
    "            print(i)\n",
    "fn(\"hai i am jyothin i'm fine ok\",3)"
   ]
  },
  {
   "cell_type": "raw",
   "id": "60ed4cd8",
   "metadata": {},
   "source": []
  },
  {
   "cell_type": "raw",
   "id": "af6e72ca",
   "metadata": {},
   "source": [
    "2. Write a Python program for removing i-th character from a string?"
   ]
  },
  {
   "cell_type": "code",
   "execution_count": 9,
   "id": "93d838a3",
   "metadata": {},
   "outputs": [
    {
     "data": {
      "text/plain": [
       "'hi k fine'"
      ]
     },
     "execution_count": 9,
     "metadata": {},
     "output_type": "execute_result"
    }
   ],
   "source": [
    "def fn(sent,ind):\n",
    "    for i ,j in enumerate(sent):\n",
    "        if i == ind:\n",
    "            sent = sent.replace(sent[i],'',1)\n",
    "    return sent\n",
    "fn('hi ok fine' ,3)     "
   ]
  },
  {
   "cell_type": "raw",
   "id": "906500ba",
   "metadata": {},
   "source": []
  },
  {
   "cell_type": "raw",
   "id": "8635c538",
   "metadata": {},
   "source": [
    "3. Write a Python program to split and join a string?"
   ]
  },
  {
   "cell_type": "code",
   "execution_count": 12,
   "id": "c24ac88c",
   "metadata": {},
   "outputs": [
    {
     "name": "stdout",
     "output_type": "stream",
     "text": [
      "['hi', 'ok', 'fine']\n",
      "hi ok fine\n"
     ]
    }
   ],
   "source": [
    "sent = 'hi ok fine'\n",
    "sent = sent.split(\" \") \n",
    "print(sent)\n",
    "sent2 = \" \".join(sent)\n",
    "print(sent2)"
   ]
  },
  {
   "cell_type": "raw",
   "id": "0525e85d",
   "metadata": {},
   "source": []
  },
  {
   "cell_type": "raw",
   "id": "ddda2fb1",
   "metadata": {},
   "source": [
    "4. Write a Python to check if a given string is binary string or not?"
   ]
  },
  {
   "cell_type": "code",
   "execution_count": 16,
   "id": "cc885e77",
   "metadata": {},
   "outputs": [
    {
     "name": "stdout",
     "output_type": "stream",
     "text": [
      "num is binary\n",
      "its not a binary num\n"
     ]
    }
   ],
   "source": [
    "def check(bin_):\n",
    "    bina ='01'\n",
    "    flag =0\n",
    "    for i in bin_:\n",
    "        if i not in bina:\n",
    "            flag=1\n",
    "            print(\"its not a binary num\")\n",
    "    if flag ==0:\n",
    "        print('num is binary')\n",
    "lis = ['1010001010','101009']\n",
    "for i in lis:\n",
    "    check(i)"
   ]
  },
  {
   "cell_type": "raw",
   "id": "36aecc7d",
   "metadata": {},
   "source": []
  },
  {
   "cell_type": "raw",
   "id": "c2c87529",
   "metadata": {},
   "source": [
    "5. Write a Python program to find uncommon words from two Strings?"
   ]
  },
  {
   "cell_type": "code",
   "execution_count": 25,
   "id": "0ef1e13b",
   "metadata": {},
   "outputs": [
    {
     "data": {
      "text/plain": [
       "{'are', 'guys', 'see', 'yea'}"
      ]
     },
     "execution_count": 25,
     "metadata": {},
     "output_type": "execute_result"
    }
   ],
   "source": [
    "def uncom(sent1,sent2):\n",
    "    sent1 , sent2 = set(sent1.split()) , set(sent2.split())\n",
    "    return sent1.difference(sent2).union(sent2.difference(sent1))\n",
    "uncom('hi guys are you ok','yea hi ok see you')"
   ]
  },
  {
   "cell_type": "raw",
   "id": "3a1a4c00",
   "metadata": {},
   "source": []
  },
  {
   "cell_type": "raw",
   "id": "b6b526a9",
   "metadata": {},
   "source": [
    "6. Write a Python to find all duplicate characters in string?"
   ]
  },
  {
   "cell_type": "code",
   "execution_count": 29,
   "id": "704feab0",
   "metadata": {},
   "outputs": [
    {
     "data": {
      "text/plain": [
       "'The duplicate chars are i h o'"
      ]
     },
     "execution_count": 29,
     "metadata": {},
     "output_type": "execute_result"
    }
   ],
   "source": [
    "def dup(word):\n",
    "    x=''\n",
    "    d=[]\n",
    "    word = word.lower()\n",
    "    for i in word:\n",
    "        if i in x:\n",
    "            d.append(i)\n",
    "        elif i != ' ':\n",
    "            x+=i\n",
    "    return \"The duplicate chars are \"+' '.join(d)\n",
    "dup('hi i how are you')\n",
    "            "
   ]
  },
  {
   "cell_type": "raw",
   "id": "c4cb6de9",
   "metadata": {},
   "source": []
  },
  {
   "cell_type": "raw",
   "id": "215ec917",
   "metadata": {},
   "source": [
    "7. Write a Python Program to check if a string contains any special character?"
   ]
  },
  {
   "cell_type": "code",
   "execution_count": 30,
   "id": "00e44824",
   "metadata": {},
   "outputs": [
    {
     "name": "stdout",
     "output_type": "stream",
     "text": [
      "Enter the string a : sjandiu39803021!^*%(*&\n",
      "String sjandiu39803021!^*%(*& has special charecter/s : ['!', '^', '*', '%', '(', '*', '&']\n"
     ]
    }
   ],
   "source": [
    "import string\n",
    "string_char = string.punctuation\n",
    "spChar = []\n",
    "\n",
    "str = input(\"Enter the string a : \").lower()\n",
    "for i in str:\n",
    "    if i in string_char:\n",
    "        spChar.append(i)\n",
    "if len(spChar) > 0:\n",
    "    print(\"String {} has special charecter/s : {}\".format(str,spChar))"
   ]
  },
  {
   "cell_type": "raw",
   "id": "2c62fc1b",
   "metadata": {},
   "source": []
  }
 ],
 "metadata": {
  "kernelspec": {
   "display_name": "Python 3",
   "language": "python",
   "name": "python3"
  },
  "language_info": {
   "codemirror_mode": {
    "name": "ipython",
    "version": 3
   },
   "file_extension": ".py",
   "mimetype": "text/x-python",
   "name": "python",
   "nbconvert_exporter": "python",
   "pygments_lexer": "ipython3",
   "version": "3.7.10"
  }
 },
 "nbformat": 4,
 "nbformat_minor": 5
}
