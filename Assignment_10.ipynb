{
 "cells": [
  {
   "cell_type": "raw",
   "id": "764d8634",
   "metadata": {},
   "source": [
    "1. How do you distinguish between shutil.copy() and shutil.copytree()?"
   ]
  },
  {
   "cell_type": "code",
   "execution_count": null,
   "id": "e7510052",
   "metadata": {},
   "outputs": [],
   "source": [
    "shutil.copy() will copy a single file, \n",
    "shutil.copytree() will copy an entire folder and every folder and file contained in it."
   ]
  },
  {
   "cell_type": "raw",
   "id": "28054d75",
   "metadata": {},
   "source": []
  },
  {
   "cell_type": "raw",
   "id": "cd25eecb",
   "metadata": {},
   "source": [
    "2. What function is used to rename files??"
   ]
  },
  {
   "cell_type": "code",
   "execution_count": null,
   "id": "7009cfe3",
   "metadata": {},
   "outputs": [],
   "source": [
    "os.rename() method in Python is used to rename a file or directory."
   ]
  },
  {
   "cell_type": "raw",
   "id": "544c04bc",
   "metadata": {},
   "source": []
  },
  {
   "cell_type": "raw",
   "id": "7723d0d3",
   "metadata": {},
   "source": [
    "3. What is the difference between the delete functions in the send2trash and shutil modules?"
   ]
  },
  {
   "cell_type": "code",
   "execution_count": null,
   "id": "92ae562d",
   "metadata": {},
   "outputs": [],
   "source": [
    "The send2trash functions will move a file or folder to the recycle bin, \n",
    "while shutil functions will permanently delete files and folders."
   ]
  },
  {
   "cell_type": "raw",
   "id": "cee562e9",
   "metadata": {},
   "source": []
  },
  {
   "cell_type": "raw",
   "id": "673958c2",
   "metadata": {},
   "source": [
    "4.ZipFile objects have a close() method just like File objects’ close() method. What ZipFile method is equivalent to File objects’ open() method?"
   ]
  },
  {
   "cell_type": "code",
   "execution_count": null,
   "id": "512d31d8",
   "metadata": {},
   "outputs": [],
   "source": [
    "fileObject.close() --> This method does not return any value.\n",
    "file method close() closes the opened file. A closed file cannot be read or written any more\n",
    "\n",
    "ZipFile.close()\n",
    "Close the archive file. You must call close() before exiting your program or essential records will not be written."
   ]
  },
  {
   "cell_type": "raw",
   "id": "c29d3a38",
   "metadata": {},
   "source": []
  },
  {
   "cell_type": "raw",
   "id": "06091ee8",
   "metadata": {},
   "source": [
    "5. Create a programme that searches a folder tree for files with a certain file extension (such as .pdf or .jpg). Copy these files from whatever location they are in to a new folder."
   ]
  },
  {
   "cell_type": "code",
   "execution_count": 9,
   "id": "85e25224",
   "metadata": {},
   "outputs": [
    {
     "name": "stdout",
     "output_type": "stream",
     "text": [
      "python programming basic assignment\n",
      "['New folder']\n",
      "['Programming_Assingment1.docx', 'Programming_Assingment10.docx', 'Programming_Assingment11.docx', 'Programming_Assingment12.docx', 'Programming_Assingment13.docx', 'Programming_Assingment14.docx', 'Programming_Assingment15.docx', 'Programming_Assingment16.docx', 'Programming_Assingment17.docx', 'Programming_Assingment18.docx', 'Programming_Assingment19.docx', 'Programming_Assingment2.docx', 'Programming_Assingment20.docx', 'Programming_Assingment21.docx', 'Programming_Assingment22.docx', 'Programming_Assingment23.docx', 'Programming_Assingment24.docx', 'Programming_Assingment25.docx', 'Programming_Assingment3.docx', 'Programming_Assingment4.docx', 'Programming_Assingment5.docx', 'Programming_Assingment6.docx', 'Programming_Assingment7.docx', 'Programming_Assingment8.docx', 'Programming_Assingment9.docx']\n",
      "\n",
      "python programming basic assignment\\New folder\n",
      "['New folder']\n",
      "['New Microsoft Office Word Document.docx']\n",
      "\n",
      "python programming basic assignment\\New folder\\New folder\n",
      "[]\n",
      "[]\n",
      "\n"
     ]
    }
   ],
   "source": [
    "import os\n",
    "for x,y,z in os.walk('python programming basic assignment'):\n",
    "    print(x)\n",
    "    print(y)\n",
    "    print(z)\n",
    "    print()"
   ]
  },
  {
   "cell_type": "code",
   "execution_count": 10,
   "id": "22a582b3",
   "metadata": {},
   "outputs": [
    {
     "data": {
      "text/plain": [
       "'\\\\'"
      ]
     },
     "execution_count": 10,
     "metadata": {},
     "output_type": "execute_result"
    }
   ],
   "source": [
    "os.path.sep"
   ]
  },
  {
   "cell_type": "code",
   "execution_count": 17,
   "id": "a0696300",
   "metadata": {},
   "outputs": [],
   "source": [
    "import os, shutil\n",
    "\n",
    "class copy_the_files:\n",
    "    def __init__(self,folder, extensions, destFolder):\n",
    "        self.folder = folder\n",
    "        self.extensions = extensions\n",
    "        self.destFolder = destFolder\n",
    "        \n",
    "    def copy_(self,):\n",
    "        folder = os.path.join(self.folder)\n",
    "        destFolder = os.path.join(self.destFolder)\n",
    "        \n",
    "        for foldername, subfolders, filenames in os.walk(self.folder):\n",
    "            for filename in filenames:\n",
    "                name, extension = os.path.splitext(filename)\n",
    "                if extension in extensions:\n",
    "                    fileAbsPath = foldername + os.path.sep + filename\n",
    "                    shutil.copy(fileAbsPath, destFolder)\n",
    "\n",
    "extensions = ['.txt', '.csv']\n",
    "folder = r'C:\\Users\\Samsung\\iiitmmk\\sem1'\n",
    "destFolder = 'copy_here'  # folder in current dir\n",
    "\n",
    "copy_ = copy_the_files(folder,extensions,destFolder)\n",
    "copy_.copy_()\n",
    "\n",
    "# copied 571 MB of files"
   ]
  },
  {
   "cell_type": "code",
   "execution_count": null,
   "id": "d188ff0c",
   "metadata": {},
   "outputs": [],
   "source": []
  }
 ],
 "metadata": {
  "kernelspec": {
   "display_name": "Python 3",
   "language": "python",
   "name": "python3"
  },
  "language_info": {
   "codemirror_mode": {
    "name": "ipython",
    "version": 3
   },
   "file_extension": ".py",
   "mimetype": "text/x-python",
   "name": "python",
   "nbconvert_exporter": "python",
   "pygments_lexer": "ipython3",
   "version": "3.7.10"
  }
 },
 "nbformat": 4,
 "nbformat_minor": 5
}
