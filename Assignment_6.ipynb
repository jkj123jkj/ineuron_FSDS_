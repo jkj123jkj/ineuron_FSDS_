{
 "cells": [
  {
   "cell_type": "raw",
   "id": "71a6c307",
   "metadata": {},
   "source": [
    "1. What are escape characters, and how do you use them?\n"
   ]
  },
  {
   "cell_type": "code",
   "execution_count": null,
   "id": "caccc648",
   "metadata": {},
   "outputs": [],
   "source": [
    "To insert characters that are illegal in a string, use an escape character.\n",
    "An escape character is a backslash \\ followed by the character you want to insert.\n",
    "\n",
    "\\'  Single Quote \n",
    "\\\\  Backslash \n",
    "\\n  New Line \n",
    "\\r  Carriage Return\n",
    "\\t  Tab\n",
    "\\b  Backspace \n",
    "\\f  Form Feed \n",
    "\\ooo  Octal value \n",
    "\\xhh  Hex value"
   ]
  },
  {
   "cell_type": "raw",
   "id": "ed612050",
   "metadata": {},
   "source": []
  },
  {
   "cell_type": "raw",
   "id": "d53ae5dd",
   "metadata": {},
   "source": [
    "2. What do the escape characters n and t stand for?\n"
   ]
  },
  {
   "cell_type": "code",
   "execution_count": null,
   "id": "997c7121",
   "metadata": {},
   "outputs": [],
   "source": [
    "\\n  New Line \n",
    "\\t  Tab"
   ]
  },
  {
   "cell_type": "raw",
   "id": "68056f9b",
   "metadata": {},
   "source": []
  },
  {
   "cell_type": "raw",
   "id": "e2a26aff",
   "metadata": {},
   "source": [
    "3. What is the way to include backslash characters in a string?\n"
   ]
  },
  {
   "cell_type": "code",
   "execution_count": null,
   "id": "548bc374",
   "metadata": {},
   "outputs": [],
   "source": [
    "\\\\  Backslash"
   ]
  },
  {
   "cell_type": "raw",
   "id": "94c4ecc8",
   "metadata": {},
   "source": []
  },
  {
   "cell_type": "raw",
   "id": "41720a22",
   "metadata": {},
   "source": [
    "4. The string \"Howl's Moving Castle\" is a correct value. Why isn't the single quote character in the word Howl's not escaped a problem?\n"
   ]
  },
  {
   "cell_type": "code",
   "execution_count": 1,
   "id": "7e19e15a",
   "metadata": {},
   "outputs": [
    {
     "data": {
      "text/plain": [
       "\"Howl's Moving Castle\""
      ]
     },
     "execution_count": 1,
     "metadata": {},
     "output_type": "execute_result"
    }
   ],
   "source": [
    "\"Howl's Moving Castle\"  # the string is defined inside double quotes so it doesn't raise any issue"
   ]
  },
  {
   "cell_type": "raw",
   "id": "c463486a",
   "metadata": {},
   "source": []
  },
  {
   "cell_type": "raw",
   "id": "21f42062",
   "metadata": {},
   "source": [
    "5. How do you write a string of newlines if you don't want to use the n character?\n"
   ]
  },
  {
   "cell_type": "code",
   "execution_count": 11,
   "id": "52e14797",
   "metadata": {},
   "outputs": [
    {
     "name": "stdout",
     "output_type": "stream",
     "text": [
      "Hi\n",
      "see you in next line\n"
     ]
    }
   ],
   "source": [
    "print('Hi\\nsee you in next line')"
   ]
  },
  {
   "cell_type": "raw",
   "id": "75373e59",
   "metadata": {},
   "source": []
  },
  {
   "cell_type": "raw",
   "id": "74969f8e",
   "metadata": {},
   "source": [
    "6. What are the values of the given expressions?\n",
    "'Hello, world!'[1]\n",
    "'Hello, world!'[0:5]\n",
    "'Hello, world!'[:5]\n",
    "'Hello, world!'[3:]\n"
   ]
  },
  {
   "cell_type": "code",
   "execution_count": 13,
   "id": "54f9e54d",
   "metadata": {},
   "outputs": [
    {
     "name": "stdout",
     "output_type": "stream",
     "text": [
      "e\n",
      "Hello\n",
      "Hello\n",
      "lo, world!\n"
     ]
    }
   ],
   "source": [
    "lis = ['Hello, world!'[1],  # gives char at index 1  of the string\n",
    "'Hello, world!'[0:5],       # gives chars from the index  0 to 4\n",
    "'Hello, world!'[:5],        # gives chars from the range obeginning to 4\n",
    "'Hello, world!'[3:],        # gives the chars from index 3 till end\n",
    "]\n",
    "for i in lis:\n",
    "    print(i)"
   ]
  },
  {
   "cell_type": "raw",
   "id": "8bc27ab0",
   "metadata": {},
   "source": []
  },
  {
   "cell_type": "raw",
   "id": "dfa9c8dd",
   "metadata": {},
   "source": [
    "7. What are the values of the following expressions?\n",
    "'Hello'.upper()\n",
    "'Hello'.upper().isupper()\n",
    "'Hello'.upper().lower()\n"
   ]
  },
  {
   "cell_type": "code",
   "execution_count": 14,
   "id": "4c1e9630",
   "metadata": {},
   "outputs": [
    {
     "name": "stdout",
     "output_type": "stream",
     "text": [
      "HELLO\n",
      "True\n",
      "hello\n"
     ]
    }
   ],
   "source": [
    "lis = [\n",
    " 'Hello'.upper(),    # convert the string to upper case ( all alhpabets in string)\n",
    "'Hello'.upper().isupper(),    #convert the string to upper case ( all alhpabets in string) and checks whthr its upper or not boolean return\n",
    "'Hello'.upper().lower()   # #convert the string to upper case ( all alhpabets in string) and then converts to lower case ( all alhpabets in string)\n",
    "\n",
    "for i in lis:\n",
    "    print(i)"
   ]
  },
  {
   "cell_type": "raw",
   "id": "97b60c13",
   "metadata": {},
   "source": []
  },
  {
   "cell_type": "raw",
   "id": "4c1d0bf8",
   "metadata": {},
   "source": [
    "8. What are the values of the following expressions?\n",
    "'Remember, remember, the fifth of July.'.split()\n",
    "'-'.join('There can only one.'.split())\n"
   ]
  },
  {
   "cell_type": "code",
   "execution_count": 15,
   "id": "0cc4741a",
   "metadata": {},
   "outputs": [
    {
     "data": {
      "text/plain": [
       "['Remember,', 'remember,', 'the', 'fifth', 'of', 'July.']"
      ]
     },
     "execution_count": 15,
     "metadata": {},
     "output_type": "execute_result"
    }
   ],
   "source": [
    "'Remember, remember, the fifth of July.'.split() # simply split at white spaces by default and return all values as list"
   ]
  },
  {
   "cell_type": "code",
   "execution_count": 16,
   "id": "3339aa4d",
   "metadata": {},
   "outputs": [
    {
     "data": {
      "text/plain": [
       "'There-can-only-one.'"
      ]
     },
     "execution_count": 16,
     "metadata": {},
     "output_type": "execute_result"
    }
   ],
   "source": [
    "'-'.join('There can only one.'.split())  # first it splits at white spaces by default then joins by hyphen - for all values in list returned"
   ]
  },
  {
   "cell_type": "raw",
   "id": "88292eb4",
   "metadata": {},
   "source": []
  },
  {
   "cell_type": "raw",
   "id": "bab14a44",
   "metadata": {},
   "source": [
    "9. What are the methods for right-justifying, left-justifying, and centering a string?\n"
   ]
  },
  {
   "cell_type": "code",
   "execution_count": 26,
   "id": "a1bedb61",
   "metadata": {
    "scrolled": true
   },
   "outputs": [
    {
     "name": "stdout",
     "output_type": "stream",
     "text": [
      "       cat\n"
     ]
    }
   ],
   "source": [
    "# example string\n",
    "string = 'cat'\n",
    "width = 10\n",
    "# print right justified string\n",
    "print(string.rjust(width))   # shifted 10 whitespace from the beginnig"
   ]
  },
  {
   "cell_type": "code",
   "execution_count": 27,
   "id": "16161cae",
   "metadata": {},
   "outputs": [
    {
     "name": "stdout",
     "output_type": "stream",
     "text": [
      "*******cat\n"
     ]
    }
   ],
   "source": [
    "# example string\n",
    "string = 'cat'\n",
    "width = 10\n",
    "fillchar = '*'\n",
    "\n",
    "# print right justified string\n",
    "print(string.rjust(width, fillchar))   # shifted 10 whitespace from the beginnig and filled with a symbol"
   ]
  },
  {
   "cell_type": "code",
   "execution_count": 29,
   "id": "66425192",
   "metadata": {},
   "outputs": [
    {
     "name": "stdout",
     "output_type": "stream",
     "text": [
      "cat        hai\n"
     ]
    }
   ],
   "source": [
    "# example string\n",
    "string = 'cat'\n",
    "width = 10\n",
    "\n",
    "# print left justified string\n",
    "print(string.ljust(width),'hai')    # shifted 10 whitespace from the last character of the string"
   ]
  },
  {
   "cell_type": "code",
   "execution_count": 31,
   "id": "86d857e6",
   "metadata": {},
   "outputs": [
    {
     "name": "stdout",
     "output_type": "stream",
     "text": [
      "cat******* hai\n"
     ]
    }
   ],
   "source": [
    "# example string\n",
    "string = 'cat'\n",
    "width = 10\n",
    "fillchar = '*'\n",
    "# print left justified string\n",
    "print(string.ljust(width, fillchar),'hai') # shifted 10 whitespace from the last character of the string and filled with a symbol"
   ]
  },
  {
   "cell_type": "code",
   "execution_count": 34,
   "id": "64e1efee",
   "metadata": {},
   "outputs": [
    {
     "name": "stdout",
     "output_type": "stream",
     "text": [
      "          I love geeksforgeeks           hai\n",
      "40\n"
     ]
    }
   ],
   "source": [
    "cstr = \"I love geeksforgeeks\"\n",
    "print (cstr.center(40),'hai')\n",
    "print(len(cstr.center(40)))   #kept the string in the center of 40 character spaces"
   ]
  },
  {
   "cell_type": "raw",
   "id": "a46cc22a",
   "metadata": {},
   "source": []
  },
  {
   "cell_type": "raw",
   "id": "dbce9969",
   "metadata": {},
   "source": [
    "10. What is the best way to remove whitespace characters from the start or end?"
   ]
  },
  {
   "cell_type": "code",
   "execution_count": 20,
   "id": "e67a9056",
   "metadata": {},
   "outputs": [
    {
     "name": "stdout",
     "output_type": "stream",
     "text": [
      "hai \n",
      " hai\n",
      "hai\n"
     ]
    }
   ],
   "source": [
    "#use strip function lstrip(), rstrip()\n",
    "x = ' hai '\n",
    "print(x.lstrip())\n",
    "print(x.rstrip())\n",
    "print(x.strip())   # this removes whitespace form both the ends"
   ]
  },
  {
   "cell_type": "code",
   "execution_count": null,
   "id": "1547a39b",
   "metadata": {},
   "outputs": [],
   "source": []
  }
 ],
 "metadata": {
  "kernelspec": {
   "display_name": "Python 3",
   "language": "python",
   "name": "python3"
  },
  "language_info": {
   "codemirror_mode": {
    "name": "ipython",
    "version": 3
   },
   "file_extension": ".py",
   "mimetype": "text/x-python",
   "name": "python",
   "nbconvert_exporter": "python",
   "pygments_lexer": "ipython3",
   "version": "3.7.10"
  }
 },
 "nbformat": 4,
 "nbformat_minor": 5
}
