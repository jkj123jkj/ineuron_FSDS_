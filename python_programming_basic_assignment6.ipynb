{
 "cells": [
  {
   "cell_type": "raw",
   "id": "a1940a65",
   "metadata": {},
   "source": [
    "1.\tWrite a Python Program to Display Fibonacci Sequence Using Recursion?"
   ]
  },
  {
   "cell_type": "code",
   "execution_count": 1,
   "id": "5c2b0410",
   "metadata": {},
   "outputs": [
    {
     "name": "stdout",
     "output_type": "stream",
     "text": [
      "Fibonacci sequence:\n",
      "0\n",
      "1\n",
      "1\n",
      "2\n",
      "3\n",
      "5\n",
      "8\n",
      "13\n",
      "21\n",
      "34\n"
     ]
    }
   ],
   "source": [
    "def recur_fibo(n):\n",
    "    if n <= 1:\n",
    "        return n\n",
    "    else:\n",
    "         return(recur_fibo(n-1) + recur_fibo(n-2))\n",
    "nterms = 10\n",
    "if nterms <= 0:\n",
    "    print(\"Plese enter a positive integer\")\n",
    "else:\n",
    "    print(\"Fibonacci sequence:\")\n",
    "    for i in range(nterms):\n",
    "        print(recur_fibo(i))"
   ]
  },
  {
   "cell_type": "raw",
   "id": "60ed4cd8",
   "metadata": {},
   "source": []
  },
  {
   "cell_type": "raw",
   "id": "af6e72ca",
   "metadata": {},
   "source": [
    "2.\tWrite a Python Program to Find Factorial of Number Using Recursion?"
   ]
  },
  {
   "cell_type": "code",
   "execution_count": 2,
   "id": "93d838a3",
   "metadata": {},
   "outputs": [
    {
     "name": "stdout",
     "output_type": "stream",
     "text": [
      "Factorial of 0 is 1\n",
      "Factorial of 1 is 1\n",
      "Factorial of 2 is 2\n",
      "Factorial of 3 is 6\n",
      "Factorial of 4 is 24\n",
      "Factorial of 5 is 120\n",
      "Factorial of 6 is 720\n",
      "Factorial of 7 is 5040\n",
      "Factorial of 8 is 40320\n",
      "Factorial of 9 is 362880\n"
     ]
    }
   ],
   "source": [
    "def fact_rec(val):\n",
    "    if val ==0:\n",
    "        return 1\n",
    "    else:\n",
    "        return val*fact_rec(val-1)\n",
    "for i in range(10):\n",
    "    print('Factorial of {} is {}'.format(i,fact_rec(i)))"
   ]
  },
  {
   "cell_type": "raw",
   "id": "906500ba",
   "metadata": {},
   "source": []
  },
  {
   "cell_type": "raw",
   "id": "8635c538",
   "metadata": {},
   "source": [
    "3.\tWrite a Python Program to calculate your Body Mass Index?"
   ]
  },
  {
   "cell_type": "code",
   "execution_count": 3,
   "id": "c24ac88c",
   "metadata": {},
   "outputs": [
    {
     "name": "stdout",
     "output_type": "stream",
     "text": [
      "The BMI of height = 172 and weight = 55 is 0.31976744186046513\n",
      "The BMI of height = 132 and weight = 44 is 0.3333333333333333\n",
      "The BMI of height = 166 and weight = 68 is 0.40963855421686746\n",
      "The BMI of height = 172 and weight = 46 is 0.26744186046511625\n",
      "The BMI of height = 170 and weight = 67 is 0.3941176470588235\n",
      "The BMI of height = 167 and weight = 65 is 0.38922155688622756\n",
      "The BMI of height = 141 and weight = 59 is 0.41843971631205673\n",
      "The BMI of height = 176 and weight = 41 is 0.23295454545454544\n",
      "The BMI of height = 164 and weight = 90 is 0.5487804878048781\n",
      "The BMI of height = 143 and weight = 54 is 0.3776223776223776\n"
     ]
    }
   ],
   "source": [
    "#BMI= Weight /height\n",
    "import random\n",
    "def BMI(wt,ht):\n",
    "    return wt/ht\n",
    "for i in range(10):\n",
    "    wt , ht = random.randint(40,100), random.randint(130,190)\n",
    "    print('The BMI of height = {} and weight = {} is {}'.format(ht,wt,BMI(wt,ht)))"
   ]
  },
  {
   "cell_type": "raw",
   "id": "0525e85d",
   "metadata": {},
   "source": []
  },
  {
   "cell_type": "raw",
   "id": "ddda2fb1",
   "metadata": {},
   "source": [
    "4.\tWrite a Python Program to calculate the natural logarithm of any number?"
   ]
  },
  {
   "cell_type": "code",
   "execution_count": 43,
   "id": "cc885e77",
   "metadata": {},
   "outputs": [
    {
     "name": "stdout",
     "output_type": "stream",
     "text": [
      "0.0\n",
      "1.6094379124341003\n",
      "2.1972245773362196\n",
      "2.5649493574615367\n",
      "2.833213344056216\n",
      "3.044522437723423\n",
      "3.2188758248682006\n",
      "3.367295829986474\n",
      "3.4965075614664802\n",
      "3.6109179126442243\n",
      "3.713572066704308\n",
      "3.8066624897703196\n",
      "3.8918202981106265\n"
     ]
    }
   ],
   "source": [
    "import math\n",
    "for i in range(1,50,4):\n",
    "    print(math.log(i))"
   ]
  },
  {
   "cell_type": "markdown",
   "id": "733f119f",
   "metadata": {},
   "source": [
    "##### below is the hard coded for code for finding natural logarithm, it find nat log for any number greater than 1 , little more changes has to be made to find the natural logarithm of numbers between 0 and 1"
   ]
  },
  {
   "cell_type": "code",
   "execution_count": 44,
   "id": "f1abb710",
   "metadata": {},
   "outputs": [
    {
     "name": "stdout",
     "output_type": "stream",
     "text": [
      "1e-06\n",
      "1.6094389999999996\n",
      "2.1972249999999995\n",
      "2.564954999999999\n",
      "2.8332149999999996\n",
      "3.044525\n",
      "3.2188757999999997\n",
      "3.367301\n",
      "3.4965075999999993\n",
      "3.610925\n",
      "3.7135770000000003\n",
      "3.806662499999999\n",
      "3.8918249999999994\n"
     ]
    }
   ],
   "source": [
    "def nat_log(val):\n",
    "    e = 2.7182824\n",
    "    i=-1\n",
    "    prev = 0\n",
    "    for j in range(7):\n",
    "        prod = 0\n",
    "        i = prev\n",
    "        count = 0\n",
    "        while prod <val+.000001:\n",
    "            prev = i\n",
    "            if j ==0:\n",
    "                i+=1\n",
    "                prod = e**i\n",
    "            else:\n",
    "                i+=float( '.'+'0'*(j-1) +str(count) )\n",
    "                prod = e**i\n",
    "                count+=1\n",
    "    return i\n",
    "for i in range(1,50,4):\n",
    "    print(nat_log(i))\n",
    "\n",
    "                "
   ]
  },
  {
   "cell_type": "raw",
   "id": "8e2b18ea",
   "metadata": {},
   "source": []
  },
  {
   "cell_type": "raw",
   "id": "c2c87529",
   "metadata": {},
   "source": [
    "5.\tWrite a Python Program for cube sum of first n natural numbers?"
   ]
  },
  {
   "cell_type": "code",
   "execution_count": 47,
   "id": "0ef1e13b",
   "metadata": {},
   "outputs": [
    {
     "name": "stdout",
     "output_type": "stream",
     "text": [
      "cubesum of first 1 natural numbers is 1\n",
      "cubesum of first 2 natural numbers is 9\n",
      "cubesum of first 3 natural numbers is 36\n",
      "cubesum of first 4 natural numbers is 100\n",
      "cubesum of first 5 natural numbers is 225\n",
      "cubesum of first 6 natural numbers is 441\n",
      "cubesum of first 7 natural numbers is 784\n",
      "cubesum of first 8 natural numbers is 1296\n",
      "cubesum of first 9 natural numbers is 2025\n",
      "cubesum of first 10 natural numbers is 3025\n",
      "cubesum of first 11 natural numbers is 4356\n",
      "cubesum of first 12 natural numbers is 6084\n",
      "cubesum of first 13 natural numbers is 8281\n",
      "cubesum of first 14 natural numbers is 11025\n",
      "cubesum of first 15 natural numbers is 14400\n",
      "cubesum of first 16 natural numbers is 18496\n",
      "cubesum of first 17 natural numbers is 23409\n",
      "cubesum of first 18 natural numbers is 29241\n",
      "cubesum of first 19 natural numbers is 36100\n"
     ]
    }
   ],
   "source": [
    "def cube_sum(val):\n",
    "    summ = 0\n",
    "    for i in range(1,val+1):\n",
    "        summ+=i**3\n",
    "    return summ\n",
    "for i in range(1,20):\n",
    "    print('cubesum of first {} natural numbers is'.format(i),cube_sum(i))"
   ]
  },
  {
   "cell_type": "raw",
   "id": "3a1a4c00",
   "metadata": {},
   "source": []
  },
  {
   "cell_type": "raw",
   "id": "b6b526a9",
   "metadata": {},
   "source": []
  }
 ],
 "metadata": {
  "kernelspec": {
   "display_name": "Python 3",
   "language": "python",
   "name": "python3"
  },
  "language_info": {
   "codemirror_mode": {
    "name": "ipython",
    "version": 3
   },
   "file_extension": ".py",
   "mimetype": "text/x-python",
   "name": "python",
   "nbconvert_exporter": "python",
   "pygments_lexer": "ipython3",
   "version": "3.7.10"
  }
 },
 "nbformat": 4,
 "nbformat_minor": 5
}
