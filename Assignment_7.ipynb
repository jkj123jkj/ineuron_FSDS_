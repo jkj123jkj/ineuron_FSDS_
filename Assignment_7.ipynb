{
 "cells": [
  {
   "cell_type": "raw",
   "id": "2d61752e",
   "metadata": {},
   "source": [
    "1. What is the name of the feature responsible for generating Regex objects?"
   ]
  },
  {
   "cell_type": "code",
   "execution_count": null,
   "id": "cb4a3992",
   "metadata": {},
   "outputs": [],
   "source": [
    "The re.compile() function returns Regex objects\n",
    "re is the module and compile is the function in it"
   ]
  },
  {
   "cell_type": "code",
   "execution_count": 3,
   "id": "a62be3ea",
   "metadata": {},
   "outputs": [
    {
     "data": {
      "text/plain": [
       "re.compile(r'sd', re.UNICODE)"
      ]
     },
     "execution_count": 3,
     "metadata": {},
     "output_type": "execute_result"
    }
   ],
   "source": [
    "import re\n",
    "re.compile('sd')"
   ]
  },
  {
   "cell_type": "markdown",
   "id": "d03bb0a9",
   "metadata": {},
   "source": []
  },
  {
   "cell_type": "raw",
   "id": "d80a3473",
   "metadata": {},
   "source": [
    "2. Why do raw strings often appear in Regex objects?"
   ]
  },
  {
   "cell_type": "code",
   "execution_count": null,
   "id": "5faae72c",
   "metadata": {},
   "outputs": [],
   "source": [
    "Raw strings are used so that backslashes do not have to be escaped."
   ]
  },
  {
   "cell_type": "raw",
   "id": "3a62b39e",
   "metadata": {},
   "source": []
  },
  {
   "cell_type": "raw",
   "id": "b356ff3d",
   "metadata": {},
   "source": [
    "3. What is the return value of the search() method?"
   ]
  },
  {
   "cell_type": "code",
   "execution_count": null,
   "id": "e0854ff3",
   "metadata": {},
   "outputs": [],
   "source": [
    "The search() method returns Match objects."
   ]
  },
  {
   "cell_type": "raw",
   "id": "974d8cd4",
   "metadata": {},
   "source": []
  },
  {
   "cell_type": "raw",
   "id": "b82aa435",
   "metadata": {},
   "source": [
    "4. From a Match item, how do you get the actual strings that match the pattern?"
   ]
  },
  {
   "cell_type": "code",
   "execution_count": null,
   "id": "005a1c9c",
   "metadata": {},
   "outputs": [],
   "source": [
    "The group() method returns strings of the matched text."
   ]
  },
  {
   "cell_type": "raw",
   "id": "b820baa5",
   "metadata": {},
   "source": []
  },
  {
   "cell_type": "raw",
   "id": "0763b4d7",
   "metadata": {},
   "source": [
    "5. In the regex which created from the r'(\\d\\d\\d)-(\\d\\d\\d-\\d\\d\\d\\d)', what does group zero cover? Group 2? Group 1?"
   ]
  },
  {
   "cell_type": "code",
   "execution_count": null,
   "id": "458819ef",
   "metadata": {},
   "outputs": [],
   "source": [
    "Group 0 is the entire match, group 1 covers the first set of parentheses, \n",
    "and group 2 covers the second set of parentheses."
   ]
  },
  {
   "cell_type": "raw",
   "id": "3bb413c4",
   "metadata": {},
   "source": []
  },
  {
   "cell_type": "raw",
   "id": "a368f0ea",
   "metadata": {},
   "source": [
    "6. In standard expression syntax, parentheses and intervals have distinct meanings. How can you tell a regex that you want it to fit real parentheses and periods?"
   ]
  },
  {
   "cell_type": "code",
   "execution_count": null,
   "id": "4b4f4e15",
   "metadata": {},
   "outputs": [],
   "source": [
    "Periods and parentheses can be escaped with a backslash: \\., \\(, and \\)."
   ]
  },
  {
   "cell_type": "raw",
   "id": "efc348a9",
   "metadata": {},
   "source": []
  },
  {
   "cell_type": "raw",
   "id": "fffde7be",
   "metadata": {},
   "source": [
    "7.The findall() method returns a string list or a list of string tuples. What causes it to return one of the two options?"
   ]
  },
  {
   "cell_type": "code",
   "execution_count": null,
   "id": "c6a9f920",
   "metadata": {},
   "outputs": [],
   "source": [
    "If the regex has no groups, a list of strings is returned. If the regex has groups, a list of tuples of strings is \n",
    "returned."
   ]
  },
  {
   "cell_type": "raw",
   "id": "bfabc57a",
   "metadata": {},
   "source": []
  },
  {
   "cell_type": "raw",
   "id": "c3b2d3ed",
   "metadata": {},
   "source": [
    "8. In standard expressions, what does the | character mean?"
   ]
  },
  {
   "cell_type": "code",
   "execution_count": null,
   "id": "e685d568",
   "metadata": {},
   "outputs": [],
   "source": [
    "The | character signifies matching \"either, or\" between two groups."
   ]
  },
  {
   "cell_type": "raw",
   "id": "147fc0ac",
   "metadata": {},
   "source": []
  },
  {
   "cell_type": "raw",
   "id": "3d4a2756",
   "metadata": {},
   "source": [
    "9. In regular expressions, what does the character ? stand for?"
   ]
  },
  {
   "cell_type": "code",
   "execution_count": null,
   "id": "927db7b8",
   "metadata": {},
   "outputs": [],
   "source": [
    "The ? character can either mean \"match zero or one of the preceding group\" or be used to signify nongreedy matching."
   ]
  },
  {
   "cell_type": "raw",
   "id": "3f63f447",
   "metadata": {},
   "source": []
  },
  {
   "cell_type": "raw",
   "id": "4023357e",
   "metadata": {},
   "source": [
    "10.In regular expressions, what is the difference between the + and * characters?"
   ]
  },
  {
   "cell_type": "code",
   "execution_count": null,
   "id": "38df3235",
   "metadata": {},
   "outputs": [],
   "source": [
    "The + matches one or more. The * matches zero or more."
   ]
  },
  {
   "cell_type": "raw",
   "id": "0b941cc8",
   "metadata": {},
   "source": []
  },
  {
   "cell_type": "raw",
   "id": "eade452b",
   "metadata": {},
   "source": [
    "11. What is the difference between {4} and {4,5} in regular expression?"
   ]
  },
  {
   "cell_type": "code",
   "execution_count": null,
   "id": "5685018d",
   "metadata": {},
   "outputs": [],
   "source": [
    "The {3} matches exactly three instances of the preceding group. The {3,5} matches between three and five instances."
   ]
  },
  {
   "cell_type": "raw",
   "id": "6c0aa5e3",
   "metadata": {},
   "source": []
  },
  {
   "cell_type": "raw",
   "id": "b0324489",
   "metadata": {},
   "source": [
    "12. What do you mean by the \\d, \\w, and \\s shorthand character classes signify in regular expressions?"
   ]
  },
  {
   "cell_type": "code",
   "execution_count": null,
   "id": "714dc964",
   "metadata": {},
   "outputs": [],
   "source": [
    "The \\d, \\w, and \\s shorthand character classes match a single digit, word, or space character, respectively."
   ]
  },
  {
   "cell_type": "raw",
   "id": "5745ba3e",
   "metadata": {},
   "source": []
  },
  {
   "cell_type": "raw",
   "id": "806297b4",
   "metadata": {},
   "source": [
    "13. What do means by \\D, \\W, and \\S shorthand character classes signify in regular expressions?"
   ]
  },
  {
   "cell_type": "code",
   "execution_count": null,
   "id": "d1b33c72",
   "metadata": {},
   "outputs": [],
   "source": [
    "The \\D, \\W, and \\S shorthand character classes match a single character that is not a digit, word, or space character,\n",
    "respectively."
   ]
  },
  {
   "cell_type": "raw",
   "id": "eb759aef",
   "metadata": {},
   "source": []
  },
  {
   "cell_type": "raw",
   "id": "f6846e5d",
   "metadata": {},
   "source": [
    "14. What is the difference between .*? and .*   ?"
   ]
  },
  {
   "cell_type": "code",
   "execution_count": null,
   "id": "cdf8a5e0",
   "metadata": {},
   "outputs": [],
   "source": [
    "It is the difference between greedy and non-greedy quantifiers.\n",
    "\n",
    "eeeAiiZuuuuAoooZeeee\n",
    "A.*Z yields 1 match: AiiZuuuuAoooZ   \n",
    "    # * is greedy - it will match all the way to the end, and then backtrack until it can match\n",
    "A.*?Z yields 2 matches: AiiZ and AoooZ\n",
    "    # .*? is non-greedy. * will match nothing, but then will try to match extra characters until it matches "
   ]
  },
  {
   "cell_type": "raw",
   "id": "47aad8a2",
   "metadata": {},
   "source": []
  },
  {
   "cell_type": "raw",
   "id": "543ea4e5",
   "metadata": {},
   "source": [
    "15. What is the syntax for matching both numbers and lowercase letters with a character class?"
   ]
  },
  {
   "cell_type": "code",
   "execution_count": null,
   "id": "fd1a4128",
   "metadata": {},
   "outputs": [],
   "source": [
    "Either [0-9a-z] or [a-z0-9]"
   ]
  },
  {
   "cell_type": "raw",
   "id": "521ab9ea",
   "metadata": {},
   "source": []
  },
  {
   "cell_type": "raw",
   "id": "12918612",
   "metadata": {},
   "source": [
    "16. What is the procedure for making a normal expression in regax case insensitive?"
   ]
  },
  {
   "cell_type": "code",
   "execution_count": null,
   "id": "e4c20a54",
   "metadata": {},
   "outputs": [],
   "source": [
    "Passing re.I or re.IGNORECASE as the second argument to re.compile() will make the matching case insensitive."
   ]
  },
  {
   "cell_type": "raw",
   "id": "91bf59d9",
   "metadata": {},
   "source": []
  },
  {
   "cell_type": "raw",
   "id": "6f50996f",
   "metadata": {},
   "source": [
    "17. What does the . character normally match? What does it match if re.DOTALL is passed as 2nd argument in re.compile()?"
   ]
  },
  {
   "cell_type": "code",
   "execution_count": null,
   "id": "f6feda66",
   "metadata": {},
   "outputs": [],
   "source": [
    "The . character normally matches any character except the newline character. If re.DOTALL is passed as \n",
    "the second argument to re.compile(), then the dot will also match newline characters."
   ]
  },
  {
   "cell_type": "raw",
   "id": "ee58890b",
   "metadata": {},
   "source": []
  },
  {
   "cell_type": "raw",
   "id": "2fd27d8f",
   "metadata": {},
   "source": [
    "18. If numReg = re.compile(r'\\d+'), what will numRegex.sub('X', '11 drummers, 10 pipers, five rings, 4 hen') return?"
   ]
  },
  {
   "cell_type": "code",
   "execution_count": null,
   "id": "c85efb76",
   "metadata": {},
   "outputs": [],
   "source": [
    "'X drummers, X pipers, five rings, X hen'"
   ]
  },
  {
   "cell_type": "raw",
   "id": "9c4034c6",
   "metadata": {},
   "source": []
  },
  {
   "cell_type": "raw",
   "id": "cdaa26de",
   "metadata": {},
   "source": [
    "19. What does passing re.VERBOSE as the 2nd argument to re.compile() allow to do?"
   ]
  },
  {
   "cell_type": "code",
   "execution_count": null,
   "id": "f8d0a573",
   "metadata": {},
   "outputs": [],
   "source": [
    "The re.VERBOSE argument allows you to add whitespace and comments to the string passed to re.compile()."
   ]
  },
  {
   "cell_type": "raw",
   "id": "f32e6e7e",
   "metadata": {},
   "source": []
  },
  {
   "cell_type": "raw",
   "id": "0042ab28",
   "metadata": {},
   "source": [
    "20. How would you write a regex that match a number with comma for every three digits? It must match the given following:\n",
    "'42'\n",
    "'1,234'\n",
    "'6,368,745'\n",
    "but not the following:\n",
    "'12,34,567' (which has only two digits between the commas)\n",
    "'1234' (which lacks commas)"
   ]
  },
  {
   "cell_type": "code",
   "execution_count": null,
   "id": "31f2281f",
   "metadata": {},
   "outputs": [],
   "source": [
    "re.compile(r'^\\d{1,3}(,\\d{3})*$') will create this regex, but other regex strings can produce a \n",
    "similar regular expression."
   ]
  },
  {
   "cell_type": "raw",
   "id": "4f2bb5b8",
   "metadata": {},
   "source": []
  },
  {
   "cell_type": "raw",
   "id": "1ee7f4ec",
   "metadata": {},
   "source": [
    "21. How would you write a regex that matches the full name of someone whose last name is Watanabe? You can assume that the first name that comes before it will always be one word that begins with a capital letter. The regex must match the \n",
    "\n",
    "following:\n",
    "'Haruto Watanabe'\n",
    "'Alice Watanabe'\n",
    "'RoboCop Watanabe'\n",
    "\n",
    "but not the following:\n",
    "'haruto Watanabe' (where the first name is not capitalized)\n",
    "'Mr. Watanabe' (where the preceding word has a nonletter character)\n",
    "'Watanabe' (which has no first name)\n",
    "'Haruto watanabe' (where Watanabe is not capitalized)"
   ]
  },
  {
   "cell_type": "code",
   "execution_count": null,
   "id": "1a3b2949",
   "metadata": {},
   "outputs": [],
   "source": [
    "re.compile(r'[A-Z][a-z]*\\sWatanabe')"
   ]
  },
  {
   "cell_type": "raw",
   "id": "c3724683",
   "metadata": {},
   "source": []
  },
  {
   "cell_type": "raw",
   "id": "7461b3c3",
   "metadata": {},
   "source": [
    "22. How would you write a regex that matches a sentence where the first word is either Alice, Bob, or Carol; the second word is either eats, pets, or throws; the third word is apples, cats, or baseballs; and the sentence ends with a period? This regex should be case-insensitive. It must match the following:\n",
    "'Alice eats apples.'\n",
    "'Bob pets cats.'\n",
    "'Carol throws baseballs.'\n",
    "'Alice throws Apples.'\n",
    "'BOB EATS CATS.'\n",
    "but not the following:\n",
    "'RoboCop eats apples.'\n",
    "'ALICE THROWS FOOTBALLS.'\n",
    "'Carol eats 7 cats.'"
   ]
  },
  {
   "cell_type": "code",
   "execution_count": null,
   "id": "a2734799",
   "metadata": {},
   "outputs": [],
   "source": [
    "re.compile(r'(Alice|Bob|Carol)\\s(eats|pets|throws)\\s(apples|cats|baseballs)\\.', re.IGNORECASE)"
   ]
  },
  {
   "cell_type": "code",
   "execution_count": null,
   "id": "4847179a",
   "metadata": {},
   "outputs": [],
   "source": []
  }
 ],
 "metadata": {
  "kernelspec": {
   "display_name": "Python 3",
   "language": "python",
   "name": "python3"
  },
  "language_info": {
   "codemirror_mode": {
    "name": "ipython",
    "version": 3
   },
   "file_extension": ".py",
   "mimetype": "text/x-python",
   "name": "python",
   "nbconvert_exporter": "python",
   "pygments_lexer": "ipython3",
   "version": "3.7.10"
  }
 },
 "nbformat": 4,
 "nbformat_minor": 5
}
