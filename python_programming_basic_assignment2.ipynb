{
 "cells": [
  {
   "cell_type": "raw",
   "id": "a1940a65",
   "metadata": {},
   "source": [
    "1.\tWrite a Python program to convert kilometers to miles?"
   ]
  },
  {
   "cell_type": "code",
   "execution_count": 1,
   "id": "5c2b0410",
   "metadata": {},
   "outputs": [
    {
     "name": "stdout",
     "output_type": "stream",
     "text": [
      "10 km is equivalent to  6.21371\n"
     ]
    }
   ],
   "source": [
    "kmtomile_conv = 0.621371\n",
    "km = 10\n",
    "print('{} km is equivalent to '.format(km),km*kmtomile_conv)"
   ]
  },
  {
   "cell_type": "raw",
   "id": "60ed4cd8",
   "metadata": {},
   "source": []
  },
  {
   "cell_type": "raw",
   "id": "af6e72ca",
   "metadata": {},
   "source": [
    "2.\tWrite a Python program to convert Celsius to Fahrenheit?"
   ]
  },
  {
   "cell_type": "code",
   "execution_count": 2,
   "id": "93d838a3",
   "metadata": {},
   "outputs": [
    {
     "name": "stdout",
     "output_type": "stream",
     "text": [
      "100 clesius is equivalent to  212.0\n"
     ]
    }
   ],
   "source": [
    "#(0°C × 9/5) + 32 = 32°F\n",
    "\n",
    "celtofar_mul = 9/5\n",
    "celtodfar_add = 32\n",
    "cel = 100\n",
    "print('{} clesius is equivalent to '.format(cel),(cel*celtofar_mul)+celtodfar_add)"
   ]
  },
  {
   "cell_type": "raw",
   "id": "906500ba",
   "metadata": {},
   "source": []
  },
  {
   "cell_type": "raw",
   "id": "8635c538",
   "metadata": {},
   "source": [
    "3.\tWrite a Python program to display calendar?"
   ]
  },
  {
   "cell_type": "code",
   "execution_count": 3,
   "id": "c24ac88c",
   "metadata": {},
   "outputs": [
    {
     "name": "stdout",
     "output_type": "stream",
     "text": [
      "   November 2014\n",
      "Mo Tu We Th Fr Sa Su\n",
      "                1  2\n",
      " 3  4  5  6  7  8  9\n",
      "10 11 12 13 14 15 16\n",
      "17 18 19 20 21 22 23\n",
      "24 25 26 27 28 29 30\n",
      "\n"
     ]
    }
   ],
   "source": [
    "import calendar\n",
    "\n",
    "yy = 2014  # year\n",
    "mm = 11    # month\n",
    "\n",
    "# To take month and year input from the user\n",
    "# yy = int(input(\"Enter year: \"))\n",
    "# mm = int(input(\"Enter month: \"))\n",
    "\n",
    "# display the calendar\n",
    "print(calendar.month(yy, mm))\n"
   ]
  },
  {
   "cell_type": "raw",
   "id": "0525e85d",
   "metadata": {},
   "source": []
  },
  {
   "cell_type": "raw",
   "id": "ddda2fb1",
   "metadata": {},
   "source": [
    "4.\tWrite a Python program to solve quadratic equation?"
   ]
  },
  {
   "cell_type": "code",
   "execution_count": 52,
   "id": "cc885e77",
   "metadata": {},
   "outputs": [
    {
     "name": "stdout",
     "output_type": "stream",
     "text": [
      "enter the three quadratic equation coeff (a,b,c) of ax2 + bx + c =0 by a comma between each 1,2,3\n",
      "soln1 = -1.0+2i\n",
      "soln2 = -1.0-2i\n"
     ]
    }
   ],
   "source": [
    "a = eval(input('enter the three quadratic equation coeff (a,b,c) of ax2 + bx + c =0 by a comma between each '))\n",
    "a , b, c = [float(i) for i in a]\n",
    "first_part = -(b)/ (2*a)\n",
    "\n",
    "if (b*b) -(4*a*c) >= 0:\n",
    "    second_part = (((b*b) -(4*a*c))*0.5)/(2*a)\n",
    "    print('soln1 =',(first_part+second_part))\n",
    "    print('soln2 =',(first_part-second_part))\n",
    "else:\n",
    "    second_part = ( abs(((b*b) -(4*a*c))) *0.5)/(2*a)\n",
    "    print('soln1 =',(str(first_part)+  '{0:+}'.format(+int('{0:+}'.format(int(second_part)  ))) +'i'    ))\n",
    "    print('soln2 =',(str(first_part)+  '{0:+}'.format(-int('{0:+}'.format(int(second_part)  ))) +'i'    ))"
   ]
  },
  {
   "cell_type": "code",
   "execution_count": 54,
   "id": "4a161900",
   "metadata": {},
   "outputs": [
    {
     "name": "stdout",
     "output_type": "stream",
     "text": [
      "enter the three quadratic equation coeff (a,b,c) of ax2 + bx + c =0 by a comma between each 2,5,1\n",
      "soln1 = 0.875\n",
      "soln2 = -3.375\n"
     ]
    }
   ],
   "source": [
    "a = eval(input('enter the three quadratic equation coeff (a,b,c) of ax2 + bx + c =0 by a comma between each '))\n",
    "a , b, c = [float(i) for i in a]\n",
    "first_part = -(b)/ (2*a)\n",
    "\n",
    "if (b*b) -(4*a*c) >= 0:\n",
    "    second_part = (((b*b) -(4*a*c))*0.5)/(2*a)\n",
    "    print('soln1 =',(first_part+second_part))\n",
    "    print('soln2 =',(first_part-second_part))\n",
    "else:\n",
    "    second_part = ( abs(((b*b) -(4*a*c))) *0.5)/(2*a)\n",
    "    print('soln1 =',(str(first_part)+  '{0:+}'.format(+int('{0:+}'.format(int(second_part)  ))) +'i'    ))\n",
    "    print('soln2 =',(str(first_part)+  '{0:+}'.format(-int('{0:+}'.format(int(second_part)  ))) +'i'    ))"
   ]
  },
  {
   "cell_type": "raw",
   "id": "36aecc7d",
   "metadata": {},
   "source": []
  },
  {
   "cell_type": "raw",
   "id": "c2c87529",
   "metadata": {},
   "source": [
    "5.\tWrite a Python program to swap two variables without temp variable?"
   ]
  },
  {
   "cell_type": "code",
   "execution_count": 55,
   "id": "0ef1e13b",
   "metadata": {},
   "outputs": [
    {
     "name": "stdout",
     "output_type": "stream",
     "text": [
      "x =  5 y =  6\n",
      "x =  6 y =  5\n"
     ]
    }
   ],
   "source": [
    "x = 5\n",
    "y = 6\n",
    "print('x = ',x,'y = ',y)\n",
    "\n",
    "x = x+y\n",
    "y = x-y\n",
    "x = x-y\n",
    "print('x = ',x,'y = ',y)\n"
   ]
  }
 ],
 "metadata": {
  "kernelspec": {
   "display_name": "Python 3",
   "language": "python",
   "name": "python3"
  },
  "language_info": {
   "codemirror_mode": {
    "name": "ipython",
    "version": 3
   },
   "file_extension": ".py",
   "mimetype": "text/x-python",
   "name": "python",
   "nbconvert_exporter": "python",
   "pygments_lexer": "ipython3",
   "version": "3.7.10"
  }
 },
 "nbformat": 4,
 "nbformat_minor": 5
}
