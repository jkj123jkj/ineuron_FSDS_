{
 "cells": [
  {
   "cell_type": "raw",
   "id": "a1940a65",
   "metadata": {},
   "source": [
    "1.\tWrite a Python program to find sum of elements in list?"
   ]
  },
  {
   "cell_type": "code",
   "execution_count": 1,
   "id": "5c2b0410",
   "metadata": {},
   "outputs": [
    {
     "data": {
      "text/plain": [
       "18"
      ]
     },
     "execution_count": 1,
     "metadata": {},
     "output_type": "execute_result"
    }
   ],
   "source": [
    "lis = [1,2,4,5,6]\n",
    "sum(lis)"
   ]
  },
  {
   "cell_type": "raw",
   "id": "60ed4cd8",
   "metadata": {},
   "source": []
  },
  {
   "cell_type": "raw",
   "id": "af6e72ca",
   "metadata": {},
   "source": [
    "2.\tWrite a Python program to  Multiply all numbers in the list?"
   ]
  },
  {
   "cell_type": "code",
   "execution_count": 2,
   "id": "93d838a3",
   "metadata": {},
   "outputs": [
    {
     "data": {
      "text/plain": [
       "525"
      ]
     },
     "execution_count": 2,
     "metadata": {},
     "output_type": "execute_result"
    }
   ],
   "source": [
    "lis = [1,3,5,7,5]\n",
    "mul = 1\n",
    "for i in lis:\n",
    "    mul*=i\n",
    "mul"
   ]
  },
  {
   "cell_type": "raw",
   "id": "906500ba",
   "metadata": {},
   "source": []
  },
  {
   "cell_type": "raw",
   "id": "8635c538",
   "metadata": {},
   "source": [
    "3.\tWrite a Python program to find smallest number in a list?"
   ]
  },
  {
   "cell_type": "code",
   "execution_count": 3,
   "id": "c24ac88c",
   "metadata": {},
   "outputs": [
    {
     "data": {
      "text/plain": [
       "1"
      ]
     },
     "execution_count": 3,
     "metadata": {},
     "output_type": "execute_result"
    }
   ],
   "source": [
    "lis = [1,3,5,7,5]\n",
    "min(lis)"
   ]
  },
  {
   "cell_type": "raw",
   "id": "0525e85d",
   "metadata": {},
   "source": []
  },
  {
   "cell_type": "raw",
   "id": "ddda2fb1",
   "metadata": {},
   "source": [
    "4.\tWrite a Python program to find largest number in a list?"
   ]
  },
  {
   "cell_type": "code",
   "execution_count": 4,
   "id": "cc885e77",
   "metadata": {},
   "outputs": [
    {
     "data": {
      "text/plain": [
       "7"
      ]
     },
     "execution_count": 4,
     "metadata": {},
     "output_type": "execute_result"
    }
   ],
   "source": [
    "lis = [1,3,5,7,5]\n",
    "max(lis)"
   ]
  },
  {
   "cell_type": "raw",
   "id": "36aecc7d",
   "metadata": {},
   "source": []
  },
  {
   "cell_type": "raw",
   "id": "c2c87529",
   "metadata": {},
   "source": [
    "5.\tWrite a Python program to find second largest number in a list?"
   ]
  },
  {
   "cell_type": "code",
   "execution_count": 11,
   "id": "0ef1e13b",
   "metadata": {},
   "outputs": [
    {
     "data": {
      "text/plain": [
       "5"
      ]
     },
     "execution_count": 11,
     "metadata": {},
     "output_type": "execute_result"
    }
   ],
   "source": [
    "lis = [1,3,5,7,5]\n",
    "lis.sort(reverse=True)\n",
    "lis[1]"
   ]
  },
  {
   "cell_type": "raw",
   "id": "3a1a4c00",
   "metadata": {},
   "source": []
  },
  {
   "cell_type": "raw",
   "id": "b6b526a9",
   "metadata": {},
   "source": [
    "6.\tWrite a Python program to find N largest elements from a list?"
   ]
  },
  {
   "cell_type": "code",
   "execution_count": 12,
   "id": "704feab0",
   "metadata": {},
   "outputs": [
    {
     "name": "stdout",
     "output_type": "stream",
     "text": [
      "324\n",
      "89\n",
      "89\n",
      "78\n"
     ]
    }
   ],
   "source": [
    "lis = [3,54,67,78,89,89,34,324,56,6]\n",
    "N_large_elements = 4\n",
    "lis.sort(reverse =True)\n",
    "for i in range(N_large_elements):\n",
    "    print(lis[i])"
   ]
  },
  {
   "cell_type": "raw",
   "id": "c4cb6de9",
   "metadata": {},
   "source": []
  },
  {
   "cell_type": "raw",
   "id": "215ec917",
   "metadata": {},
   "source": [
    "7.\tWrite a Python program to print even numbers in a list?"
   ]
  },
  {
   "cell_type": "code",
   "execution_count": 13,
   "id": "00e44824",
   "metadata": {},
   "outputs": [
    {
     "name": "stdout",
     "output_type": "stream",
     "text": [
      "54\n",
      "78\n",
      "34\n",
      "324\n",
      "56\n",
      "6\n"
     ]
    }
   ],
   "source": [
    "lis = [3,54,67,78,89,89,34,324,56,6]\n",
    "for i in lis:\n",
    "    if i%2==0:\n",
    "        print(i)"
   ]
  },
  {
   "cell_type": "raw",
   "id": "2c62fc1b",
   "metadata": {},
   "source": []
  },
  {
   "cell_type": "raw",
   "id": "9f940513",
   "metadata": {},
   "source": [
    "8.\tWrite a Python program to print odd numbers in a List?"
   ]
  },
  {
   "cell_type": "code",
   "execution_count": 14,
   "id": "ea3dabff",
   "metadata": {},
   "outputs": [
    {
     "name": "stdout",
     "output_type": "stream",
     "text": [
      "3\n",
      "67\n",
      "89\n",
      "89\n"
     ]
    }
   ],
   "source": [
    "lis = [3,54,67,78,89,89,34,324,56,6]\n",
    "for i in lis:\n",
    "    if i%2!=0:\n",
    "        print(i)"
   ]
  },
  {
   "cell_type": "raw",
   "id": "f6aec756",
   "metadata": {},
   "source": []
  },
  {
   "cell_type": "raw",
   "id": "da799857",
   "metadata": {},
   "source": [
    "9.\tWrite a Python program to Remove empty List from List?"
   ]
  },
  {
   "cell_type": "code",
   "execution_count": 18,
   "id": "4ba203f4",
   "metadata": {},
   "outputs": [
    {
     "data": {
      "text/plain": [
       "[5, 6, 3, 9]"
      ]
     },
     "execution_count": 18,
     "metadata": {},
     "output_type": "execute_result"
    }
   ],
   "source": [
    "test_list = [5, 6, [], 3, [], [], 9]\n",
    "new=[]\n",
    "for i in test_list:\n",
    "    if i!=[]:\n",
    "        new.append(i)\n",
    "new"
   ]
  },
  {
   "cell_type": "raw",
   "id": "7635a2b1",
   "metadata": {},
   "source": []
  },
  {
   "cell_type": "raw",
   "id": "2a24c1f0",
   "metadata": {},
   "source": [
    "10.\tWrite a Python program to Cloning or Copying a list?"
   ]
  },
  {
   "cell_type": "code",
   "execution_count": 20,
   "id": "4cfbb9ce",
   "metadata": {},
   "outputs": [
    {
     "data": {
      "text/plain": [
       "False"
      ]
     },
     "execution_count": 20,
     "metadata": {},
     "output_type": "execute_result"
    }
   ],
   "source": [
    "lis = [1,2,3,4,5]\n",
    "lis2 = lis[:]\n",
    "id(lis)==id(lis2)   # False shows that they are cloned entirely as new entities"
   ]
  },
  {
   "cell_type": "raw",
   "id": "f3207a93",
   "metadata": {},
   "source": []
  },
  {
   "cell_type": "raw",
   "id": "05091ac7",
   "metadata": {},
   "source": [
    "11.\tWrite a Python program to Count occurrences of an element in a list?"
   ]
  },
  {
   "cell_type": "code",
   "execution_count": 22,
   "id": "a1f24a32",
   "metadata": {},
   "outputs": [
    {
     "name": "stdout",
     "output_type": "stream",
     "text": [
      "1 occured 1 number of times\n",
      "3 occured 7 number of times\n",
      "6 occured 6 number of times\n",
      "8 occured 4 number of times\n",
      "4 occured 3 number of times\n",
      "7 occured 2 number of times\n",
      "2 occured 2 number of times\n",
      "543 occured 1 number of times\n",
      "45 occured 2 number of times\n",
      "5 occured 2 number of times\n"
     ]
    }
   ],
   "source": [
    "lis = [1,3,6,8,6,3,4,6,7,8,4,2,3,6,543,3,6,8,45,2,45,8,5,3,5,7,4,3,6,3]\n",
    "dic = {}\n",
    "for i in lis:\n",
    "    if i not in dic.keys():\n",
    "        dic[i]=1\n",
    "    else:\n",
    "        dic[i]=dic[i]+1\n",
    "for i, j in dic.items():\n",
    "    print('{} occured {} number of times'.format(i,j))"
   ]
  }
 ],
 "metadata": {
  "kernelspec": {
   "display_name": "Python 3",
   "language": "python",
   "name": "python3"
  },
  "language_info": {
   "codemirror_mode": {
    "name": "ipython",
    "version": 3
   },
   "file_extension": ".py",
   "mimetype": "text/x-python",
   "name": "python",
   "nbconvert_exporter": "python",
   "pygments_lexer": "ipython3",
   "version": "3.7.10"
  }
 },
 "nbformat": 4,
 "nbformat_minor": 5
}
