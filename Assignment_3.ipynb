{
 "cells": [
  {
   "cell_type": "raw",
   "id": "43b8d427",
   "metadata": {},
   "source": [
    "1. Why are functions advantageous to have in your programs?\n"
   ]
  },
  {
   "cell_type": "code",
   "execution_count": null,
   "id": "4811d93b",
   "metadata": {},
   "outputs": [],
   "source": [
    "if we want to use a particular set of instruction repeatedly we can convert them into a function and call when ever \n",
    "necessary, or else the other option is to hard code the script ( in the case of python) whenever the set of\n",
    "instruction is required\n",
    "below show the example of adding two numbers"
   ]
  },
  {
   "cell_type": "code",
   "execution_count": 1,
   "id": "cbdc4d04",
   "metadata": {},
   "outputs": [
    {
     "data": {
      "text/plain": [
       "10"
      ]
     },
     "execution_count": 1,
     "metadata": {},
     "output_type": "execute_result"
    }
   ],
   "source": [
    "def summ(a,b):\n",
    "    return a + b\n",
    "summ(4,6)"
   ]
  },
  {
   "cell_type": "code",
   "execution_count": 2,
   "id": "82aa45c5",
   "metadata": {},
   "outputs": [
    {
     "data": {
      "text/plain": [
       "42"
      ]
     },
     "execution_count": 2,
     "metadata": {},
     "output_type": "execute_result"
    }
   ],
   "source": [
    "summ(10,32)       # this is the use"
   ]
  },
  {
   "cell_type": "code",
   "execution_count": null,
   "id": "75e363c2",
   "metadata": {},
   "outputs": [],
   "source": []
  },
  {
   "cell_type": "raw",
   "id": "0ea89bc3",
   "metadata": {},
   "source": [
    "2. When does the code in a function run: when it's specified or when it's called?\n"
   ]
  },
  {
   "cell_type": "code",
   "execution_count": null,
   "id": "c7dd291a",
   "metadata": {},
   "outputs": [],
   "source": [
    "A code or instructions in  a function run when the function is explicitly called by the function name.\n",
    "just execution of a function block will create a compiled version of tha function , it just checks the sytactically \n",
    "errors only"
   ]
  },
  {
   "cell_type": "code",
   "execution_count": null,
   "id": "8f74f4b5",
   "metadata": {},
   "outputs": [],
   "source": []
  },
  {
   "cell_type": "raw",
   "id": "18374374",
   "metadata": {},
   "source": [
    "3. What statement creates a function?\n"
   ]
  },
  {
   "cell_type": "code",
   "execution_count": null,
   "id": "f793a48b",
   "metadata": {},
   "outputs": [],
   "source": [
    "def is used to create a function  # example as shown  in que number 1"
   ]
  },
  {
   "cell_type": "code",
   "execution_count": null,
   "id": "a68821ff",
   "metadata": {},
   "outputs": [],
   "source": []
  },
  {
   "cell_type": "raw",
   "id": "2aff2233",
   "metadata": {},
   "source": [
    "4. What is the difference between a function and a function call?\n"
   ]
  },
  {
   "cell_type": "code",
   "execution_count": null,
   "id": "2cd0895e",
   "metadata": {},
   "outputs": [],
   "source": [
    "Function is a set of code grouped under a particular variable name (known as fuction name)\n",
    "just execution of a function block will create a compiled version of tha function , it just checks the sytactically \n",
    "errors only\n",
    "\n",
    "A function call is the code used to pass control to a function.\n",
    "\n",
    "# example as shown in que num 1"
   ]
  },
  {
   "cell_type": "code",
   "execution_count": null,
   "id": "5437ea4b",
   "metadata": {},
   "outputs": [],
   "source": []
  },
  {
   "cell_type": "code",
   "execution_count": null,
   "id": "58ad0085",
   "metadata": {},
   "outputs": [],
   "source": [
    "5. How many global scopes are there in a Python program? How many local scopes?\n"
   ]
  },
  {
   "cell_type": "code",
   "execution_count": null,
   "id": "765eafa6",
   "metadata": {},
   "outputs": [],
   "source": [
    "There is only one global Python scope per program execution. This scope remains in existence until the program terminates\n",
    "and all its names are forgotten. Otherwise, the next time you were to run the program, the names would remember their\n",
    "values from the previous run\n",
    "\n",
    "local scope:\n",
    "    A variable created inside a function belongs to the local scope of that function, and can only be used\n",
    "    inside that function.\n",
    "    \n",
    "    "
   ]
  },
  {
   "cell_type": "code",
   "execution_count": null,
   "id": "383d2154",
   "metadata": {},
   "outputs": [],
   "source": []
  },
  {
   "cell_type": "code",
   "execution_count": null,
   "id": "d46ad88e",
   "metadata": {},
   "outputs": [],
   "source": [
    "6. What happens to variables in a local scope when the function call returns?\n"
   ]
  },
  {
   "cell_type": "code",
   "execution_count": null,
   "id": "1a8e53c3",
   "metadata": {},
   "outputs": [],
   "source": [
    "A Local Variable Retains Its Value Until The Next Time The Function Is Called.\n",
    "A Local Variable Becomes Undefined After The Function Call Completes .\n",
    "The Local Variable Can Be Used Outside The Function Any Time After The Function Call Completes"
   ]
  },
  {
   "cell_type": "code",
   "execution_count": null,
   "id": "a2a42e32",
   "metadata": {},
   "outputs": [],
   "source": []
  },
  {
   "cell_type": "code",
   "execution_count": null,
   "id": "5525ba70",
   "metadata": {},
   "outputs": [],
   "source": [
    "7. What is the concept of a return value? Is it possible to have a return value in an expression?\n"
   ]
  },
  {
   "cell_type": "code",
   "execution_count": null,
   "id": "3127d3c6",
   "metadata": {},
   "outputs": [],
   "source": [
    "A return is a value that a function returns to the calling script or function when it completes its task. A return \n",
    "value can be any one of the four variable types: handle, integer, object, or string. The type of value your function\n",
    "returns depends largely on the task it performs\n",
    "\n",
    "yes it is possible to have a return value in an expression\n",
    "\n",
    "    return expression"
   ]
  },
  {
   "cell_type": "code",
   "execution_count": null,
   "id": "3f11f167",
   "metadata": {},
   "outputs": [],
   "source": []
  },
  {
   "cell_type": "raw",
   "id": "a17340b0",
   "metadata": {},
   "source": [
    "8. If a function does not have a return statement, what is the return value of a call to that function?\n"
   ]
  },
  {
   "cell_type": "code",
   "execution_count": null,
   "id": "cb16f6fc",
   "metadata": {},
   "outputs": [],
   "source": [
    "it will return None"
   ]
  },
  {
   "cell_type": "code",
   "execution_count": null,
   "id": "2694969e",
   "metadata": {},
   "outputs": [],
   "source": []
  },
  {
   "cell_type": "raw",
   "id": "36b9ec2a",
   "metadata": {},
   "source": [
    "9. How do you make a function variable refer to the global variable?\n"
   ]
  },
  {
   "cell_type": "code",
   "execution_count": null,
   "id": "133bf829",
   "metadata": {},
   "outputs": [],
   "source": [
    "add the keyword global to the variable, that is declare the variable as global\n",
    "eg shown below"
   ]
  },
  {
   "cell_type": "code",
   "execution_count": 5,
   "id": "11e32d9e",
   "metadata": {},
   "outputs": [
    {
     "data": {
      "text/plain": [
       "20"
      ]
     },
     "execution_count": 5,
     "metadata": {},
     "output_type": "execute_result"
    }
   ],
   "source": [
    "def fn():\n",
    "    global x\n",
    "    x=20\n",
    "fn()\n",
    "x"
   ]
  },
  {
   "cell_type": "code",
   "execution_count": null,
   "id": "7ca0e8de",
   "metadata": {},
   "outputs": [],
   "source": []
  },
  {
   "cell_type": "raw",
   "id": "c8588869",
   "metadata": {},
   "source": [
    "10. What is the data type of None?\n"
   ]
  },
  {
   "cell_type": "code",
   "execution_count": 6,
   "id": "1d57989f",
   "metadata": {},
   "outputs": [
    {
     "data": {
      "text/plain": [
       "NoneType"
      ]
     },
     "execution_count": 6,
     "metadata": {},
     "output_type": "execute_result"
    }
   ],
   "source": [
    "type(None)  #NoneType is the data type of None"
   ]
  },
  {
   "cell_type": "code",
   "execution_count": null,
   "id": "1d6cae9b",
   "metadata": {},
   "outputs": [],
   "source": []
  },
  {
   "cell_type": "raw",
   "id": "685a18c2",
   "metadata": {},
   "source": [
    "11. What does the sentence import areallyourpetsnamederic do?\n"
   ]
  },
  {
   "cell_type": "code",
   "execution_count": null,
   "id": "2d53e61b",
   "metadata": {},
   "outputs": [],
   "source": [
    "import statement imports a module named areallyourpetsnamederic"
   ]
  },
  {
   "cell_type": "code",
   "execution_count": null,
   "id": "a4093aa5",
   "metadata": {},
   "outputs": [],
   "source": []
  },
  {
   "cell_type": "raw",
   "id": "733013c0",
   "metadata": {},
   "source": [
    "12. If you had a bacon() feature in a spam module, what would you call it after importing spam?\n"
   ]
  },
  {
   "cell_type": "code",
   "execution_count": null,
   "id": "f8fda385",
   "metadata": {},
   "outputs": [],
   "source": [
    "This function can be called with spam.bacon()"
   ]
  },
  {
   "cell_type": "code",
   "execution_count": null,
   "id": "134dad5f",
   "metadata": {},
   "outputs": [],
   "source": []
  },
  {
   "cell_type": "raw",
   "id": "8b370a31",
   "metadata": {},
   "source": [
    "13. What can you do to save a programme from crashing if it encounters an error?\n"
   ]
  },
  {
   "cell_type": "code",
   "execution_count": null,
   "id": "fd572ae1",
   "metadata": {},
   "outputs": [],
   "source": [
    "we can use try catch finallystatements in th java programming language \n",
    "in python we can use try except final to try the bloack and catch the error if any error happened. and execute the\n",
    "unavoidable statements in the finally"
   ]
  },
  {
   "cell_type": "code",
   "execution_count": null,
   "id": "10af57ed",
   "metadata": {},
   "outputs": [],
   "source": []
  },
  {
   "cell_type": "raw",
   "id": "0773d34d",
   "metadata": {},
   "source": [
    "14. What is the purpose of the try clause? What is the purpose of the except clause?\n"
   ]
  },
  {
   "cell_type": "code",
   "execution_count": null,
   "id": "32e9d5dc",
   "metadata": {},
   "outputs": [],
   "source": [
    "try is to execute the code part where the chance of error occurance is high\n",
    "except is used to catch the error if any occured."
   ]
  }
 ],
 "metadata": {
  "kernelspec": {
   "display_name": "Python 3",
   "language": "python",
   "name": "python3"
  },
  "language_info": {
   "codemirror_mode": {
    "name": "ipython",
    "version": 3
   },
   "file_extension": ".py",
   "mimetype": "text/x-python",
   "name": "python",
   "nbconvert_exporter": "python",
   "pygments_lexer": "ipython3",
   "version": "3.7.10"
  }
 },
 "nbformat": 4,
 "nbformat_minor": 5
}
