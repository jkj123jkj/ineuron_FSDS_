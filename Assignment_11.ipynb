{
 "cells": [
  {
   "cell_type": "raw",
   "id": "227aaea2",
   "metadata": {},
   "source": [
    "1.Create an assert statement that throws an AssertionError if the variable spam is a negative integer."
   ]
  },
  {
   "cell_type": "code",
   "execution_count": null,
   "id": "2954e664",
   "metadata": {},
   "outputs": [],
   "source": [
    "Assertion Error:\n",
    "Assertion is a programming concept used while writing a code where the user declares a condition to be true using assert\n",
    "statement prior to running the module. If the condition is True, the control simply moves to the next line of code. In \n",
    "case if it is False the program stops running and returns AssertionError Exception.\n",
    "The function of assert statement is the same irrespective of the language in which it is implemented, it is a \n",
    "language-independent concept, only the syntax varies with the programming language."
   ]
  },
  {
   "cell_type": "code",
   "execution_count": 9,
   "id": "80df8f31",
   "metadata": {},
   "outputs": [
    {
     "name": "stdout",
     "output_type": "stream",
     "text": [
      "Input less than zero\n"
     ]
    }
   ],
   "source": [
    "try:\n",
    "    spam = -1\n",
    "    assert spam >= 0, \"Input less than zero\" # denominator can't be 0\n",
    "except AssertionError as e:\n",
    "    print(e)"
   ]
  },
  {
   "cell_type": "raw",
   "id": "d800a6f7",
   "metadata": {},
   "source": []
  },
  {
   "cell_type": "raw",
   "id": "0547711a",
   "metadata": {},
   "source": [
    "2. Write an assert statement that triggers an AssertionError if the variables eggs and bacon contain strings that are the same as each other, even if their cases are different (that is, 'hello' and 'hello' are considered the same, and 'goodbye' and 'GOODbye' are also considered the same).\n"
   ]
  },
  {
   "cell_type": "code",
   "execution_count": 10,
   "id": "4bd09b83",
   "metadata": {},
   "outputs": [
    {
     "name": "stdout",
     "output_type": "stream",
     "text": [
      "both strings are same\n"
     ]
    }
   ],
   "source": [
    "try:\n",
    "    eggs = 'heLlo'\n",
    "    bacon = 'hellO'\n",
    "    assert eggs.lower() != bacon.lower() , 'both strings are same'\n",
    "except AssertionError as e:\n",
    "    print(e)"
   ]
  },
  {
   "cell_type": "raw",
   "id": "52dc03da",
   "metadata": {},
   "source": []
  },
  {
   "cell_type": "raw",
   "id": "712646f9",
   "metadata": {},
   "source": [
    "3. Create an assert statement that throws an AssertionError every time."
   ]
  },
  {
   "cell_type": "code",
   "execution_count": 14,
   "id": "9489fcb5",
   "metadata": {},
   "outputs": [
    {
     "name": "stdout",
     "output_type": "stream",
     "text": [
      "enter anything you will get an assertion error i am sure  :ladn386rt2y3lnd lsa\n",
      "ERRORRRRRRR!!!!!,,, I told you that you are going to get error..\n"
     ]
    }
   ],
   "source": [
    "try:\n",
    "    x=input('enter anything you will get an assertion error i am sure  :')\n",
    "    assert x!=x ,'ERRORRRRRRR!!!!!,,, I told you that you are going to get error..'\n",
    "    print()\n",
    "except AssertionError as e:\n",
    "    print(e)"
   ]
  },
  {
   "cell_type": "code",
   "execution_count": 20,
   "id": "7228dda4",
   "metadata": {},
   "outputs": [
    {
     "name": "stdout",
     "output_type": "stream",
     "text": [
      "This assertion always triggers.\n"
     ]
    }
   ],
   "source": [
    "try:\n",
    "    assert False, 'This assertion always triggers.'\n",
    "except AssertionError as e:\n",
    "    print(e)"
   ]
  },
  {
   "cell_type": "raw",
   "id": "fa299e9b",
   "metadata": {},
   "source": []
  },
  {
   "cell_type": "raw",
   "id": "f489d2a9",
   "metadata": {},
   "source": [
    "4. What are the two lines that must be present in your software in order to call logging.debug()?"
   ]
  },
  {
   "cell_type": "code",
   "execution_count": null,
   "id": "18c01883",
   "metadata": {},
   "outputs": [],
   "source": [
    "To be able to call logging.debug(), \n",
    "you must have these two lines at the start of your program: \n",
    "    \n",
    "import logging \n",
    "logging.basicConfig(level=logging.DEBUG, format=' %(asctime)s - %(levelname)s - %(message)s')"
   ]
  },
  {
   "cell_type": "raw",
   "id": "359031e5",
   "metadata": {},
   "source": []
  },
  {
   "cell_type": "raw",
   "id": "2d77458b",
   "metadata": {},
   "source": [
    "5. What are the two lines that your program must have in order to have logging.debug() send a logging message to a file named programLog.txt?"
   ]
  },
  {
   "cell_type": "code",
   "execution_count": null,
   "id": "569c916c",
   "metadata": {},
   "outputs": [],
   "source": [
    "import logging \n",
    "logging.basicConfig(filename='programLog.txt', level=logging.DEBUG, format=' %(asctime)s - %(levelname)s - %(message)s')"
   ]
  },
  {
   "cell_type": "raw",
   "id": "83c8e164",
   "metadata": {},
   "source": []
  },
  {
   "cell_type": "raw",
   "id": "0a0037d5",
   "metadata": {},
   "source": [
    "6. What are the five levels of logging?"
   ]
  },
  {
   "cell_type": "code",
   "execution_count": null,
   "id": "5f650ce3",
   "metadata": {},
   "outputs": [],
   "source": [
    "DEBUG, INFO, WARNING, ERROR, and CRITICAL"
   ]
  },
  {
   "cell_type": "raw",
   "id": "8dee6d58",
   "metadata": {},
   "source": []
  },
  {
   "cell_type": "raw",
   "id": "93bf197d",
   "metadata": {},
   "source": [
    "7. What line of code would you add to your software to disable all logging messages?"
   ]
  },
  {
   "cell_type": "code",
   "execution_count": null,
   "id": "9fb6c3a3",
   "metadata": {},
   "outputs": [],
   "source": [
    "logging.disable(logging.CRITICAL)"
   ]
  },
  {
   "cell_type": "raw",
   "id": "4de83bd6",
   "metadata": {},
   "source": []
  },
  {
   "cell_type": "raw",
   "id": "2ad0d9cb",
   "metadata": {},
   "source": [
    "8.Why is using logging messages better than using print() to display the same message?"
   ]
  },
  {
   "cell_type": "code",
   "execution_count": null,
   "id": "87ff333c",
   "metadata": {},
   "outputs": [],
   "source": [
    "You can disable logging messages without removing the logging function calls. You can selectively disable lower-level \n",
    "logging messages. You can create logging messages. Logging messages provides a timestamp."
   ]
  },
  {
   "cell_type": "raw",
   "id": "4bbc1cf4",
   "metadata": {},
   "source": []
  },
  {
   "cell_type": "raw",
   "id": "86c087c2",
   "metadata": {},
   "source": [
    "9. What are the differences between the Step Over, Step In, and Step Out buttons in the debugger?"
   ]
  },
  {
   "cell_type": "code",
   "execution_count": null,
   "id": "94537e17",
   "metadata": {},
   "outputs": [],
   "source": []
  },
  {
   "cell_type": "raw",
   "id": "fb0cb0e2",
   "metadata": {},
   "source": []
  },
  {
   "cell_type": "raw",
   "id": "df7a7f08",
   "metadata": {},
   "source": [
    "10.After you click Continue, when will the debugger stop ?"
   ]
  },
  {
   "cell_type": "code",
   "execution_count": null,
   "id": "33f76f68",
   "metadata": {},
   "outputs": [],
   "source": [
    "The Step button will move the debugger into a function call.\n",
    "The Over button will quickly execute the function call without stepping into it. \n",
    "The Out button will quickly execute the rest of the code until it steps out of the function it currently is in."
   ]
  },
  {
   "cell_type": "raw",
   "id": "4f704c33",
   "metadata": {},
   "source": []
  },
  {
   "cell_type": "raw",
   "id": "615084a8",
   "metadata": {},
   "source": [
    "11. What is the concept of a breakpoint?"
   ]
  },
  {
   "cell_type": "code",
   "execution_count": null,
   "id": "c4ed42ab",
   "metadata": {},
   "outputs": [],
   "source": [
    "breakpoint is a setting on a line of code that causes the debugger to pause when the program execution reaches the line"
   ]
  },
  {
   "cell_type": "code",
   "execution_count": null,
   "id": "e50e57fd",
   "metadata": {},
   "outputs": [],
   "source": []
  }
 ],
 "metadata": {
  "kernelspec": {
   "display_name": "Python 3",
   "language": "python",
   "name": "python3"
  },
  "language_info": {
   "codemirror_mode": {
    "name": "ipython",
    "version": 3
   },
   "file_extension": ".py",
   "mimetype": "text/x-python",
   "name": "python",
   "nbconvert_exporter": "python",
   "pygments_lexer": "ipython3",
   "version": "3.7.10"
  }
 },
 "nbformat": 4,
 "nbformat_minor": 5
}
