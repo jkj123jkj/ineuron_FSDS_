{
 "cells": [
  {
   "cell_type": "raw",
   "id": "a1940a65",
   "metadata": {},
   "source": [
    "1.\tWrite a Python program to check if the given number is a Disarium Number?"
   ]
  },
  {
   "cell_type": "code",
   "execution_count": 4,
   "id": "5c2b0410",
   "metadata": {},
   "outputs": [
    {
     "name": "stdout",
     "output_type": "stream",
     "text": [
      "1 is a Disarium number\n",
      "2 is a Disarium number\n",
      "3 is a Disarium number\n",
      "4 is a Disarium number\n",
      "5 is a Disarium number\n",
      "6 is a Disarium number\n",
      "7 is a Disarium number\n",
      "8 is a Disarium number\n",
      "9 is a Disarium number\n",
      "89 is a Disarium number\n",
      "135 is a Disarium number\n",
      "175 is a Disarium number\n",
      "518 is a Disarium number\n",
      "598 is a Disarium number\n"
     ]
    }
   ],
   "source": [
    "for i in range(1,1000):\n",
    "    leng = len(str(i))\n",
    "    summ = 0\n",
    "    num_str = str(i)\n",
    "    for j in range(leng):\n",
    "        summ+= int(num_str[j])**(j+1)\n",
    "    if i == summ:\n",
    "        print('{} is a Disarium number'.format(i))"
   ]
  },
  {
   "cell_type": "raw",
   "id": "60ed4cd8",
   "metadata": {},
   "source": []
  },
  {
   "cell_type": "raw",
   "id": "af6e72ca",
   "metadata": {},
   "source": [
    "2.\tWrite a Python program to print all disarium numbers between 1 to 100?"
   ]
  },
  {
   "cell_type": "code",
   "execution_count": 5,
   "id": "93d838a3",
   "metadata": {},
   "outputs": [
    {
     "name": "stdout",
     "output_type": "stream",
     "text": [
      "1 is a Disarium number\n",
      "2 is a Disarium number\n",
      "3 is a Disarium number\n",
      "4 is a Disarium number\n",
      "5 is a Disarium number\n",
      "6 is a Disarium number\n",
      "7 is a Disarium number\n",
      "8 is a Disarium number\n",
      "9 is a Disarium number\n",
      "89 is a Disarium number\n"
     ]
    }
   ],
   "source": [
    "for i in range(1,100):\n",
    "    leng = len(str(i))\n",
    "    summ = 0\n",
    "    num_str = str(i)\n",
    "    for j in range(leng):\n",
    "        summ+= int(num_str[j])**(j+1)\n",
    "    if i == summ:\n",
    "        print('{} is a Disarium number'.format(i))"
   ]
  },
  {
   "cell_type": "raw",
   "id": "906500ba",
   "metadata": {},
   "source": []
  },
  {
   "cell_type": "raw",
   "id": "8635c538",
   "metadata": {},
   "source": [
    "3.\tWrite a Python program to check if the given number is Happy Number?"
   ]
  },
  {
   "cell_type": "code",
   "execution_count": null,
   "id": "c24ac88c",
   "metadata": {},
   "outputs": [],
   "source": []
  },
  {
   "cell_type": "raw",
   "id": "0525e85d",
   "metadata": {},
   "source": []
  },
  {
   "cell_type": "raw",
   "id": "ddda2fb1",
   "metadata": {},
   "source": [
    "4.\tWrite a Python program to print all happy numbers between 1 and 100?"
   ]
  },
  {
   "cell_type": "code",
   "execution_count": 17,
   "id": "cc885e77",
   "metadata": {},
   "outputs": [
    {
     "name": "stdout",
     "output_type": "stream",
     "text": [
      "10 is a happy number\n",
      "13 is a happy number\n",
      "19 is a happy number\n",
      "23 is a happy number\n",
      "28 is a happy number\n",
      "31 is a happy number\n",
      "32 is a happy number\n",
      "44 is a happy number\n",
      "49 is a happy number\n",
      "68 is a happy number\n",
      "70 is a happy number\n",
      "79 is a happy number\n",
      "82 is a happy number\n",
      "86 is a happy number\n",
      "91 is a happy number\n",
      "94 is a happy number\n",
      "97 is a happy number\n"
     ]
    }
   ],
   "source": [
    "for i in range(1,100):\n",
    "    num = i\n",
    "    leng = len(str(num))\n",
    "    while leng>1:\n",
    "        summ = 0\n",
    "        num_str = str(num)\n",
    "        for j in range(leng):\n",
    "            summ+= int(num_str[j])**(2)\n",
    "        num = summ\n",
    "        leng =len(str(summ))\n",
    "    if summ ==1:\n",
    "        print('{} is a happy number'.format(i))\n",
    "        "
   ]
  },
  {
   "cell_type": "raw",
   "id": "36aecc7d",
   "metadata": {},
   "source": []
  },
  {
   "cell_type": "raw",
   "id": "c2c87529",
   "metadata": {},
   "source": [
    "5.\tWrite a Python program to determine whether the given number is a Harshad Number?"
   ]
  },
  {
   "cell_type": "code",
   "execution_count": 18,
   "id": "0ef1e13b",
   "metadata": {},
   "outputs": [
    {
     "name": "stdout",
     "output_type": "stream",
     "text": [
      "10 is a happy number\n",
      "13 is a happy number\n",
      "19 is a happy number\n",
      "23 is a happy number\n",
      "28 is a happy number\n",
      "31 is a happy number\n",
      "32 is a happy number\n",
      "44 is a happy number\n",
      "49 is a happy number\n",
      "68 is a happy number\n",
      "70 is a happy number\n",
      "79 is a happy number\n",
      "82 is a happy number\n",
      "86 is a happy number\n",
      "91 is a happy number\n",
      "94 is a happy number\n",
      "97 is a happy number\n"
     ]
    }
   ],
   "source": [
    "for i in range(1,100):\n",
    "    num = i\n",
    "    leng = len(str(num))\n",
    "    while leng>1:\n",
    "        summ = 0\n",
    "        num_str = str(num)\n",
    "        for j in range(leng):\n",
    "            summ+= int(num_str[j])**(2)\n",
    "        num = summ\n",
    "        leng =len(str(summ))\n",
    "    if summ ==1:\n",
    "        print('{} is a happy number'.format(i))\n",
    "        "
   ]
  },
  {
   "cell_type": "raw",
   "id": "3a1a4c00",
   "metadata": {},
   "source": []
  },
  {
   "cell_type": "raw",
   "id": "b6b526a9",
   "metadata": {},
   "source": [
    "6.\tWrite a Python program to print all pronic numbers between 1 and 100?"
   ]
  },
  {
   "cell_type": "markdown",
   "id": "a28b34d1",
   "metadata": {},
   "source": [
    "##### checking a number is pronic"
   ]
  },
  {
   "cell_type": "code",
   "execution_count": 27,
   "id": "48c5727c",
   "metadata": {},
   "outputs": [
    {
     "name": "stdout",
     "output_type": "stream",
     "text": [
      "2 is pronic\n",
      "6 is pronic\n",
      "12 is pronic\n",
      "20 is pronic\n",
      "30 is pronic\n",
      "42 is pronic\n",
      "56 is pronic\n",
      "72 is pronic\n",
      "90 is pronic\n"
     ]
    }
   ],
   "source": [
    "for num in range(1,100):\n",
    "    comm_factors = []\n",
    "    for i in range(1,num+1):\n",
    "        if num%i ==0:\n",
    "            comm_factors.append(i)\n",
    "    for i in range(0,len(comm_factors)-1):\n",
    "        if (comm_factors[i+1]-comm_factors[i])==1:\n",
    "            if (comm_factors[i+1]*comm_factors[i])==num:\n",
    "                print('{} is pronic'.format(num))\n",
    "                break"
   ]
  },
  {
   "cell_type": "code",
   "execution_count": null,
   "id": "34775ba3",
   "metadata": {},
   "outputs": [],
   "source": []
  },
  {
   "cell_type": "raw",
   "id": "c4cb6de9",
   "metadata": {},
   "source": []
  }
 ],
 "metadata": {
  "kernelspec": {
   "display_name": "Python 3",
   "language": "python",
   "name": "python3"
  },
  "language_info": {
   "codemirror_mode": {
    "name": "ipython",
    "version": 3
   },
   "file_extension": ".py",
   "mimetype": "text/x-python",
   "name": "python",
   "nbconvert_exporter": "python",
   "pygments_lexer": "ipython3",
   "version": "3.7.10"
  }
 },
 "nbformat": 4,
 "nbformat_minor": 5
}
