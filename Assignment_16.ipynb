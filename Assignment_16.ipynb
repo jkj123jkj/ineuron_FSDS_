{
 "cells": [
  {
   "cell_type": "raw",
   "id": "2ead87f8",
   "metadata": {},
   "source": [
    "1. Create a list called years_list, starting with the year of your birth, and each year thereafter until the year of your fifth birthday. For example, if you were born in 1980. the list would be years_list = [1980, 1981, 1982, 1983, 1984, 1985]."
   ]
  },
  {
   "cell_type": "code",
   "execution_count": 3,
   "id": "d9f72c1d",
   "metadata": {},
   "outputs": [
    {
     "data": {
      "text/plain": [
       "[1980, 1981, 1982, 1983, 1984, 1985]"
      ]
     },
     "execution_count": 3,
     "metadata": {},
     "output_type": "execute_result"
    }
   ],
   "source": [
    "years_list = [i+1980 for i in range(6)]\n",
    "years_list"
   ]
  },
  {
   "cell_type": "raw",
   "id": "49745c44",
   "metadata": {},
   "source": []
  },
  {
   "cell_type": "raw",
   "id": "eabddc1c",
   "metadata": {},
   "source": [
    "2. In which year in years_list was your third birthday? Remember, you were 0 years of age for your first year."
   ]
  },
  {
   "cell_type": "code",
   "execution_count": 4,
   "id": "505a3ef3",
   "metadata": {},
   "outputs": [
    {
     "name": "stdout",
     "output_type": "stream",
     "text": [
      "third bday  1983\n"
     ]
    }
   ],
   "source": [
    "for i in range(1,len(years_list)):\n",
    "    if i%3 == 0:\n",
    "        print('third bday ', years_list[i])\n",
    "        break"
   ]
  },
  {
   "cell_type": "raw",
   "id": "b33b4fdc",
   "metadata": {},
   "source": []
  },
  {
   "cell_type": "raw",
   "id": "0a6c080b",
   "metadata": {},
   "source": [
    "3.In the years list, which year were you the oldest?"
   ]
  },
  {
   "cell_type": "code",
   "execution_count": 5,
   "id": "8a9802b0",
   "metadata": {},
   "outputs": [
    {
     "name": "stdout",
     "output_type": "stream",
     "text": [
      "oldest  1985\n"
     ]
    }
   ],
   "source": [
    "print('oldest ', years_list[-1])"
   ]
  },
  {
   "cell_type": "raw",
   "id": "da134141",
   "metadata": {},
   "source": []
  },
  {
   "cell_type": "raw",
   "id": "3f97fb14",
   "metadata": {},
   "source": [
    "4. Make a list called things with these three strings as elements: \"mozzarella\", \"cinderella\", \"salmonella\"."
   ]
  },
  {
   "cell_type": "code",
   "execution_count": 6,
   "id": "dfaf6cf1",
   "metadata": {},
   "outputs": [],
   "source": [
    "things = [\"mozzarella\", \"cinderella\", \"salmonella\"]"
   ]
  },
  {
   "cell_type": "raw",
   "id": "b091d784",
   "metadata": {},
   "source": []
  },
  {
   "cell_type": "raw",
   "id": "e12a7868",
   "metadata": {},
   "source": [
    "5. Capitalize the element in things that refers to a person and then print the list. Did it change the element in the list?"
   ]
  },
  {
   "cell_type": "code",
   "execution_count": 8,
   "id": "546bf969",
   "metadata": {},
   "outputs": [
    {
     "data": {
      "text/plain": [
       "['Mozzarella', 'Cinderella', 'Salmonella']"
      ]
     },
     "execution_count": 8,
     "metadata": {},
     "output_type": "execute_result"
    }
   ],
   "source": [
    "[i.capitalize() for i in things]    "
   ]
  },
  {
   "cell_type": "raw",
   "id": "90eef2ca",
   "metadata": {},
   "source": []
  },
  {
   "cell_type": "raw",
   "id": "1614476e",
   "metadata": {},
   "source": [
    "6. Make a surprise list with the elements \"Groucho,\" \"Chico,\" and \"Harpo.\""
   ]
  },
  {
   "cell_type": "code",
   "execution_count": 16,
   "id": "32aa093d",
   "metadata": {},
   "outputs": [],
   "source": [
    "surprise = [\"Groucho\", \"Chico,\" ,\"Harpo\"]"
   ]
  },
  {
   "cell_type": "raw",
   "id": "5aeac769",
   "metadata": {},
   "source": []
  },
  {
   "cell_type": "raw",
   "id": "3416d569",
   "metadata": {},
   "source": [
    "7. Lowercase the last element of the surprise list, reverse it, and then capitalize it."
   ]
  },
  {
   "cell_type": "code",
   "execution_count": 17,
   "id": "68f34dc7",
   "metadata": {},
   "outputs": [
    {
     "data": {
      "text/plain": [
       "['Groucho', 'Chico,', 'Oprah']"
      ]
     },
     "execution_count": 17,
     "metadata": {},
     "output_type": "execute_result"
    }
   ],
   "source": [
    "surprise[-1] = surprise[-1].lower()[::-1].capitalize()\n",
    "surprise"
   ]
  },
  {
   "cell_type": "raw",
   "id": "4591b0de",
   "metadata": {},
   "source": []
  },
  {
   "cell_type": "raw",
   "id": "fa39d651",
   "metadata": {},
   "source": [
    "8. Make an English-to-French dictionary called e2f and print it. Here are your starter words: dog is chien, cat is chat, and walrus is morse."
   ]
  },
  {
   "cell_type": "code",
   "execution_count": 18,
   "id": "e5677794",
   "metadata": {},
   "outputs": [
    {
     "data": {
      "text/plain": [
       "{'dog': 'chien', 'cat': 'chat', 'walrus': 'morse'}"
      ]
     },
     "execution_count": 18,
     "metadata": {},
     "output_type": "execute_result"
    }
   ],
   "source": [
    "e2f = {'dog':'chien','cat':'chat','walrus':'morse'}\n",
    "e2f"
   ]
  },
  {
   "cell_type": "raw",
   "id": "6a18f88e",
   "metadata": {},
   "source": []
  },
  {
   "cell_type": "raw",
   "id": "b6e72915",
   "metadata": {},
   "source": [
    "9. Write the French word for walrus in your three-word dictionary e2f."
   ]
  },
  {
   "cell_type": "code",
   "execution_count": 19,
   "id": "16e7cc73",
   "metadata": {},
   "outputs": [
    {
     "data": {
      "text/plain": [
       "'morse'"
      ]
     },
     "execution_count": 19,
     "metadata": {},
     "output_type": "execute_result"
    }
   ],
   "source": [
    "e2f['walrus']"
   ]
  },
  {
   "cell_type": "raw",
   "id": "5728ac0d",
   "metadata": {},
   "source": []
  },
  {
   "cell_type": "raw",
   "id": "8d7dfa8a",
   "metadata": {},
   "source": [
    "10. Make a French-to-English dictionary called f2e from e2f. Use the items method."
   ]
  },
  {
   "cell_type": "code",
   "execution_count": 21,
   "id": "46381720",
   "metadata": {},
   "outputs": [
    {
     "data": {
      "text/plain": [
       "{'chien': 'dog', 'chat': 'cat', 'morse': 'walrus'}"
      ]
     },
     "execution_count": 21,
     "metadata": {},
     "output_type": "execute_result"
    }
   ],
   "source": [
    "f2e = {key:value for value,key in e2f.items()}\n",
    "f2e"
   ]
  },
  {
   "cell_type": "raw",
   "id": "4a7c6b42",
   "metadata": {},
   "source": []
  },
  {
   "cell_type": "raw",
   "id": "ca9a1995",
   "metadata": {},
   "source": [
    "11. Print the English version of the French word chien using f2e."
   ]
  },
  {
   "cell_type": "code",
   "execution_count": 22,
   "id": "fb869edf",
   "metadata": {},
   "outputs": [
    {
     "data": {
      "text/plain": [
       "'dog'"
      ]
     },
     "execution_count": 22,
     "metadata": {},
     "output_type": "execute_result"
    }
   ],
   "source": [
    "f2e['chien']"
   ]
  },
  {
   "cell_type": "raw",
   "id": "59005577",
   "metadata": {},
   "source": []
  },
  {
   "cell_type": "raw",
   "id": "6f22f45e",
   "metadata": {},
   "source": [
    "12. Make and print a set of English words from the keys in e2f."
   ]
  },
  {
   "cell_type": "code",
   "execution_count": 24,
   "id": "0d824581",
   "metadata": {},
   "outputs": [
    {
     "data": {
      "text/plain": [
       "['dog', 'cat', 'walrus']"
      ]
     },
     "execution_count": 24,
     "metadata": {},
     "output_type": "execute_result"
    }
   ],
   "source": [
    "list(e2f.keys())"
   ]
  },
  {
   "cell_type": "raw",
   "id": "7b13f898",
   "metadata": {},
   "source": []
  },
  {
   "cell_type": "raw",
   "id": "75f32ec7",
   "metadata": {},
   "source": [
    "13. Make a multilevel dictionary called life. Use these strings for the topmost keys: 'animals', 'plants', and 'other'. Make the 'animals' key refer to another dictionary with the keys 'cats', 'octopi', and 'emus'. Make the 'cats' key refer to a list of strings with the values 'Henri', 'Grumpy', and 'Lucy'. Make all the other keys refer to empty dictionaries."
   ]
  },
  {
   "cell_type": "code",
   "execution_count": 26,
   "id": "bb0a51bf",
   "metadata": {},
   "outputs": [],
   "source": [
    "life = {\n",
    "        'animals':{\n",
    "                    'cats':['Henri', 'Grumpy','Lucy'],\n",
    "                    'octopi':{},\n",
    "                    'emus':{},\n",
    "                  },\n",
    "        'plants':{},\n",
    "        'other' : {}\n",
    "        }"
   ]
  },
  {
   "cell_type": "raw",
   "id": "a6f208d8",
   "metadata": {},
   "source": []
  },
  {
   "cell_type": "raw",
   "id": "ffbea92b",
   "metadata": {},
   "source": [
    "14. Print the top-level keys of life."
   ]
  },
  {
   "cell_type": "code",
   "execution_count": 27,
   "id": "b768c9a4",
   "metadata": {},
   "outputs": [
    {
     "data": {
      "text/plain": [
       "['animals', 'plants', 'other']"
      ]
     },
     "execution_count": 27,
     "metadata": {},
     "output_type": "execute_result"
    }
   ],
   "source": [
    "list(life.keys())"
   ]
  },
  {
   "cell_type": "raw",
   "id": "d321f69d",
   "metadata": {},
   "source": []
  },
  {
   "cell_type": "raw",
   "id": "9785e97f",
   "metadata": {},
   "source": [
    "15. Print the keys for life['animals']."
   ]
  },
  {
   "cell_type": "code",
   "execution_count": 28,
   "id": "277619cc",
   "metadata": {},
   "outputs": [
    {
     "data": {
      "text/plain": [
       "['cats', 'octopi', 'emus']"
      ]
     },
     "execution_count": 28,
     "metadata": {},
     "output_type": "execute_result"
    }
   ],
   "source": [
    "list(life['animals'].keys())"
   ]
  },
  {
   "cell_type": "raw",
   "id": "83ea8f9e",
   "metadata": {},
   "source": []
  },
  {
   "cell_type": "raw",
   "id": "0e598f60",
   "metadata": {},
   "source": [
    "16. Print the values for life['animals']['cats']"
   ]
  },
  {
   "cell_type": "code",
   "execution_count": 32,
   "id": "31d93ed3",
   "metadata": {},
   "outputs": [
    {
     "data": {
      "text/plain": [
       "['Henri', 'Grumpy', 'Lucy']"
      ]
     },
     "execution_count": 32,
     "metadata": {},
     "output_type": "execute_result"
    }
   ],
   "source": [
    "life['animals']['cats']"
   ]
  },
  {
   "cell_type": "raw",
   "id": "1b0efcb9",
   "metadata": {},
   "source": []
  }
 ],
 "metadata": {
  "kernelspec": {
   "display_name": "Python 3",
   "language": "python",
   "name": "python3"
  },
  "language_info": {
   "codemirror_mode": {
    "name": "ipython",
    "version": 3
   },
   "file_extension": ".py",
   "mimetype": "text/x-python",
   "name": "python",
   "nbconvert_exporter": "python",
   "pygments_lexer": "ipython3",
   "version": "3.7.10"
  }
 },
 "nbformat": 4,
 "nbformat_minor": 5
}
