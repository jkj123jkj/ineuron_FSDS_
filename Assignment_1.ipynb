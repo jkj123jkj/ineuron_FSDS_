{
 "cells": [
  {
   "cell_type": "raw",
   "id": "cd3806a6",
   "metadata": {},
   "source": [
    "# 1. In the below elements which of them are values or an expression? \n",
    "eg:- values can be integer or string and expressions will be mathematical operators.\n",
    "* \n",
    "'hello'\n",
    "-87.8\n",
    "- \n",
    "/ \n",
    "+\t\n",
    "6 \n"
   ]
  },
  {
   "cell_type": "code",
   "execution_count": null,
   "id": "45375008",
   "metadata": {},
   "outputs": [],
   "source": [
    "ANS:\n",
    "    \n",
    "Values are 'hello' (string), -87.8  (float ), 6 (int)\n",
    "\n",
    "Expressions are \n",
    "* mul\n",
    "- sub\n",
    "+ add\n",
    "/ div"
   ]
  },
  {
   "cell_type": "code",
   "execution_count": null,
   "id": "58302dd1",
   "metadata": {},
   "outputs": [],
   "source": []
  },
  {
   "cell_type": "raw",
   "id": "26641fc0",
   "metadata": {},
   "source": [
    "2. What is the difference between string and variable?"
   ]
  },
  {
   "cell_type": "code",
   "execution_count": null,
   "id": "401cf47b",
   "metadata": {},
   "outputs": [],
   "source": [
    "ANS:\n",
    "    \n",
    "string is a datatype in programming language which is a sequence of characters and is immutable which means once created \n",
    "once cannot be altered.\n",
    "\n",
    "variable is like any name used to assign or used to point the objects or different datatypes that are created in the code.\n",
    "variables in python starts either with and _ or alphabet not any other way.\n",
    "we can say variable name points to the memory location where the data has been stored."
   ]
  },
  {
   "cell_type": "code",
   "execution_count": null,
   "id": "773f2ecc",
   "metadata": {},
   "outputs": [],
   "source": []
  },
  {
   "cell_type": "raw",
   "id": "aeaf64f6",
   "metadata": {},
   "source": [
    "3. Describe three different data types."
   ]
  },
  {
   "cell_type": "code",
   "execution_count": 7,
   "id": "e97120c8",
   "metadata": {},
   "outputs": [],
   "source": [
    "ANS:\n",
    "    \n",
    "    string:  data type which  is a sequence of characters and is immutable which is a \n",
    "        sequence of characters and is immutable\n",
    "        \n",
    "    int   : integer is the datatype which identifies the numbers other than complex numbers and float numbers\n",
    "    \n",
    "    float : all decimal numbers are identified under the float data type\n",
    "        \n",
    "    list , dict , tuple ,set , bool etc are also the internally built classes as for different data types for specific \n",
    "    implementations\n",
    "    "
   ]
  },
  {
   "cell_type": "code",
   "execution_count": null,
   "id": "f7eaae59",
   "metadata": {},
   "outputs": [],
   "source": []
  },
  {
   "cell_type": "raw",
   "id": "f0bafe42",
   "metadata": {},
   "source": [
    "4. What is an expression made up of? What do all expressions do?"
   ]
  },
  {
   "cell_type": "code",
   "execution_count": null,
   "id": "6af93bf7",
   "metadata": {},
   "outputs": [],
   "source": [
    "ANS\n",
    "\n",
    "An expression is a combination of values, variables, operators, and calls to functions. Expressions need to be evaluated. \n",
    "\n",
    "Expresisons generally perform operation between the values and variables. The operators in the expression overloads the \n",
    "classes which do operation.Expressions are representations of value. They are different from statement in the fact that \n",
    "statements do something while expressions are representation of value. For example any string is also an expressions since\n",
    "it represents the value of the string as well."
   ]
  },
  {
   "cell_type": "code",
   "execution_count": null,
   "id": "248bb6fb",
   "metadata": {},
   "outputs": [],
   "source": []
  },
  {
   "cell_type": "raw",
   "id": "b0095154",
   "metadata": {},
   "source": [
    "5. This assignment statements, like spam = 10. What is the difference between an expression and a statement?"
   ]
  },
  {
   "cell_type": "code",
   "execution_count": null,
   "id": "ce34458d",
   "metadata": {},
   "outputs": [],
   "source": [
    "ANS\n",
    "\n",
    "A statement is an instruction that the Python interpreter can execute.\n",
    "\n",
    "An expression is a combination of values, variables, operators, and calls to functions. Expressions need to be evaluated. \n",
    "If you ask Python to print an expression, the interpreter evaluates the expression and displays the result."
   ]
  },
  {
   "cell_type": "code",
   "execution_count": null,
   "id": "065289e4",
   "metadata": {},
   "outputs": [],
   "source": []
  },
  {
   "cell_type": "raw",
   "id": "9c4490c8",
   "metadata": {},
   "source": [
    "6. After running the following code, what does the variable bacon contain?\n",
    "bacon = 22\n",
    "bacon + 1\n"
   ]
  },
  {
   "cell_type": "code",
   "execution_count": null,
   "id": "c53e4553",
   "metadata": {},
   "outputs": [],
   "source": [
    "ANS\n",
    "bacon will contain same value thats is 22 because here the memory location which is pointed by bacon is not being updated in\n",
    "the second statement, rather it just add 1 to the value in bacon's location and return it."
   ]
  },
  {
   "cell_type": "code",
   "execution_count": null,
   "id": "6b0632a2",
   "metadata": {},
   "outputs": [],
   "source": []
  },
  {
   "cell_type": "raw",
   "id": "e5ca75e4",
   "metadata": {},
   "source": [
    "7. What should the values of the following two terms be?\n",
    "'spam' + 'spamspam'\n",
    "'spam' * 3"
   ]
  },
  {
   "cell_type": "code",
   "execution_count": 1,
   "id": "ad00bad2",
   "metadata": {},
   "outputs": [
    {
     "data": {
      "text/plain": [
       "'spamspamspam'"
      ]
     },
     "execution_count": 1,
     "metadata": {},
     "output_type": "execute_result"
    }
   ],
   "source": [
    "'spam' + 'spamspam' "
   ]
  },
  {
   "cell_type": "code",
   "execution_count": 3,
   "id": "cf38e0dc",
   "metadata": {},
   "outputs": [
    {
     "data": {
      "text/plain": [
       "'spamspamspam'"
      ]
     },
     "execution_count": 3,
     "metadata": {},
     "output_type": "execute_result"
    }
   ],
   "source": [
    "'spam' * 3"
   ]
  },
  {
   "cell_type": "code",
   "execution_count": null,
   "id": "eee2fec3",
   "metadata": {},
   "outputs": [],
   "source": [
    "both gives the same output, in first one the operator + overloads the addition internally builty addition operation to\n",
    "concatenate two strings and in the second one again the * overloads the internaly builty multiplication 'class' to concatenate\n",
    "the string that much number of times"
   ]
  },
  {
   "cell_type": "code",
   "execution_count": null,
   "id": "b2205dbb",
   "metadata": {},
   "outputs": [],
   "source": []
  },
  {
   "cell_type": "raw",
   "id": "010ea436",
   "metadata": {},
   "source": [
    "8. Why is eggs a valid variable name while 100 is invalid?"
   ]
  },
  {
   "cell_type": "code",
   "execution_count": null,
   "id": "983595dd",
   "metadata": {},
   "outputs": [],
   "source": [
    "eggs can be a variable but 100 cannot \n",
    "lets take the situation of\n",
    "100 = 106 or\n",
    "100 = 'goat'\n",
    "100*2 results in goat concatenated 100 times\n",
    "Numerical property if numbers will be overridden if numbers are allowed to take the position of variables"
   ]
  },
  {
   "cell_type": "code",
   "execution_count": null,
   "id": "66e23ce1",
   "metadata": {},
   "outputs": [],
   "source": []
  },
  {
   "cell_type": "raw",
   "id": "c0c394b8",
   "metadata": {},
   "source": [
    "9. What three functions can be used to get the integer, floating-point number, or string version of a value?"
   ]
  },
  {
   "cell_type": "code",
   "execution_count": null,
   "id": "207b4a3e",
   "metadata": {},
   "outputs": [],
   "source": [
    "for \n",
    "integer        int()\n",
    "floatfloating-point number  float()\n",
    "string         str()\n"
   ]
  },
  {
   "cell_type": "code",
   "execution_count": null,
   "id": "91e7f29a",
   "metadata": {},
   "outputs": [],
   "source": []
  },
  {
   "cell_type": "raw",
   "id": "ddfe80ea",
   "metadata": {},
   "source": [
    "10. Why does this expression cause an error? How can you fix it?\n",
    "'I have eaten ' + 99 + ' burritos.'\n"
   ]
  },
  {
   "cell_type": "code",
   "execution_count": 7,
   "id": "479eee5a",
   "metadata": {},
   "outputs": [
    {
     "ename": "TypeError",
     "evalue": "can only concatenate str (not \"int\") to str",
     "output_type": "error",
     "traceback": [
      "\u001b[1;31m---------------------------------------------------------------------------\u001b[0m",
      "\u001b[1;31mTypeError\u001b[0m                                 Traceback (most recent call last)",
      "\u001b[1;32m<ipython-input-7-d24137131a5c>\u001b[0m in \u001b[0;36m<module>\u001b[1;34m\u001b[0m\n\u001b[1;32m----> 1\u001b[1;33m \u001b[1;34m'I have eaten '\u001b[0m \u001b[1;33m+\u001b[0m \u001b[1;36m99\u001b[0m \u001b[1;33m+\u001b[0m \u001b[1;34m' burritos.'\u001b[0m\u001b[1;33m\u001b[0m\u001b[1;33m\u001b[0m\u001b[0m\n\u001b[0m",
      "\u001b[1;31mTypeError\u001b[0m: can only concatenate str (not \"int\") to str"
     ]
    }
   ],
   "source": [
    "'I have eaten ' + 99 + ' burritos.'"
   ]
  },
  {
   "cell_type": "code",
   "execution_count": null,
   "id": "a227853d",
   "metadata": {},
   "outputs": [],
   "source": [
    "ANS\n",
    "\n",
    " convert the integer 99 by str(99)"
   ]
  },
  {
   "cell_type": "code",
   "execution_count": 8,
   "id": "c56b8e59",
   "metadata": {},
   "outputs": [
    {
     "data": {
      "text/plain": [
       "'I have eaten 99 burritos.'"
      ]
     },
     "execution_count": 8,
     "metadata": {},
     "output_type": "execute_result"
    }
   ],
   "source": [
    "'I have eaten ' + str(99) + ' burritos.'"
   ]
  }
 ],
 "metadata": {
  "kernelspec": {
   "display_name": "Python 3",
   "language": "python",
   "name": "python3"
  },
  "language_info": {
   "codemirror_mode": {
    "name": "ipython",
    "version": 3
   },
   "file_extension": ".py",
   "mimetype": "text/x-python",
   "name": "python",
   "nbconvert_exporter": "python",
   "pygments_lexer": "ipython3",
   "version": "3.7.10"
  }
 },
 "nbformat": 4,
 "nbformat_minor": 5
}
