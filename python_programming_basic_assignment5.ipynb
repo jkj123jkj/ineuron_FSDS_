{
 "cells": [
  {
   "cell_type": "raw",
   "id": "a1940a65",
   "metadata": {},
   "source": [
    "1.\tWrite a Python Program to Find LCM?"
   ]
  },
  {
   "cell_type": "markdown",
   "id": "573fb06a",
   "metadata": {},
   "source": [
    "######  code can find lcm of any number of inputs we just need to give input in line number 3"
   ]
  },
  {
   "cell_type": "code",
   "execution_count": 70,
   "id": "5c2b0410",
   "metadata": {},
   "outputs": [
    {
     "name": "stdout",
     "output_type": "stream",
     "text": [
      "LCM of (83, 42, 57, 3) is  596106\n",
      "LCM of (81, 8, 61, 7) is  276696\n",
      "LCM of (85, 66, 85, 50) is  23842500\n",
      "LCM of (53, 58, 82, 27) is  6805836\n",
      "LCM of (20, 74, 60, 88) is  3907200\n",
      "LCM of (32, 80, 12, 63) is  1935360\n",
      "LCM of (57, 76, 90, 84) is  32749920\n",
      "LCM of (29, 14, 39, 6) is  95004\n",
      "LCM of (50, 7, 68, 21) is  499800\n",
      "LCM of (91, 33, 82, 100) is  24624600\n"
     ]
    }
   ],
   "source": [
    "import random\n",
    "for iter_ in range(10):\n",
    "    x = random.randint(1,100),random.randint(1,100),random.randint(1,100),random.randint(1,100)\n",
    "    facts = []\n",
    "    for i in x:\n",
    "        for j in range(1,i+1):\n",
    "            if i%j==0:\n",
    "                facts.append(j)\n",
    "    facts.sort(reverse=False)\n",
    "    CF = []  \n",
    "    i = 0\n",
    "    len_ = len(x)\n",
    "    \n",
    "    while i < (len(facts) - len_ ):\n",
    "        if len(set(facts[i:i+len_])) ==1:\n",
    "            CF.append(facts[i])\n",
    "            i+=len_\n",
    "        else:\n",
    "            i+=1\n",
    "            \n",
    "    GCF = max(CF)\n",
    "    prod = 1\n",
    "    for i in range(len(x)):\n",
    "        prod *= x[i]\n",
    "    \n",
    "    print('LCM of {} is '.format(x), int(prod /GCF)) "
   ]
  },
  {
   "cell_type": "raw",
   "id": "60ed4cd8",
   "metadata": {},
   "source": []
  },
  {
   "cell_type": "raw",
   "id": "af6e72ca",
   "metadata": {},
   "source": [
    "2.\tWrite a Python Program to Find HCF?"
   ]
  },
  {
   "cell_type": "markdown",
   "id": "c39db76a",
   "metadata": {},
   "source": [
    "###### code can find HCF of any number of inputs we just need to give input in line number 3"
   ]
  },
  {
   "cell_type": "code",
   "execution_count": 69,
   "id": "93d838a3",
   "metadata": {},
   "outputs": [
    {
     "name": "stdout",
     "output_type": "stream",
     "text": [
      "GCF of (295, 746, 216) is  1\n",
      "GCF of (300, 772, 274) is  2\n",
      "GCF of (385, 109, 83) is  1\n",
      "GCF of (642, 398, 342) is  2\n",
      "GCF of (11, 937, 91) is  1\n",
      "GCF of (373, 691, 374) is  1\n",
      "GCF of (175, 739, 320) is  1\n",
      "GCF of (393, 859, 683) is  1\n",
      "GCF of (438, 573, 606) is  3\n",
      "GCF of (381, 966, 872) is  1\n"
     ]
    }
   ],
   "source": [
    "import random\n",
    "for iter_ in range(10):\n",
    "    x = random.randint(1,1000),random.randint(1,1000),random.randint(1,1000)\n",
    "    facts = []\n",
    "    for i in x:\n",
    "        for j in range(1,i+1):\n",
    "            if i%j==0:\n",
    "                facts.append(j)\n",
    "    facts.sort(reverse=False)\n",
    "    CF = []  \n",
    "    i = 0\n",
    "    len_ = len(x)\n",
    "    \n",
    "    while i < (len(facts) - len_ ):\n",
    "        if len(set(facts[i:i+len_])) ==1:\n",
    "            CF.append(facts[i])\n",
    "            i+=len_\n",
    "        else:\n",
    "            i+=1\n",
    "            \n",
    "    GCF = max(CF)\n",
    "    \n",
    "    print('GCF of {} is '.format(x), int(GCF)) "
   ]
  },
  {
   "cell_type": "raw",
   "id": "906500ba",
   "metadata": {},
   "source": []
  },
  {
   "cell_type": "raw",
   "id": "8635c538",
   "metadata": {},
   "source": [
    "3.\tWrite a Python Program to Convert Decimal to Binary, Octal and Hexadecimal?"
   ]
  },
  {
   "cell_type": "code",
   "execution_count": 79,
   "id": "c24ac88c",
   "metadata": {},
   "outputs": [
    {
     "name": "stdout",
     "output_type": "stream",
     "text": [
      "for the number 0 , binary is 0, oct is 0, hex is 0\n",
      "for the number 1 , binary is 1, oct is 1, hex is 1\n",
      "for the number 2 , binary is 10, oct is 2, hex is 2\n",
      "for the number 3 , binary is 11, oct is 3, hex is 3\n",
      "for the number 4 , binary is 100, oct is 4, hex is 4\n",
      "for the number 5 , binary is 101, oct is 5, hex is 5\n",
      "for the number 6 , binary is 110, oct is 6, hex is 6\n",
      "for the number 7 , binary is 111, oct is 7, hex is 7\n",
      "for the number 8 , binary is 1000, oct is 10, hex is 8\n",
      "for the number 9 , binary is 1001, oct is 11, hex is 9\n",
      "for the number 10 , binary is 1010, oct is 12, hex is A\n",
      "for the number 11 , binary is 1011, oct is 13, hex is B\n",
      "for the number 12 , binary is 1100, oct is 14, hex is C\n",
      "for the number 13 , binary is 1101, oct is 15, hex is D\n",
      "for the number 14 , binary is 1110, oct is 16, hex is E\n",
      "for the number 15 , binary is 1111, oct is 17, hex is F\n",
      "for the number 16 , binary is 10000, oct is 20, hex is 10\n",
      "for the number 17 , binary is 10001, oct is 21, hex is 11\n",
      "for the number 18 , binary is 10010, oct is 22, hex is 12\n",
      "for the number 19 , binary is 10011, oct is 23, hex is 13\n",
      "for the number 20 , binary is 10100, oct is 24, hex is 14\n",
      "for the number 21 , binary is 10101, oct is 25, hex is 15\n",
      "for the number 22 , binary is 10110, oct is 26, hex is 16\n",
      "for the number 23 , binary is 10111, oct is 27, hex is 17\n",
      "for the number 24 , binary is 11000, oct is 30, hex is 18\n",
      "for the number 25 , binary is 11001, oct is 31, hex is 19\n",
      "for the number 26 , binary is 11010, oct is 32, hex is 1A\n",
      "for the number 27 , binary is 11011, oct is 33, hex is 1B\n",
      "for the number 28 , binary is 11100, oct is 34, hex is 1C\n",
      "for the number 29 , binary is 11101, oct is 35, hex is 1D\n",
      "for the number 30 , binary is 11110, oct is 36, hex is 1E\n",
      "for the number 31 , binary is 11111, oct is 37, hex is 1F\n",
      "for the number 32 , binary is 100000, oct is 40, hex is 20\n",
      "for the number 33 , binary is 100001, oct is 41, hex is 21\n",
      "for the number 34 , binary is 100010, oct is 42, hex is 22\n",
      "for the number 35 , binary is 100011, oct is 43, hex is 23\n",
      "for the number 36 , binary is 100100, oct is 44, hex is 24\n",
      "for the number 37 , binary is 100101, oct is 45, hex is 25\n",
      "for the number 38 , binary is 100110, oct is 46, hex is 26\n",
      "for the number 39 , binary is 100111, oct is 47, hex is 27\n",
      "for the number 40 , binary is 101000, oct is 50, hex is 28\n",
      "for the number 41 , binary is 101001, oct is 51, hex is 29\n",
      "for the number 42 , binary is 101010, oct is 52, hex is 2A\n",
      "for the number 43 , binary is 101011, oct is 53, hex is 2B\n",
      "for the number 44 , binary is 101100, oct is 54, hex is 2C\n",
      "for the number 45 , binary is 101101, oct is 55, hex is 2D\n",
      "for the number 46 , binary is 101110, oct is 56, hex is 2E\n",
      "for the number 47 , binary is 101111, oct is 57, hex is 2F\n",
      "for the number 48 , binary is 110000, oct is 60, hex is 30\n",
      "for the number 49 , binary is 110001, oct is 61, hex is 31\n"
     ]
    }
   ],
   "source": [
    "def tobinary(val):\n",
    "    bin_ = ''\n",
    "    while val>=0:\n",
    "        x = val%2\n",
    "        bin_ = bin_ + str(x)\n",
    "        val= int(val/2)\n",
    "        if val == 0:\n",
    "            break\n",
    "    return bin_[::-1]\n",
    "\n",
    "def tooctal(val):\n",
    "    oct_ = ''\n",
    "    while val>=0:\n",
    "        x = val%8\n",
    "        oct_ = oct_ + str(x)\n",
    "        val= int(val/8)\n",
    "        if val == 0:\n",
    "            break\n",
    "    return oct_[::-1]\n",
    "\n",
    "def Hexadecimal(val):\n",
    "    alph = ['A','B','C','D','E','F']\n",
    "    HEX_ = ''\n",
    "    while val>=0:\n",
    "        x = val%16\n",
    "        if x<10:\n",
    "            HEX_ = HEX_ + str(x)\n",
    "        else:\n",
    "            HEX_ = HEX_ + alph[x-10]\n",
    "        val= int(val/16)\n",
    "        if val == 0:\n",
    "            break\n",
    "    return HEX_[::-1]\n",
    "\n",
    "\n",
    "for i in range(50):\n",
    "    print('for the number {} , binary is {}, oct is {}, hex is {}'.format(i,tobinary(i), tooctal(i), Hexadecimal(i)))\n"
   ]
  },
  {
   "cell_type": "raw",
   "id": "0525e85d",
   "metadata": {},
   "source": []
  },
  {
   "cell_type": "raw",
   "id": "ddda2fb1",
   "metadata": {},
   "source": [
    "4.\tWrite a Python Program To Find ASCII value of a character?"
   ]
  },
  {
   "cell_type": "code",
   "execution_count": 85,
   "id": "cc885e77",
   "metadata": {},
   "outputs": [
    {
     "data": {
      "text/plain": [
       "(97, 65, 122, 90, 49, 50)"
      ]
     },
     "execution_count": 85,
     "metadata": {},
     "output_type": "execute_result"
    }
   ],
   "source": [
    "def get_ascii(val):\n",
    "    return ord(val)\n",
    "get_ascii('a'),get_ascii('A'),get_ascii('z'),get_ascii('Z'),get_ascii('1'),get_ascii('2')\n",
    "    "
   ]
  },
  {
   "cell_type": "raw",
   "id": "36aecc7d",
   "metadata": {},
   "source": []
  },
  {
   "cell_type": "raw",
   "id": "c2c87529",
   "metadata": {},
   "source": [
    "5.\tWrite a Python Program to Make a Simple Calculator with 4 basic mathematical operations?"
   ]
  },
  {
   "cell_type": "code",
   "execution_count": 94,
   "id": "0ef1e13b",
   "metadata": {},
   "outputs": [
    {
     "name": "stdout",
     "output_type": "stream",
     "text": [
      "For nums  8 and 4 -sum = 12,product = 32,division =2.0 ,difference = 4\n",
      "For nums  10 and 6 -sum = 16,product = 60,division =1.6666666666666667 ,difference = 4\n",
      "For nums  2 and 10 -sum = 12,product = 20,division =0.2 ,difference = -8\n",
      "For nums  10 and 10 -sum = 20,product = 100,division =1.0 ,difference = 0\n",
      "For nums  5 and 8 -sum = 13,product = 40,division =0.625 ,difference = -3\n",
      "For nums  6 and 0 -sum = 6,product = 0,division =Can not divide ,difference = 6\n",
      "For nums  4 and 7 -sum = 11,product = 28,division =0.5714285714285714 ,difference = -3\n",
      "For nums  4 and 5 -sum = 9,product = 20,division =0.8 ,difference = -1\n",
      "For nums  2 and 6 -sum = 8,product = 12,division =0.3333333333333333 ,difference = -4\n",
      "For nums  2 and 7 -sum = 9,product = 14,division =0.2857142857142857 ,difference = -5\n"
     ]
    }
   ],
   "source": [
    "import random\n",
    "class calc:\n",
    "    def sum(self,a,b):\n",
    "        return a+b\n",
    "    def mul(self,a,b):\n",
    "        return a*b\n",
    "    def diff(self,a,b):\n",
    "        return a-b\n",
    "    def div(self,a,b):\n",
    "        if b!=0:\n",
    "            return a/b \n",
    "        else:\n",
    "            return 'Can not divide'\n",
    "cal = calc()\n",
    "for i in range(10):\n",
    "    x,y =random.randint(0,10),random.randint(0,10)\n",
    "    print('For nums  {} and {} -sum = {},product = {},division ={} ,difference = {}'.format(x,y,cal.sum(x,y),cal.mul(x,y),cal.div(x,y),cal.diff(x,y)))\n",
    "    "
   ]
  }
 ],
 "metadata": {
  "kernelspec": {
   "display_name": "Python 3",
   "language": "python",
   "name": "python3"
  },
  "language_info": {
   "codemirror_mode": {
    "name": "ipython",
    "version": 3
   },
   "file_extension": ".py",
   "mimetype": "text/x-python",
   "name": "python",
   "nbconvert_exporter": "python",
   "pygments_lexer": "ipython3",
   "version": "3.7.10"
  }
 },
 "nbformat": 4,
 "nbformat_minor": 5
}
