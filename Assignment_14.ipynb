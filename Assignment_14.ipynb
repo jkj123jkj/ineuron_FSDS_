{
 "cells": [
  {
   "cell_type": "raw",
   "id": "7cf86d0d",
   "metadata": {},
   "source": [
    "1.What does RGBA stand for?"
   ]
  },
  {
   "cell_type": "code",
   "execution_count": null,
   "id": "b6568733",
   "metadata": {},
   "outputs": [],
   "source": [
    "RGBA stands for red green blue alpha. While it is sometimes described as a color space, it is actually a \n",
    "three-channel RGB color model supplemented with a fourth alpha channel."
   ]
  },
  {
   "cell_type": "raw",
   "id": "47a43638",
   "metadata": {},
   "source": []
  },
  {
   "cell_type": "raw",
   "id": "18c1afc8",
   "metadata": {},
   "source": [
    "2.From the Pillow module, how do you get the RGBA value of any images?"
   ]
  },
  {
   "cell_type": "code",
   "execution_count": 4,
   "id": "2f84f163",
   "metadata": {},
   "outputs": [
    {
     "name": "stdout",
     "output_type": "stream",
     "text": [
      "<ImagingCore object at 0x0000000005571E50>\n"
     ]
    }
   ],
   "source": [
    "from PIL import Image\n",
    "img = Image.open('pic.jpg')\n",
    "rgba = img.convert('RGBA')\n",
    "datas = rgba.getdata()\n",
    "print(datas)  #RGBA vvalue object is obtained"
   ]
  },
  {
   "cell_type": "raw",
   "id": "1840e20d",
   "metadata": {},
   "source": []
  },
  {
   "cell_type": "raw",
   "id": "fc3bdd3e",
   "metadata": {},
   "source": [
    "3. What is a box tuple, and how does it work?"
   ]
  },
  {
   "cell_type": "code",
   "execution_count": null,
   "id": "dedd5e10",
   "metadata": {},
   "outputs": [],
   "source": [
    "PIL.Image.crop(box = None)\n",
    "\n",
    "Parameters:\n",
    "box – a 4-tuple defining the left, upper, right, and lower pixel coordinate of the image."
   ]
  },
  {
   "cell_type": "raw",
   "id": "79cb5072",
   "metadata": {},
   "source": []
  },
  {
   "cell_type": "raw",
   "id": "7040b7d5",
   "metadata": {},
   "source": [
    "4. Use your image and load in notebook then, How can you find out the width and height of an Image object?"
   ]
  },
  {
   "cell_type": "code",
   "execution_count": 43,
   "id": "741f0851",
   "metadata": {},
   "outputs": [],
   "source": [
    "from IPython.display import Image\n",
    "from PIL import Image\n",
    "img = Image.open('pic.jpg')"
   ]
  },
  {
   "cell_type": "code",
   "execution_count": 10,
   "id": "df2e63c5",
   "metadata": {},
   "outputs": [
    {
     "name": "stdout",
     "output_type": "stream",
     "text": [
      "width and height of image is : 6720 and 4480\n"
     ]
    }
   ],
   "source": [
    "width, height = img. size\n",
    "print('width and height of image is :',width,'and',height)"
   ]
  },
  {
   "cell_type": "raw",
   "id": "b7ab2007",
   "metadata": {},
   "source": []
  },
  {
   "cell_type": "raw",
   "id": "cdbbec74",
   "metadata": {},
   "source": [
    "5. What method would you call to get Image object for a 100×100 image, excluding the lower-left quarter of it?"
   ]
  },
  {
   "cell_type": "code",
   "execution_count": 44,
   "id": "1cbcbd0a",
   "metadata": {},
   "outputs": [],
   "source": [
    "from PIL import Image\n",
    "img = Image.open('pic.jpg')"
   ]
  },
  {
   "cell_type": "code",
   "execution_count": 45,
   "id": "cc524bc2",
   "metadata": {},
   "outputs": [],
   "source": [
    "width, height = img.size\n",
    "left = 5\n",
    "top = height / 4\n",
    "right = 164\n",
    "bottom = 3 * height / 4\n",
    "im2 = img.crop((left, top, right, bottom))\n",
    "im2.show()\n",
    "#i didn't understand the question"
   ]
  },
  {
   "cell_type": "raw",
   "id": "60a1e932",
   "metadata": {},
   "source": []
  },
  {
   "cell_type": "raw",
   "id": "8065cc8d",
   "metadata": {},
   "source": [
    "6. After making changes to an Image object, how could you save it as an image file?"
   ]
  },
  {
   "cell_type": "code",
   "execution_count": 32,
   "id": "3deafef7",
   "metadata": {},
   "outputs": [],
   "source": [
    "im2.save('image_cropped.png')  # any image fornat can be given as extension"
   ]
  },
  {
   "cell_type": "raw",
   "id": "c411edb8",
   "metadata": {},
   "source": []
  },
  {
   "cell_type": "raw",
   "id": "2c701e80",
   "metadata": {},
   "source": [
    "7. What module contains Pillow’s shape-drawing code?object?"
   ]
  },
  {
   "cell_type": "code",
   "execution_count": 33,
   "id": "19ae2716",
   "metadata": {},
   "outputs": [],
   "source": [
    "from PIL import Image, ImageDraw\n",
    "\n",
    "im = Image.new('RGB', (500, 300), (128, 128, 128))\n",
    "draw = ImageDraw.Draw(im)\n",
    "#Here, create a solid image with Image.new(). The mode, size, and fill color are specified in parameters."
   ]
  },
  {
   "cell_type": "code",
   "execution_count": 49,
   "id": "af73a62a",
   "metadata": {},
   "outputs": [
    {
     "data": {
      "image/png": "[encoded data removed]",
      "text/plain": [
       "<PIL.Image.Image image mode=RGB size=500x300 at 0x55C5188>"
      ]
     },
     "execution_count": 49,
     "metadata": {},
     "output_type": "execute_result"
    }
   ],
   "source": [
    "from IPython.display import Image\n",
    "draw.ellipse((100, 100, 150, 200), fill=(255, 0, 0), outline=(0, 0, 0))\n",
    "draw.rectangle((200, 100, 300, 200), fill=(0, 192, 192), outline=(255, 255, 255))\n",
    "draw.line((350, 200, 450, 100), fill=(255, 255, 0), width=10)\n",
    "im"
   ]
  },
  {
   "cell_type": "raw",
   "id": "3664fa6a",
   "metadata": {},
   "source": []
  },
  {
   "cell_type": "raw",
   "id": "6975828e",
   "metadata": {},
   "source": [
    "8. Image objects do not have drawing methods. What kind of object does? How do you get this kind of of object?"
   ]
  },
  {
   "cell_type": "code",
   "execution_count": null,
   "id": "a5c44f28",
   "metadata": {},
   "outputs": [],
   "source": [
    "ImageDraw objects have drawing tools.\n",
    "we have to import it and using its instance we can create the required shapes out of it. on top of the \n",
    "image canvas as shown above"
   ]
  },
  {
   "cell_type": "code",
   "execution_count": null,
   "id": "e2ffd515",
   "metadata": {},
   "outputs": [],
   "source": []
  }
 ],
 "metadata": {
  "kernelspec": {
   "display_name": "Python 3",
   "language": "python",
   "name": "python3"
  },
  "language_info": {
   "codemirror_mode": {
    "name": "ipython",
    "version": 3
   },
   "file_extension": ".py",
   "mimetype": "text/x-python",
   "name": "python",
   "nbconvert_exporter": "python",
   "pygments_lexer": "ipython3",
   "version": "3.7.10"
  }
 },
 "nbformat": 4,
 "nbformat_minor": 5
}
